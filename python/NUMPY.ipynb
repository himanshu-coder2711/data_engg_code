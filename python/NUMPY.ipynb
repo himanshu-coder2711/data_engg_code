{
 "cells": [
  {
   "cell_type": "code",
   "execution_count": 1,
   "id": "9f52269d",
   "metadata": {},
   "outputs": [
    {
     "name": "stdout",
     "output_type": "stream",
     "text": [
      "Requirement already satisfied: numpy in /Users/himanshusingh/anaconda3/lib/python3.11/site-packages (1.24.3)\n",
      "Note: you may need to restart the kernel to use updated packages.\n"
     ]
    }
   ],
   "source": [
    "pip install numpy"
   ]
  },
  {
   "cell_type": "code",
   "execution_count": 1,
   "id": "4501e887",
   "metadata": {},
   "outputs": [],
   "source": [
    "import numpy as np"
   ]
  },
  {
   "cell_type": "code",
   "execution_count": 2,
   "id": "cfb5cb65",
   "metadata": {},
   "outputs": [
    {
     "name": "stdout",
     "output_type": "stream",
     "text": [
      "1.24.3\n"
     ]
    }
   ],
   "source": [
    "print(np.__version__)"
   ]
  },
  {
   "cell_type": "code",
   "execution_count": 4,
   "id": "adeddcb5",
   "metadata": {},
   "outputs": [
    {
     "data": {
      "text/plain": [
       "array([1, 2, 3])"
      ]
     },
     "execution_count": 4,
     "metadata": {},
     "output_type": "execute_result"
    }
   ],
   "source": [
    "arr1=np.array([1,2,3])\n",
    "arr1"
   ]
  },
  {
   "cell_type": "code",
   "execution_count": 5,
   "id": "a89207a1",
   "metadata": {},
   "outputs": [
    {
     "data": {
      "text/plain": [
       "1"
      ]
     },
     "execution_count": 5,
     "metadata": {},
     "output_type": "execute_result"
    }
   ],
   "source": [
    "#dimension of the array\n",
    "arr1.ndim"
   ]
  },
  {
   "cell_type": "code",
   "execution_count": 8,
   "id": "1dc04350",
   "metadata": {},
   "outputs": [
    {
     "data": {
      "text/plain": [
       "(3,)"
      ]
     },
     "execution_count": 8,
     "metadata": {},
     "output_type": "execute_result"
    }
   ],
   "source": [
    "#shape of array\n",
    "arr1.shape"
   ]
  },
  {
   "cell_type": "code",
   "execution_count": 6,
   "id": "03dde4f0",
   "metadata": {},
   "outputs": [
    {
     "data": {
      "text/plain": [
       "array([[-3,  2,  0],\n",
       "       [ 4,  9, -7]])"
      ]
     },
     "execution_count": 6,
     "metadata": {},
     "output_type": "execute_result"
    }
   ],
   "source": [
    "arr2=np.array([[-3,2,0],[4,9,-7]])\n",
    "arr2"
   ]
  },
  {
   "cell_type": "code",
   "execution_count": 7,
   "id": "8c0247ca",
   "metadata": {},
   "outputs": [
    {
     "data": {
      "text/plain": [
       "2"
      ]
     },
     "execution_count": 7,
     "metadata": {},
     "output_type": "execute_result"
    }
   ],
   "source": [
    "arr2.ndim"
   ]
  },
  {
   "cell_type": "code",
   "execution_count": 9,
   "id": "769b48cf",
   "metadata": {},
   "outputs": [
    {
     "data": {
      "text/plain": [
       "(2, 3)"
      ]
     },
     "execution_count": 9,
     "metadata": {},
     "output_type": "execute_result"
    }
   ],
   "source": [
    "arr2.shape"
   ]
  },
  {
   "cell_type": "code",
   "execution_count": 10,
   "id": "23a4550e",
   "metadata": {},
   "outputs": [
    {
     "data": {
      "text/plain": [
       "array([[[-3,  2,  0],\n",
       "        [ 4,  9, -7]]])"
      ]
     },
     "execution_count": 10,
     "metadata": {},
     "output_type": "execute_result"
    }
   ],
   "source": [
    "arr3=np.array([[[-3,2,0],[4,9,-7]]])\n",
    "arr3"
   ]
  },
  {
   "cell_type": "code",
   "execution_count": 11,
   "id": "36396dae",
   "metadata": {},
   "outputs": [
    {
     "data": {
      "text/plain": [
       "(1, 2, 3)"
      ]
     },
     "execution_count": 11,
     "metadata": {},
     "output_type": "execute_result"
    }
   ],
   "source": [
    "arr3.shape"
   ]
  },
  {
   "cell_type": "code",
   "execution_count": 12,
   "id": "90ee4434",
   "metadata": {},
   "outputs": [
    {
     "data": {
      "text/plain": [
       "3"
      ]
     },
     "execution_count": 12,
     "metadata": {},
     "output_type": "execute_result"
    }
   ],
   "source": [
    "arr3.ndim"
   ]
  },
  {
   "cell_type": "code",
   "execution_count": 13,
   "id": "29b3d2e7",
   "metadata": {},
   "outputs": [
    {
     "data": {
      "text/plain": [
       "array([[[ 2,  5,  6],\n",
       "        [ 9,  5,  7],\n",
       "        [ 2,  0,  1]],\n",
       "\n",
       "       [[-2, -5, -6],\n",
       "        [-9, -5, -7],\n",
       "        [-2,  0, -1]]])"
      ]
     },
     "execution_count": 13,
     "metadata": {},
     "output_type": "execute_result"
    }
   ],
   "source": [
    "arr4=np.array([[[2,5,6],[9,5,7],[2,0,1]],[[-2,-5,-6],[-9,-5,-7],[-2,0,-1]]])\n",
    "arr4"
   ]
  },
  {
   "cell_type": "code",
   "execution_count": 14,
   "id": "8f80195b",
   "metadata": {},
   "outputs": [
    {
     "data": {
      "text/plain": [
       "3"
      ]
     },
     "execution_count": 14,
     "metadata": {},
     "output_type": "execute_result"
    }
   ],
   "source": [
    "arr4.ndim"
   ]
  },
  {
   "cell_type": "code",
   "execution_count": 15,
   "id": "701873ff",
   "metadata": {},
   "outputs": [
    {
     "data": {
      "text/plain": [
       "(2, 3, 3)"
      ]
     },
     "execution_count": 15,
     "metadata": {},
     "output_type": "execute_result"
    }
   ],
   "source": [
    "arr4.shape"
   ]
  },
  {
   "cell_type": "code",
   "execution_count": 16,
   "id": "a87dacc6",
   "metadata": {},
   "outputs": [
    {
     "ename": "ValueError",
     "evalue": "setting an array element with a sequence. The requested array has an inhomogeneous shape after 1 dimensions. The detected shape was (2,) + inhomogeneous part.",
     "output_type": "error",
     "traceback": [
      "\u001b[0;31m---------------------------------------------------------------------------\u001b[0m",
      "\u001b[0;31mValueError\u001b[0m                                Traceback (most recent call last)",
      "Cell \u001b[0;32mIn[16], line 1\u001b[0m\n\u001b[0;32m----> 1\u001b[0m arr5\u001b[38;5;241m=\u001b[39mnp\u001b[38;5;241m.\u001b[39marray([[[\u001b[38;5;241m-\u001b[39m\u001b[38;5;241m2\u001b[39m,\u001b[38;5;241m0\u001b[39m,\u001b[38;5;241m4\u001b[39m],[\u001b[38;5;241m5\u001b[39m,\u001b[38;5;241m6\u001b[39m,\u001b[38;5;241m3\u001b[39m],[\u001b[38;5;241m9\u001b[39m,\u001b[38;5;241m2\u001b[39m,\u001b[38;5;241m4\u001b[39m]],[[\u001b[38;5;241m-\u001b[39m\u001b[38;5;241m3\u001b[39m,\u001b[38;5;241m-\u001b[39m\u001b[38;5;241m4\u001b[39m,\u001b[38;5;241m5\u001b[39m],[\u001b[38;5;241m-\u001b[39m\u001b[38;5;241m3\u001b[39m,\u001b[38;5;241m2\u001b[39m,\u001b[38;5;241m6\u001b[39m]]])\n\u001b[1;32m      2\u001b[0m arr5\n",
      "\u001b[0;31mValueError\u001b[0m: setting an array element with a sequence. The requested array has an inhomogeneous shape after 1 dimensions. The detected shape was (2,) + inhomogeneous part."
     ]
    }
   ],
   "source": [
    "arr5=np.array([[[-2,0,4],[5,6,3],[9,2,4]],[[-3,-4,5],[-3,2,6]]])\n",
    "arr5"
   ]
  },
  {
   "cell_type": "code",
   "execution_count": null,
   "id": "5be9cbf5",
   "metadata": {},
   "outputs": [],
   "source": [
    "#error becuse the shape of matrixisnot same"
   ]
  },
  {
   "cell_type": "code",
   "execution_count": 18,
   "id": "03f4bbad",
   "metadata": {},
   "outputs": [
    {
     "data": {
      "text/plain": [
       "(1, 6)"
      ]
     },
     "execution_count": 18,
     "metadata": {},
     "output_type": "execute_result"
    }
   ],
   "source": [
    "arr5=np.array([[1,2,3,4,5,6]])\n",
    "arr5.shape"
   ]
  },
  {
   "cell_type": "code",
   "execution_count": 24,
   "id": "6b109cad",
   "metadata": {},
   "outputs": [
    {
     "data": {
      "text/plain": [
       "(1, 1, 6)"
      ]
     },
     "execution_count": 24,
     "metadata": {},
     "output_type": "execute_result"
    }
   ],
   "source": [
    "arr6=np.array([[[1,2,3,4,5,6]]])\n",
    "arr6.shape"
   ]
  },
  {
   "cell_type": "code",
   "execution_count": 25,
   "id": "29ddb1ec",
   "metadata": {},
   "outputs": [
    {
     "data": {
      "text/plain": [
       "(6, 1)"
      ]
     },
     "execution_count": 25,
     "metadata": {},
     "output_type": "execute_result"
    }
   ],
   "source": [
    "arr7=np.array([[1],[2],[3],[4],[5],[6]])\n",
    "arr7.shape"
   ]
  },
  {
   "cell_type": "code",
   "execution_count": 3,
   "id": "ec32d81f",
   "metadata": {},
   "outputs": [
    {
     "name": "stdout",
     "output_type": "stream",
     "text": [
      "[1 2 3 4 5 6]\n"
     ]
    },
    {
     "data": {
      "text/plain": [
       "array([1, 2, 3, 4, 5, 6])"
      ]
     },
     "execution_count": 3,
     "metadata": {},
     "output_type": "execute_result"
    }
   ],
   "source": [
    "arr8=np.array(range(1,7))\n",
    "print(arr8)\n",
    "arr9=np.arange(1,7)\n",
    "arr9"
   ]
  },
  {
   "cell_type": "code",
   "execution_count": 6,
   "id": "82de1276",
   "metadata": {},
   "outputs": [
    {
     "name": "stdout",
     "output_type": "stream",
     "text": [
      "[ 3  6  9 12 15 18 21 24 27 30 33 36]\n"
     ]
    },
    {
     "data": {
      "text/plain": [
       "array([ 3,  6,  9, 12, 15, 18, 21, 24, 27, 30, 33, 36])"
      ]
     },
     "execution_count": 6,
     "metadata": {},
     "output_type": "execute_result"
    }
   ],
   "source": [
    "arr8=np.array(range(3,37,3))\n",
    "print(arr8)\n",
    "arr9=np.arange(3,37,3)\n",
    "arr9\n"
   ]
  },
  {
   "cell_type": "code",
   "execution_count": 13,
   "id": "3db37a1a",
   "metadata": {},
   "outputs": [
    {
     "data": {
      "text/plain": [
       "(1, 2, 6)"
      ]
     },
     "execution_count": 13,
     "metadata": {},
     "output_type": "execute_result"
    }
   ],
   "source": [
    "#shape(1,2,6)\n",
    "arr9=np.array([[[3,6,9,12,15,18],[21,24,27,30,33,36]]])\n",
    "arr9.shape\n",
    "#arr9.ndim"
   ]
  },
  {
   "cell_type": "code",
   "execution_count": 8,
   "id": "219edc26",
   "metadata": {},
   "outputs": [
    {
     "data": {
      "text/plain": [
       "(1, 6, 2)"
      ]
     },
     "execution_count": 8,
     "metadata": {},
     "output_type": "execute_result"
    }
   ],
   "source": [
    "#shape(1,6,2)\n",
    "arr9=np.array([[[3,6],[9,12],[15,18],[21,24],[27,30],[33,36]]])\n",
    "arr9.shape\n"
   ]
  },
  {
   "cell_type": "code",
   "execution_count": 9,
   "id": "30e9586b",
   "metadata": {},
   "outputs": [
    {
     "data": {
      "text/plain": [
       "array([[[ 3,  6,  9],\n",
       "        [12, 15, 18]],\n",
       "\n",
       "       [[21, 24, 27],\n",
       "        [30, 33, 36]]])"
      ]
     },
     "execution_count": 9,
     "metadata": {},
     "output_type": "execute_result"
    }
   ],
   "source": [
    "#reshape\n",
    "array10=arr8.reshape(2,2,3)\n",
    "array10.shape\n",
    "array10"
   ]
  },
  {
   "cell_type": "code",
   "execution_count": null,
   "id": "cb932aea",
   "metadata": {},
   "outputs": [],
   "source": []
  },
  {
   "cell_type": "code",
   "execution_count": null,
   "id": "7d24e2e8",
   "metadata": {},
   "outputs": [],
   "source": []
  },
  {
   "cell_type": "code",
   "execution_count": null,
   "id": "f0fb33aa",
   "metadata": {},
   "outputs": [],
   "source": []
  },
  {
   "cell_type": "code",
   "execution_count": 33,
   "id": "b2fe7c31",
   "metadata": {},
   "outputs": [
    {
     "data": {
      "text/plain": [
       "(2, 3, 2)"
      ]
     },
     "execution_count": 33,
     "metadata": {},
     "output_type": "execute_result"
    }
   ],
   "source": [
    "arr10=arr8.reshape(2,3,2)\n",
    "arr10.shape"
   ]
  },
  {
   "cell_type": "code",
   "execution_count": 37,
   "id": "7ea7f62a",
   "metadata": {},
   "outputs": [
    {
     "data": {
      "text/plain": [
       "12"
      ]
     },
     "execution_count": 37,
     "metadata": {},
     "output_type": "execute_result"
    }
   ],
   "source": [
    "#find element in the array\n",
    "arr10.size"
   ]
  },
  {
   "cell_type": "code",
   "execution_count": 38,
   "id": "8028d541",
   "metadata": {},
   "outputs": [
    {
     "data": {
      "text/plain": [
       "dtype('int64')"
      ]
     },
     "execution_count": 38,
     "metadata": {},
     "output_type": "execute_result"
    }
   ],
   "source": [
    "#find data type\n",
    "arr10.dtype"
   ]
  },
  {
   "cell_type": "code",
   "execution_count": 39,
   "id": "12ecc950",
   "metadata": {},
   "outputs": [
    {
     "data": {
      "text/plain": [
       "dtype('float64')"
      ]
     },
     "execution_count": 39,
     "metadata": {},
     "output_type": "execute_result"
    }
   ],
   "source": [
    "arr11=np.array([1.2,1,3,1.4,2.6,3.7])\n",
    "arr11.dtype"
   ]
  },
  {
   "cell_type": "code",
   "execution_count": 16,
   "id": "d32755cd",
   "metadata": {},
   "outputs": [
    {
     "data": {
      "text/plain": [
       "dtype('float32')"
      ]
     },
     "execution_count": 16,
     "metadata": {},
     "output_type": "execute_result"
    }
   ],
   "source": [
    "#create an array with float data type\n",
    "#arr12=np.array([1,5,6],dtype=float)\n",
    "#print(arr12.dtype)\n",
    "#print(arr12.nbytes)\n",
    "arr12=np.array([1,2,3,4,5],dtype=np.float32)\n",
    "arr12.dtype"
   ]
  },
  {
   "cell_type": "code",
   "execution_count": 42,
   "id": "15b87a03",
   "metadata": {},
   "outputs": [
    {
     "data": {
      "text/plain": [
       "dtype('float32')"
      ]
     },
     "execution_count": 42,
     "metadata": {},
     "output_type": "execute_result"
    }
   ],
   "source": [
    "arr12=np.array([1,5,6],dtype=np.float32)\n",
    "arr12.dtype"
   ]
  },
  {
   "cell_type": "code",
   "execution_count": null,
   "id": "f7193f80",
   "metadata": {},
   "outputs": [],
   "source": [
    "arr12=np.array([1,5,6],dtype=np.float16)\n",
    "arr12.dtype"
   ]
  },
  {
   "cell_type": "code",
   "execution_count": null,
   "id": "53363fb8",
   "metadata": {},
   "outputs": [],
   "source": [
    "arr12=np.array([1,5,6],dtype=np.int16)\n",
    "arr12.dtype"
   ]
  },
  {
   "cell_type": "code",
   "execution_count": null,
   "id": "3ccc2d09",
   "metadata": {},
   "outputs": [],
   "source": [
    "arr12=np.array([1,5,6],dtype=np.int8)\n",
    "arr12.dtype"
   ]
  },
  {
   "cell_type": "code",
   "execution_count": 53,
   "id": "21be8fc6",
   "metadata": {},
   "outputs": [
    {
     "name": "stdout",
     "output_type": "stream",
     "text": [
      "float64\n",
      "40\n"
     ]
    }
   ],
   "source": [
    "arr13=np.array([1,5,6,7,8],dtype=np.float64)\n",
    "print(arr13.dtype)\n",
    "print(arr13.nbytes)"
   ]
  },
  {
   "cell_type": "code",
   "execution_count": 58,
   "id": "2e82b1b8",
   "metadata": {},
   "outputs": [
    {
     "data": {
      "text/plain": [
       "array([[[ 1,  2,  3],\n",
       "        [ 4,  5,  6]],\n",
       "\n",
       "       [[ 7,  8,  9],\n",
       "        [10, 11, 12]]])"
      ]
     },
     "execution_count": 58,
     "metadata": {},
     "output_type": "execute_result"
    }
   ],
   "source": [
    "arr14=np.array([range(1,13)]).reshape(2,2,3)\n",
    "arr14"
   ]
  },
  {
   "cell_type": "code",
   "execution_count": 64,
   "id": "0f60d9c9",
   "metadata": {},
   "outputs": [
    {
     "data": {
      "text/plain": [
       "9"
      ]
     },
     "execution_count": 64,
     "metadata": {},
     "output_type": "execute_result"
    }
   ],
   "source": [
    "#read elemet 9\n",
    "arr14[1][0][2]"
   ]
  },
  {
   "cell_type": "code",
   "execution_count": 66,
   "id": "15042440",
   "metadata": {},
   "outputs": [
    {
     "data": {
      "text/plain": [
       "11"
      ]
     },
     "execution_count": 66,
     "metadata": {},
     "output_type": "execute_result"
    }
   ],
   "source": [
    "#read11\n",
    "arr14[1][1][1]"
   ]
  },
  {
   "cell_type": "code",
   "execution_count": 67,
   "id": "54852c04",
   "metadata": {},
   "outputs": [
    {
     "data": {
      "text/plain": [
       "6"
      ]
     },
     "execution_count": 67,
     "metadata": {},
     "output_type": "execute_result"
    }
   ],
   "source": [
    "#read  6\n",
    "arr14[0][1][2]"
   ]
  },
  {
   "cell_type": "code",
   "execution_count": null,
   "id": "6b9db525",
   "metadata": {},
   "outputs": [],
   "source": [
    "#read4\n",
    "#read2"
   ]
  },
  {
   "cell_type": "code",
   "execution_count": 17,
   "id": "28f616cc",
   "metadata": {},
   "outputs": [
    {
     "name": "stdout",
     "output_type": "stream",
     "text": [
      "[ 2  4  6  8 10]\n"
     ]
    },
    {
     "data": {
      "text/plain": [
       "array([[ 2],\n",
       "       [ 4],\n",
       "       [ 6],\n",
       "       [ 8],\n",
       "       [10]])"
      ]
     },
     "execution_count": 17,
     "metadata": {},
     "output_type": "execute_result"
    }
   ],
   "source": [
    "arr15=np.array(range(2,11,2))\n",
    "print(arr15)\n",
    "arr15.reshape(5,1)"
   ]
  },
  {
   "cell_type": "code",
   "execution_count": 70,
   "id": "22341273",
   "metadata": {},
   "outputs": [
    {
     "data": {
      "text/plain": [
       "array([[ 2],\n",
       "       [ 4],\n",
       "       [ 6],\n",
       "       [ 8],\n",
       "       [10]])"
      ]
     },
     "execution_count": 70,
     "metadata": {},
     "output_type": "execute_result"
    }
   ],
   "source": [
    "arr15.reshape(5,1)"
   ]
  },
  {
   "cell_type": "code",
   "execution_count": 89,
   "id": "6705167f",
   "metadata": {},
   "outputs": [
    {
     "name": "stdout",
     "output_type": "stream",
     "text": [
      "[[ 2]\n",
      " [ 4]\n",
      " [ 6]\n",
      " [ 8]\n",
      " [10]]\n"
     ]
    }
   ],
   "source": [
    "arr15=np.array(range(2,11,2)).reshape(5,1)\n",
    "print(arr15)\n"
   ]
  },
  {
   "cell_type": "code",
   "execution_count": 88,
   "id": "b3a9b06e",
   "metadata": {},
   "outputs": [
    {
     "data": {
      "text/plain": [
       "array([0., 0., 0.])"
      ]
     },
     "execution_count": 88,
     "metadata": {},
     "output_type": "execute_result"
    }
   ],
   "source": [
    "#zero array\n",
    "np.zeros(3)"
   ]
  },
  {
   "cell_type": "code",
   "execution_count": 74,
   "id": "05d1ece5",
   "metadata": {},
   "outputs": [
    {
     "data": {
      "text/plain": [
       "array([[[0., 0., 0., 0., 0.],\n",
       "        [0., 0., 0., 0., 0.],\n",
       "        [0., 0., 0., 0., 0.]],\n",
       "\n",
       "       [[0., 0., 0., 0., 0.],\n",
       "        [0., 0., 0., 0., 0.],\n",
       "        [0., 0., 0., 0., 0.]]])"
      ]
     },
     "execution_count": 74,
     "metadata": {},
     "output_type": "execute_result"
    }
   ],
   "source": [
    "np.zeros((2,3,5))"
   ]
  },
  {
   "cell_type": "code",
   "execution_count": 75,
   "id": "b60f8524",
   "metadata": {},
   "outputs": [
    {
     "data": {
      "text/plain": [
       "array([1., 1., 1., 1.])"
      ]
     },
     "execution_count": 75,
     "metadata": {},
     "output_type": "execute_result"
    }
   ],
   "source": [
    "#allone allay\n",
    "np.ones(4)"
   ]
  },
  {
   "cell_type": "code",
   "execution_count": 76,
   "id": "5cc1d048",
   "metadata": {},
   "outputs": [
    {
     "data": {
      "text/plain": [
       "array([[1., 1., 1., 1.],\n",
       "       [1., 1., 1., 1.],\n",
       "       [1., 1., 1., 1.],\n",
       "       [1., 1., 1., 1.],\n",
       "       [1., 1., 1., 1.]])"
      ]
     },
     "execution_count": 76,
     "metadata": {},
     "output_type": "execute_result"
    }
   ],
   "source": [
    "np.ones((5,4))"
   ]
  },
  {
   "cell_type": "code",
   "execution_count": 77,
   "id": "0b2f91d4",
   "metadata": {},
   "outputs": [
    {
     "data": {
      "text/plain": [
       "array([[1, 1, 1, 1],\n",
       "       [1, 1, 1, 1],\n",
       "       [1, 1, 1, 1],\n",
       "       [1, 1, 1, 1],\n",
       "       [1, 1, 1, 1]], dtype=int8)"
      ]
     },
     "execution_count": 77,
     "metadata": {},
     "output_type": "execute_result"
    }
   ],
   "source": [
    "np.ones((5,4),dtype=np.int8)"
   ]
  },
  {
   "cell_type": "code",
   "execution_count": 21,
   "id": "3b8b7a53",
   "metadata": {},
   "outputs": [
    {
     "data": {
      "text/plain": [
       "array([[5, 5, 5, 5],\n",
       "       [5, 5, 5, 5],\n",
       "       [5, 5, 5, 5],\n",
       "       [5, 5, 5, 5],\n",
       "       [5, 5, 5, 5]], dtype=int8)"
      ]
     },
     "execution_count": 21,
     "metadata": {},
     "output_type": "execute_result"
    }
   ],
   "source": [
    "np.ones((5,4),dtype=np.int8)*5"
   ]
  },
  {
   "cell_type": "code",
   "execution_count": 79,
   "id": "9aea2891",
   "metadata": {},
   "outputs": [
    {
     "data": {
      "text/plain": [
       "array([5, 5, 5])"
      ]
     },
     "execution_count": 79,
     "metadata": {},
     "output_type": "execute_result"
    }
   ],
   "source": [
    "#full array\n",
    "np.full((3),5)"
   ]
  },
  {
   "cell_type": "code",
   "execution_count": 80,
   "id": "96a18b51",
   "metadata": {},
   "outputs": [
    {
     "data": {
      "text/plain": [
       "array([[0.986, 0.986, 0.986, 0.986],\n",
       "       [0.986, 0.986, 0.986, 0.986],\n",
       "       [0.986, 0.986, 0.986, 0.986]])"
      ]
     },
     "execution_count": 80,
     "metadata": {},
     "output_type": "execute_result"
    }
   ],
   "source": [
    "np.full((3,4),0.986)"
   ]
  },
  {
   "cell_type": "code",
   "execution_count": 81,
   "id": "898e0844",
   "metadata": {},
   "outputs": [
    {
     "data": {
      "text/plain": [
       "array([[[0.986, 0.986, 0.986, 0.986],\n",
       "        [0.986, 0.986, 0.986, 0.986],\n",
       "        [0.986, 0.986, 0.986, 0.986]],\n",
       "\n",
       "       [[0.986, 0.986, 0.986, 0.986],\n",
       "        [0.986, 0.986, 0.986, 0.986],\n",
       "        [0.986, 0.986, 0.986, 0.986]],\n",
       "\n",
       "       [[0.986, 0.986, 0.986, 0.986],\n",
       "        [0.986, 0.986, 0.986, 0.986],\n",
       "        [0.986, 0.986, 0.986, 0.986]],\n",
       "\n",
       "       [[0.986, 0.986, 0.986, 0.986],\n",
       "        [0.986, 0.986, 0.986, 0.986],\n",
       "        [0.986, 0.986, 0.986, 0.986]],\n",
       "\n",
       "       [[0.986, 0.986, 0.986, 0.986],\n",
       "        [0.986, 0.986, 0.986, 0.986],\n",
       "        [0.986, 0.986, 0.986, 0.986]]])"
      ]
     },
     "execution_count": 81,
     "metadata": {},
     "output_type": "execute_result"
    }
   ],
   "source": [
    "np.full((5,3,4),0.986)"
   ]
  },
  {
   "cell_type": "code",
   "execution_count": 83,
   "id": "053a9156",
   "metadata": {},
   "outputs": [
    {
     "data": {
      "text/plain": [
       "array([ 0. ,  2.5,  5. ,  7.5, 10. ])"
      ]
     },
     "execution_count": 83,
     "metadata": {},
     "output_type": "execute_result"
    }
   ],
   "source": [
    "#Line Space\n",
    "#it will create equalinterval value\n",
    "np.linspace(0,10,5)"
   ]
  },
  {
   "cell_type": "code",
   "execution_count": 84,
   "id": "b13044e3",
   "metadata": {},
   "outputs": [
    {
     "data": {
      "text/plain": [
       "array([ 0.        ,  0.76923077,  1.53846154,  2.30769231,  3.07692308,\n",
       "        3.84615385,  4.61538462,  5.38461538,  6.15384615,  6.92307692,\n",
       "        7.69230769,  8.46153846,  9.23076923, 10.        ])"
      ]
     },
     "execution_count": 84,
     "metadata": {},
     "output_type": "execute_result"
    }
   ],
   "source": [
    "np.linspace(0,10,14)"
   ]
  },
  {
   "cell_type": "code",
   "execution_count": 85,
   "id": "f35239bf",
   "metadata": {},
   "outputs": [
    {
     "data": {
      "text/plain": [
       "array([ 40.,  52.,  64.,  76.,  88., 100.])"
      ]
     },
     "execution_count": 85,
     "metadata": {},
     "output_type": "execute_result"
    }
   ],
   "source": [
    "np.linspace(40,100,6)"
   ]
  },
  {
   "cell_type": "code",
   "execution_count": 86,
   "id": "9bfe743b",
   "metadata": {},
   "outputs": [
    {
     "data": {
      "text/plain": [
       "array([[[ 40.],\n",
       "        [ 52.]],\n",
       "\n",
       "       [[ 64.],\n",
       "        [ 76.]],\n",
       "\n",
       "       [[ 88.],\n",
       "        [100.]]])"
      ]
     },
     "execution_count": 86,
     "metadata": {},
     "output_type": "execute_result"
    }
   ],
   "source": [
    "np.linspace(40,100,6).reshape(3,2,1)"
   ]
  },
  {
   "cell_type": "code",
   "execution_count": 90,
   "id": "acf95caf",
   "metadata": {},
   "outputs": [
    {
     "data": {
      "text/plain": [
       "array([[1., 0., 0., 0., 0.],\n",
       "       [0., 1., 0., 0., 0.],\n",
       "       [0., 0., 1., 0., 0.],\n",
       "       [0., 0., 0., 1., 0.],\n",
       "       [0., 0., 0., 0., 1.]])"
      ]
     },
     "execution_count": 90,
     "metadata": {},
     "output_type": "execute_result"
    }
   ],
   "source": [
    "#identity metrix\n",
    "np.eye(5)"
   ]
  },
  {
   "cell_type": "code",
   "execution_count": 91,
   "id": "f7123569",
   "metadata": {},
   "outputs": [
    {
     "data": {
      "text/plain": [
       "array([[1., 0., 0.],\n",
       "       [0., 1., 0.],\n",
       "       [0., 0., 1.]])"
      ]
     },
     "execution_count": 91,
     "metadata": {},
     "output_type": "execute_result"
    }
   ],
   "source": [
    "np.eye(3)"
   ]
  },
  {
   "cell_type": "code",
   "execution_count": 2,
   "id": "b3d499da",
   "metadata": {},
   "outputs": [
    {
     "data": {
      "text/plain": [
       "array([ 0,  1,  2,  3,  4,  5,  6,  7,  8,  9, 10, 11, 12, 13, 14, 15, 16,\n",
       "       17, 18, 19, 20, 21, 22, 23, 24, 25, 26, 27, 28, 29, 30, 31, 32, 33,\n",
       "       34, 35, 36, 37, 38, 39, 40, 41, 42, 43, 44, 45, 46, 47, 48, 49, 50,\n",
       "       51, 52, 53, 54, 55, 56, 57, 58, 59, 60, 61, 62, 63, 64, 65, 66, 67,\n",
       "       68, 69, 70, 71, 72, 73, 74, 75, 76, 77, 78, 79, 80, 81, 82, 83, 84,\n",
       "       85, 86, 87, 88, 89, 90, 91, 92, 93, 94, 95, 96, 97, 98, 99])"
      ]
     },
     "execution_count": 2,
     "metadata": {},
     "output_type": "execute_result"
    }
   ],
   "source": [
    "np_array1=np.arange(100)\n",
    "np_array1"
   ]
  },
  {
   "cell_type": "code",
   "execution_count": 5,
   "id": "98dd0dee",
   "metadata": {},
   "outputs": [
    {
     "data": {
      "text/plain": [
       "array([ 0.,  1.,  2.,  3.,  4.,  5.,  6.,  7.,  8.,  9., 10., 11., 12.,\n",
       "       13., 14., 15., 16., 17., 18., 19., 20., 21., 22., 23., 24., 25.,\n",
       "       26., 27., 28., 29., 30., 31., 32., 33., 34., 35., 36., 37., 38.,\n",
       "       39., 40., 41., 42., 43., 44., 45., 46., 47., 48., 49., 50., 51.,\n",
       "       52., 53., 54., 55., 56., 57., 58., 59., 60., 61., 62., 63., 64.,\n",
       "       65., 66., 67., 68., 69., 70., 71., 72., 73., 74., 75., 76., 77.,\n",
       "       78., 79., 80., 81., 82., 83., 84., 85., 86., 87., 88., 89., 90.,\n",
       "       91., 92., 93., 94., 95., 96., 97., 98., 99.], dtype=float16)"
      ]
     },
     "execution_count": 5,
     "metadata": {},
     "output_type": "execute_result"
    }
   ],
   "source": [
    "arr2=np.arange(100,dtype=np.float16)\n",
    "arr2"
   ]
  },
  {
   "cell_type": "code",
   "execution_count": 6,
   "id": "f5dfff76",
   "metadata": {},
   "outputs": [
    {
     "name": "stdout",
     "output_type": "stream",
     "text": [
      "15.652179718017578\n"
     ]
    }
   ],
   "source": [
    "import time\n",
    "test=100000\n",
    "\n",
    "list1=range(test)\n",
    "list2=range(test)\n",
    "\n",
    "start=time.time()\n",
    "res=[x+y for x,y in zip(list1,list2)]\n",
    "stop=time.time()\n",
    "time_taken=stop-start\n",
    "print(time_taken*1000)"
   ]
  },
  {
   "cell_type": "code",
   "execution_count": 8,
   "id": "51e0c73b",
   "metadata": {},
   "outputs": [
    {
     "name": "stdout",
     "output_type": "stream",
     "text": [
      "2.3279190063476562\n"
     ]
    }
   ],
   "source": [
    "import time\n",
    "test=100000\n",
    "\n",
    "arr1=np.arange(test)\n",
    "arr2=np.arange(test)\n",
    "\n",
    "start=time.time()\n",
    "res=arr1+arr2\n",
    "stop=time.time()\n",
    "time_taken=stop-start\n",
    "print(time_taken*1000)"
   ]
  },
  {
   "cell_type": "code",
   "execution_count": null,
   "id": "33906846",
   "metadata": {},
   "outputs": [],
   "source": [
    "##shape=dimension of thearray in all axis\n",
    "#size=total no. of element in the array\n",
    "#ndim=number of axis/dimension\n",
    "#"
   ]
  },
  {
   "cell_type": "code",
   "execution_count": 12,
   "id": "a3f72e56",
   "metadata": {},
   "outputs": [
    {
     "name": "stdout",
     "output_type": "stream",
     "text": [
      "[98 76 65 85 90]\n",
      "1\n",
      "5\n",
      "40\n",
      "(5,)\n"
     ]
    }
   ],
   "source": [
    "student_marks=np.array([98,76,65,85,90])\n",
    "print(student_marks)\n",
    "print(student_marks.ndim)\n",
    "print(student_marks.size)\n",
    "print(student_marks.nbytes)\n",
    "print(student_marks.shape)"
   ]
  },
  {
   "cell_type": "code",
   "execution_count": 14,
   "id": "a0b307de",
   "metadata": {},
   "outputs": [
    {
     "name": "stdout",
     "output_type": "stream",
     "text": [
      "[[ 28 100  31  82  35]\n",
      " [ 86  42  25  50  70]\n",
      " [ 89  67  42  73  49]]\n",
      "15\n",
      "(3, 5)\n",
      "2\n",
      "15\n"
     ]
    }
   ],
   "source": [
    "#student1=np.array([28,100,31,82,35]\n",
    "#student2=np.array(86,42,25,50,70)\n",
    "#student3=np.array(89,67,42,73,49)\n",
    "student=np.array([[28,100,31,82,35],[86,42,25,50,70],[89,67,42,73,49]])\n",
    "print(student)\n",
    "print(student.size)\n",
    "print(student.shape)\n",
    "print(student.ndim)\n",
    "print(student.size)\n"
   ]
  },
  {
   "cell_type": "code",
   "execution_count": null,
   "id": "af289a5d",
   "metadata": {},
   "outputs": [],
   "source": [
    "batch70=np.array([40,52,51,60,70],[30,42,35,80,70],[])"
   ]
  },
  {
   "cell_type": "code",
   "execution_count": 16,
   "id": "8854e7b5",
   "metadata": {},
   "outputs": [
    {
     "data": {
      "text/plain": [
       "array([[0., 0., 0.],\n",
       "       [0., 0., 0.]])"
      ]
     },
     "execution_count": 16,
     "metadata": {},
     "output_type": "execute_result"
    }
   ],
   "source": [
    "np.zeros((2,3))"
   ]
  },
  {
   "cell_type": "code",
   "execution_count": 19,
   "id": "9107e1ad",
   "metadata": {},
   "outputs": [
    {
     "name": "stdout",
     "output_type": "stream",
     "text": [
      "[[1. 0. 0.]\n",
      " [0. 1. 0.]\n",
      " [0. 0. 1.]]\n",
      "float64\n"
     ]
    }
   ],
   "source": [
    "arr1=np.eye(3)\n",
    "print(arr1)\n",
    "print(arr1.dtype)"
   ]
  },
  {
   "cell_type": "code",
   "execution_count": 21,
   "id": "64f150dc",
   "metadata": {},
   "outputs": [
    {
     "name": "stdout",
     "output_type": "stream",
     "text": [
      "[[1 0 0]\n",
      " [0 1 0]\n",
      " [0 0 1]]\n",
      "int8\n"
     ]
    }
   ],
   "source": [
    "arr1=np.eye(3,dtype=np.int8)\n",
    "print(arr1)\n",
    "print(arr1.dtype)"
   ]
  },
  {
   "cell_type": "code",
   "execution_count": 25,
   "id": "3d87f0c1",
   "metadata": {},
   "outputs": [
    {
     "name": "stdout",
     "output_type": "stream",
     "text": [
      "[[2 0 0 0]\n",
      " [0 4 0 0]\n",
      " [0 0 5 0]\n",
      " [0 0 0 6]]\n"
     ]
    }
   ],
   "source": [
    "arr1=np.diag((2,4,5,6))\n",
    "print(arr1)"
   ]
  },
  {
   "cell_type": "code",
   "execution_count": 26,
   "id": "2944e7b1",
   "metadata": {},
   "outputs": [
    {
     "data": {
      "text/plain": [
       "array([[2, 0, 0, 0],\n",
       "       [0, 4, 0, 0],\n",
       "       [0, 0, 6, 0],\n",
       "       [0, 0, 0, 8]])"
      ]
     },
     "execution_count": 26,
     "metadata": {},
     "output_type": "execute_result"
    }
   ],
   "source": [
    "np.diag(np.arange(2,10,2))"
   ]
  },
  {
   "cell_type": "code",
   "execution_count": 27,
   "id": "f7314cdb",
   "metadata": {},
   "outputs": [
    {
     "name": "stdout",
     "output_type": "stream",
     "text": [
      "[[5 0 0]\n",
      " [0 4 0]\n",
      " [0 0 3]]\n"
     ]
    }
   ],
   "source": [
    "a=np.ones((3,3),dtype=int)\n",
    "b=np.diag(np.arange(5,2,-1))\n",
    "c=a*b\n",
    "print(c)"
   ]
  },
  {
   "cell_type": "code",
   "execution_count": 29,
   "id": "4c3ad33a",
   "metadata": {},
   "outputs": [
    {
     "data": {
      "text/plain": [
       "array([ 0.        ,  3.33333333,  6.66666667, 10.        , 13.33333333,\n",
       "       16.66666667, 20.        , 23.33333333, 26.66666667, 30.        ])"
      ]
     },
     "execution_count": 29,
     "metadata": {},
     "output_type": "execute_result"
    }
   ],
   "source": [
    "np.linspace(0,30,10)"
   ]
  },
  {
   "cell_type": "code",
   "execution_count": 34,
   "id": "78dc87e5",
   "metadata": {},
   "outputs": [
    {
     "name": "stdout",
     "output_type": "stream",
     "text": [
      "[ 2.    5.7  84.   72.   65.34]\n",
      "float64\n",
      "40\n",
      "1\n"
     ]
    }
   ],
   "source": [
    "arr2=np.array([2,5.7,84,72,65.34])\n",
    "print(arr2)\n",
    "print(arr2.dtype)\n",
    "print(arr2.nbytes)\n",
    "print(arr2.ndim)"
   ]
  },
  {
   "cell_type": "code",
   "execution_count": 36,
   "id": "855a171a",
   "metadata": {},
   "outputs": [
    {
     "name": "stdout",
     "output_type": "stream",
     "text": [
      "[[ 2.  ]\n",
      " [ 5.7 ]\n",
      " [84.  ]\n",
      " [72.  ]\n",
      " [65.34]]\n",
      "float64\n",
      "40\n",
      "(5, 1)\n",
      "2\n"
     ]
    }
   ],
   "source": [
    "#2darray\n",
    "arr2=np.array([[2],[5.7],[84],[72],[65.34]])\n",
    "print(arr2)\n",
    "print(arr2.dtype)\n",
    "print(arr2.nbytes)\n",
    "print(arr2.shape)\n",
    "print(arr2.ndim)"
   ]
  },
  {
   "cell_type": "code",
   "execution_count": 35,
   "id": "6e1b37c4",
   "metadata": {},
   "outputs": [
    {
     "name": "stdout",
     "output_type": "stream",
     "text": [
      "[ 2 57 84 72 65]\n",
      "int64\n",
      "40\n",
      "1\n"
     ]
    }
   ],
   "source": [
    "arr2=np.array([2,57,84,72,65])\n",
    "print(arr2)\n",
    "print(arr2.dtype)\n",
    "print(arr2.nbytes)\n",
    "print(arr2.ndim)"
   ]
  },
  {
   "cell_type": "code",
   "execution_count": 22,
   "id": "ee5078d0",
   "metadata": {},
   "outputs": [
    {
     "name": "stdout",
     "output_type": "stream",
     "text": [
      "[45 34 33]\n",
      "[45 31 32]\n",
      "[90 65 65]\n",
      "int16\n"
     ]
    }
   ],
   "source": [
    "arr3=np.array([45,34,33],dtype=np.int16)\n",
    "print(arr3)\n",
    "arr4=np.array([45,31,32],dtype=np.int8)\n",
    "print(arr4)\n",
    "arr5=arr3+arr4\n",
    "print(arr5)\n",
    "print(arr5.dtype)"
   ]
  },
  {
   "cell_type": "code",
   "execution_count": 48,
   "id": "59fe421c",
   "metadata": {},
   "outputs": [
    {
     "name": "stdout",
     "output_type": "stream",
     "text": [
      "[45 34 33]\n",
      "[45 31 32]\n",
      "[45 34 33 45 31 32]\n",
      "int16\n"
     ]
    }
   ],
   "source": [
    "arr3=np.array([45,34,33],dtype=np.int16)\n",
    "print(arr3)\n",
    "arr4=np.array([45,31,32],dtype=np.int8)\n",
    "print(arr4)\n",
    "arr5=np.concatenate((arr3,arr4))\n",
    "print(arr5)\n",
    "print(arr5.dtype)"
   ]
  },
  {
   "cell_type": "code",
   "execution_count": 52,
   "id": "84bf8eab",
   "metadata": {},
   "outputs": [
    {
     "data": {
      "text/plain": [
       "array([[0.66008505, 0.12301417, 0.46870266],\n",
       "       [0.21758431, 0.55711007, 0.35463947]])"
      ]
     },
     "execution_count": 52,
     "metadata": {},
     "output_type": "execute_result"
    }
   ],
   "source": [
    "#create some random data\n",
    "np.random.rand(2,3)"
   ]
  },
  {
   "cell_type": "code",
   "execution_count": 53,
   "id": "cc700a04",
   "metadata": {},
   "outputs": [
    {
     "data": {
      "text/plain": [
       "array([[0.55649639, 0.05921536, 0.59291271],\n",
       "       [0.33542564, 0.00611881, 0.04921399]])"
      ]
     },
     "execution_count": 53,
     "metadata": {},
     "output_type": "execute_result"
    }
   ],
   "source": [
    "np.random.rand(2,3)"
   ]
  },
  {
   "cell_type": "code",
   "execution_count": 35,
   "id": "fb5615b2",
   "metadata": {},
   "outputs": [
    {
     "data": {
      "text/plain": [
       "array([[0.22199317, 0.87073231, 0.20671916],\n",
       "       [0.91861091, 0.48841119, 0.61174386]])"
      ]
     },
     "execution_count": 35,
     "metadata": {},
     "output_type": "execute_result"
    }
   ],
   "source": [
    "np.random.seed(5)\n",
    "np.random.rand(2,3)"
   ]
  },
  {
   "cell_type": "code",
   "execution_count": 32,
   "id": "49fe5f7f",
   "metadata": {},
   "outputs": [
    {
     "data": {
      "text/plain": [
       "array([[-1.19276461, -0.20487651, -0.35882895],\n",
       "       [ 0.6034716 , -1.66478853, -0.70017904]])"
      ]
     },
     "execution_count": 32,
     "metadata": {},
     "output_type": "execute_result"
    }
   ],
   "source": [
    "np.random.randn(2,3)"
   ]
  },
  {
   "cell_type": "code",
   "execution_count": 58,
   "id": "faf53492",
   "metadata": {},
   "outputs": [
    {
     "data": {
      "text/plain": [
       "0.4931531605781546"
      ]
     },
     "execution_count": 58,
     "metadata": {},
     "output_type": "execute_result"
    }
   ],
   "source": [
    "np.mean(np.random.rand(23,34))"
   ]
  },
  {
   "cell_type": "code",
   "execution_count": 59,
   "id": "c5dbabe2",
   "metadata": {},
   "outputs": [
    {
     "data": {
      "text/plain": [
       "0.2820985496691492"
      ]
     },
     "execution_count": 59,
     "metadata": {},
     "output_type": "execute_result"
    }
   ],
   "source": [
    "np.std(np.random.rand(23,34))"
   ]
  },
  {
   "cell_type": "code",
   "execution_count": 60,
   "id": "79e21dc1",
   "metadata": {},
   "outputs": [
    {
     "data": {
      "text/plain": [
       "array([[0, 9, 5],\n",
       "       [6, 1, 1],\n",
       "       [8, 3, 3]])"
      ]
     },
     "execution_count": 60,
     "metadata": {},
     "output_type": "execute_result"
    }
   ],
   "source": [
    "np.random.randint(10,size=(3,3))"
   ]
  },
  {
   "cell_type": "code",
   "execution_count": 37,
   "id": "38aef0fa",
   "metadata": {},
   "outputs": [
    {
     "data": {
      "text/plain": [
       "array([[4, 2, 2, 1, 2, 3, 1, 2, 4, 9, 0, 1],\n",
       "       [2, 3, 8, 5, 5, 4, 3, 9, 5, 9, 6, 9],\n",
       "       [5, 1, 1, 0, 8, 0, 5, 9, 3, 3, 0, 3],\n",
       "       [7, 3, 7, 3, 2, 6, 6, 2, 7, 0, 3, 7],\n",
       "       [5, 1, 6, 7, 3, 9, 7, 9, 7, 6, 6, 4],\n",
       "       [5, 4, 0, 0, 1, 5, 3, 1, 7, 0, 9, 8],\n",
       "       [3, 4, 4, 9, 9, 6, 7, 9, 6, 0, 7, 1],\n",
       "       [3, 9, 3, 3, 3, 5, 1, 0, 0, 2, 2, 8],\n",
       "       [9, 1, 8, 6, 7, 9, 6, 1, 8, 2, 4, 9],\n",
       "       [5, 9, 1, 8, 6, 1, 5, 1, 8, 8, 8, 3],\n",
       "       [3, 9, 7, 0, 8, 7, 3, 4, 7, 0, 6, 3],\n",
       "       [1, 5, 1, 0, 3, 4, 0, 8, 3, 8, 5, 2]])"
      ]
     },
     "execution_count": 37,
     "metadata": {},
     "output_type": "execute_result"
    }
   ],
   "source": [
    "np.random.randint(10,size=(12,12))\n"
   ]
  },
  {
   "cell_type": "code",
   "execution_count": 62,
   "id": "9652143b",
   "metadata": {},
   "outputs": [
    {
     "data": {
      "text/plain": [
       "array([[24, 35, 38, 30],\n",
       "       [14, 23, 21, 31],\n",
       "       [13,  2,  7, 36]])"
      ]
     },
     "execution_count": 62,
     "metadata": {},
     "output_type": "execute_result"
    }
   ],
   "source": [
    "np.random.randint(45,size=(3,4))"
   ]
  },
  {
   "cell_type": "code",
   "execution_count": 63,
   "id": "f8094af1",
   "metadata": {},
   "outputs": [
    {
     "data": {
      "text/plain": [
       "array([[18.38978617, 26.70412789, 14.94540856, 13.52656226],\n",
       "       [27.24814256, 27.39790284, 26.85295706, 14.93623264],\n",
       "       [12.97053648, 15.02761898, 21.63947141, 26.40830791]])"
      ]
     },
     "execution_count": 63,
     "metadata": {},
     "output_type": "execute_result"
    }
   ],
   "source": [
    "np.random.uniform(10,30,size=(3,4))"
   ]
  },
  {
   "cell_type": "code",
   "execution_count": 64,
   "id": "a7cff74d",
   "metadata": {},
   "outputs": [
    {
     "data": {
      "text/plain": [
       "array([[0.48461566, 0.78802487, 0.54528602, 0.20846878, 0.48488604],\n",
       "       [0.27083155, 0.19178414, 0.76580272, 0.46157304, 0.50646054],\n",
       "       [0.88158973, 0.45822722, 0.54647364, 0.07739488, 0.52549262],\n",
       "       [0.81537195, 0.9312718 , 0.41066223, 0.11505556, 0.37000561],\n",
       "       [0.28961098, 0.07190403, 0.3547865 , 0.95828865, 0.85749338]])"
      ]
     },
     "execution_count": 64,
     "metadata": {},
     "output_type": "execute_result"
    }
   ],
   "source": [
    "np.random.uniform(0,1,size=(5,5))"
   ]
  },
  {
   "cell_type": "code",
   "execution_count": 65,
   "id": "519d645b",
   "metadata": {},
   "outputs": [
    {
     "data": {
      "text/plain": [
       "array([[ -1,  -4],\n",
       "       [ -9, -16]])"
      ]
     },
     "execution_count": 65,
     "metadata": {},
     "output_type": "execute_result"
    }
   ],
   "source": [
    "a=np.array([[1,2],[3,4]])\n",
    "b=np.array([[-1,-2],[-3,-4]])\n",
    "c=a*b\n",
    "c"
   ]
  },
  {
   "cell_type": "code",
   "execution_count": 66,
   "id": "48ebc8a2",
   "metadata": {},
   "outputs": [
    {
     "data": {
      "text/plain": [
       "array([[ -7, -10],\n",
       "       [-15, -22]])"
      ]
     },
     "execution_count": 66,
     "metadata": {},
     "output_type": "execute_result"
    }
   ],
   "source": [
    "a=np.array([[1,2],[3,4]])\n",
    "b=np.array([[-1,-2],[-3,-4]])\n",
    "c=a@b\n",
    "c"
   ]
  },
  {
   "cell_type": "code",
   "execution_count": 67,
   "id": "3d88c6bf",
   "metadata": {},
   "outputs": [
    {
     "data": {
      "text/plain": [
       "array([[27000, 32950, 27567, ..., 30162, 33262, 27932],\n",
       "       [29151, 32056, 32185, ..., 30972, 29275, 27077],\n",
       "       [27282, 26796, 25612, ..., 26379, 26262, 25822],\n",
       "       ...,\n",
       "       [25929, 30463, 27533, ..., 28380, 29445, 25097],\n",
       "       [33072, 36827, 30816, ..., 36156, 34208, 33549],\n",
       "       [26085, 30086, 26877, ..., 26269, 24985, 25331]])"
      ]
     },
     "execution_count": 67,
     "metadata": {},
     "output_type": "execute_result"
    }
   ],
   "source": [
    "a=np.random.randint(45,size=(34,34))\n",
    "b=np.random.randint(78,size=(34,68))\n",
    "a@b"
   ]
  },
  {
   "cell_type": "code",
   "execution_count": 68,
   "id": "0a847ef8",
   "metadata": {},
   "outputs": [
    {
     "data": {
      "text/plain": [
       "array([[27000, 32950, 27567, ..., 30162, 33262, 27932],\n",
       "       [29151, 32056, 32185, ..., 30972, 29275, 27077],\n",
       "       [27282, 26796, 25612, ..., 26379, 26262, 25822],\n",
       "       ...,\n",
       "       [25929, 30463, 27533, ..., 28380, 29445, 25097],\n",
       "       [33072, 36827, 30816, ..., 36156, 34208, 33549],\n",
       "       [26085, 30086, 26877, ..., 26269, 24985, 25331]])"
      ]
     },
     "execution_count": 68,
     "metadata": {},
     "output_type": "execute_result"
    }
   ],
   "source": [
    "a.dot(b)"
   ]
  },
  {
   "cell_type": "code",
   "execution_count": 2,
   "id": "e81c7b5e",
   "metadata": {},
   "outputs": [
    {
     "data": {
      "text/plain": [
       "array([[[ 0,  1,  2],\n",
       "        [ 3,  4,  5]],\n",
       "\n",
       "       [[ 6,  7,  8],\n",
       "        [ 9, 10, 11]],\n",
       "\n",
       "       [[12, 13, 14],\n",
       "        [15, 16, 17]],\n",
       "\n",
       "       [[18, 19, 20],\n",
       "        [21, 22, 23]],\n",
       "\n",
       "       [[24, 25, 26],\n",
       "        [27, 28, 29]],\n",
       "\n",
       "       [[30, 31, 32],\n",
       "        [33, 34, 35]],\n",
       "\n",
       "       [[36, 37, 38],\n",
       "        [39, 40, 41]],\n",
       "\n",
       "       [[42, 43, 44],\n",
       "        [45, 46, 47]],\n",
       "\n",
       "       [[48, 49, 50],\n",
       "        [51, 52, 53]],\n",
       "\n",
       "       [[54, 55, 56],\n",
       "        [57, 58, 59]],\n",
       "\n",
       "       [[60, 61, 62],\n",
       "        [63, 64, 65]],\n",
       "\n",
       "       [[66, 67, 68],\n",
       "        [69, 70, 71]],\n",
       "\n",
       "       [[72, 73, 74],\n",
       "        [75, 76, 77]]])"
      ]
     },
     "execution_count": 2,
     "metadata": {},
     "output_type": "execute_result"
    }
   ],
   "source": [
    "d=np.arange(78).reshape(13,2,3)\n",
    "d"
   ]
  },
  {
   "cell_type": "code",
   "execution_count": 4,
   "id": "f4d64ed1",
   "metadata": {},
   "outputs": [
    {
     "name": "stdout",
     "output_type": "stream",
     "text": [
      "Addition is [21 34 46]\n",
      "Subtraction is [19 26 34]\n"
     ]
    }
   ],
   "source": [
    "#Numpy array Operations\n",
    "a=np.array([20,30,40])\n",
    "b=np.array([1,4,6])\n",
    "c=a+b\n",
    "print(\"Addition is\",c)\n",
    "c=a-b\n",
    "print(\"Subtraction is\",c)"
   ]
  },
  {
   "cell_type": "code",
   "execution_count": 8,
   "id": "015aeaba",
   "metadata": {},
   "outputs": [
    {
     "name": "stdout",
     "output_type": "stream",
     "text": [
      "[[[ 0  1  2]\n",
      "  [ 3  4  5]\n",
      "  [ 6  7  8]\n",
      "  [ 9 10 11]\n",
      "  [12 13 14]\n",
      "  [15 16 17]\n",
      "  [18 19 20]\n",
      "  [21 22 23]\n",
      "  [24 25 26]\n",
      "  [27 28 29]\n",
      "  [30 31 32]\n",
      "  [33 34 35]]\n",
      "\n",
      " [[36 37 38]\n",
      "  [39 40 41]\n",
      "  [42 43 44]\n",
      "  [45 46 47]\n",
      "  [48 49 50]\n",
      "  [51 52 53]\n",
      "  [54 55 56]\n",
      "  [57 58 59]\n",
      "  [60 61 62]\n",
      "  [63 64 65]\n",
      "  [66 67 68]\n",
      "  [69 70 71]]]\n",
      "[[[  0  -1  -2]\n",
      "  [ -3  -4  -5]\n",
      "  [ -6  -7  -8]\n",
      "  [ -9 -10 -11]\n",
      "  [-12 -13 -14]\n",
      "  [-15 -16 -17]\n",
      "  [-18 -19 -20]\n",
      "  [-21 -22 -23]\n",
      "  [-24 -25 -26]\n",
      "  [-27 -28 -29]\n",
      "  [-30 -31 -32]\n",
      "  [-33 -34 -35]]\n",
      "\n",
      " [[-36 -37 -38]\n",
      "  [-39 -40 -41]\n",
      "  [-42 -43 -44]\n",
      "  [-45 -46 -47]\n",
      "  [-48 -49 -50]\n",
      "  [-51 -52 -53]\n",
      "  [-54 -55 -56]\n",
      "  [-57 -58 -59]\n",
      "  [-60 -61 -62]\n",
      "  [-63 -64 -65]\n",
      "  [-66 -67 -68]\n",
      "  [-69 -70 -71]]]\n",
      "Addition is [[[0 0 0]\n",
      "  [0 0 0]\n",
      "  [0 0 0]\n",
      "  [0 0 0]\n",
      "  [0 0 0]\n",
      "  [0 0 0]\n",
      "  [0 0 0]\n",
      "  [0 0 0]\n",
      "  [0 0 0]\n",
      "  [0 0 0]\n",
      "  [0 0 0]\n",
      "  [0 0 0]]\n",
      "\n",
      " [[0 0 0]\n",
      "  [0 0 0]\n",
      "  [0 0 0]\n",
      "  [0 0 0]\n",
      "  [0 0 0]\n",
      "  [0 0 0]\n",
      "  [0 0 0]\n",
      "  [0 0 0]\n",
      "  [0 0 0]\n",
      "  [0 0 0]\n",
      "  [0 0 0]\n",
      "  [0 0 0]]]\n"
     ]
    }
   ],
   "source": [
    "arr1=np.arange(72).reshape(2,12,3)\n",
    "print(arr1)\n",
    "arr2=-1*np.arange(72).reshape(2,12,3)\n",
    "print(arr2)\n",
    "arr3=arr1+arr2\n",
    "print(\"Addition is\",arr3)"
   ]
  },
  {
   "cell_type": "code",
   "execution_count": 9,
   "id": "26f8a8a8",
   "metadata": {},
   "outputs": [
    {
     "data": {
      "text/plain": [
       "array([ 1, 16, 25, 36])"
      ]
     },
     "execution_count": 9,
     "metadata": {},
     "output_type": "execute_result"
    }
   ],
   "source": [
    "b=np.array([1,4,5,6])\n",
    "c=b**2\n",
    "c"
   ]
  },
  {
   "cell_type": "code",
   "execution_count": 10,
   "id": "660083e2",
   "metadata": {},
   "outputs": [
    {
     "data": {
      "text/plain": [
       "array([[ 1,  4,  9],\n",
       "       [16, 25, 36]])"
      ]
     },
     "execution_count": 10,
     "metadata": {},
     "output_type": "execute_result"
    }
   ],
   "source": [
    "d=np.array([[1,2,3],[4,5,6]])\n",
    "e=d**2\n",
    "e"
   ]
  },
  {
   "cell_type": "code",
   "execution_count": 13,
   "id": "62d34bc4",
   "metadata": {},
   "outputs": [
    {
     "name": "stdout",
     "output_type": "stream",
     "text": [
      "[[0 1 0 2]\n",
      " [0 1 0 7]]\n",
      "[[45 43 58 79]\n",
      " [ 6 13 14  7]]\n"
     ]
    }
   ],
   "source": [
    "d=np.arange(8).reshape(2,4)\n",
    "e=np.array([[45,43,56,78],[2,9,8,7]])\n",
    "f=d&e\n",
    "print(f)\n",
    "g=d|e\n",
    "print(g)"
   ]
  },
  {
   "cell_type": "code",
   "execution_count": 15,
   "id": "f1d1ebd7",
   "metadata": {},
   "outputs": [
    {
     "data": {
      "text/plain": [
       "array([50, 51, 52, 53, 54, 55, 56, 57, 58, 59, 60, 61, 62, 63, 64, 65, 66,\n",
       "       67, 68, 69, 70, 71, 72, 73, 74, 75, 76, 77, 78, 79, 80, 81, 82, 83,\n",
       "       84, 85, 86, 87, 88, 89, 90, 91, 92, 93, 94, 95, 96, 97, 98, 99])"
      ]
     },
     "execution_count": 15,
     "metadata": {},
     "output_type": "execute_result"
    }
   ],
   "source": [
    "arr1=np.arange(50,100)\n",
    "arr1"
   ]
  },
  {
   "cell_type": "code",
   "execution_count": 17,
   "id": "5024f4b3",
   "metadata": {},
   "outputs": [
    {
     "data": {
      "text/plain": [
       "array([[50, 51, 52, 53, 54, 55, 56, 57, 58, 59],\n",
       "       [60, 61, 62, 63, 64, 65, 66, 67, 68, 69],\n",
       "       [70, 71, 72, 73, 74, 75, 76, 77, 78, 79],\n",
       "       [80, 81, 82, 83, 84, 85, 86, 87, 88, 89],\n",
       "       [90, 91, 92, 93, 94, 95, 96, 97, 98, 99]])"
      ]
     },
     "execution_count": 17,
     "metadata": {},
     "output_type": "execute_result"
    }
   ],
   "source": [
    "arr1=np.arange(50,100)\n",
    "arr1\n",
    "arr2=arr1.reshape(5,10)\n",
    "arr2"
   ]
  },
  {
   "cell_type": "code",
   "execution_count": 21,
   "id": "93c43458",
   "metadata": {},
   "outputs": [
    {
     "name": "stdout",
     "output_type": "stream",
     "text": [
      "[50 51 52 53 54 55 56 57 58 59]\n",
      "[50 51 52 53 54 55 56 57 58 59]\n",
      "[[50 51 52 53 54 55 56 57 58 59]]\n"
     ]
    }
   ],
   "source": [
    "#print from 50 to 59\n",
    "print(arr2[0])\n",
    "print(arr2[0][:10])\n",
    "print(arr2[:1])"
   ]
  },
  {
   "cell_type": "code",
   "execution_count": 30,
   "id": "e6920f2f",
   "metadata": {},
   "outputs": [
    {
     "name": "stdout",
     "output_type": "stream",
     "text": [
      "[[50 51 52 53 54 55 56 57 58 59]\n",
      " [60 61 62 63 64 65 66 67 68 69]]\n",
      "[50 51 52 53 54 55 56 57 58 59] [60 61 62 63 64 65 66 67 68 69]\n",
      "[50 51 52 53 54 55 56 57 58 59]\n",
      "[[50 51 52 53 54 55 56 57 58 59]\n",
      " [60 61 62 63 64 65 66 67 68 69]]\n"
     ]
    }
   ],
   "source": [
    "#print 1st two rows\n",
    "print(arr2[:2])\n",
    "print(arr2[0],arr2[1])\n",
    "print(arr2[0][:10])\n",
    "print(arr2[0:2])"
   ]
  },
  {
   "cell_type": "code",
   "execution_count": 31,
   "id": "3b208f48",
   "metadata": {},
   "outputs": [
    {
     "name": "stdout",
     "output_type": "stream",
     "text": [
      "[[50 51 52 53 54 55 56 57 58 59]\n",
      " [70 71 72 73 74 75 76 77 78 79]]\n"
     ]
    }
   ],
   "source": [
    "print(arr2[0:3:2])"
   ]
  },
  {
   "cell_type": "code",
   "execution_count": 44,
   "id": "8938b78d",
   "metadata": {},
   "outputs": [
    {
     "name": "stdout",
     "output_type": "stream",
     "text": [
      "[[50 51 52 53 54 55 56 57 58 59]\n",
      " [60 61 62 63 64 65 66 67 68 69]\n",
      " [90 91 92 93 94 95 96 97 98 99]]\n"
     ]
    }
   ],
   "source": [
    "#get 1st,2nd and 5th row\n",
    "print(arr2[[0,1,4]])"
   ]
  },
  {
   "cell_type": "code",
   "execution_count": 51,
   "id": "39f34363",
   "metadata": {},
   "outputs": [
    {
     "name": "stdout",
     "output_type": "stream",
     "text": [
      "53\n",
      "77\n",
      "94\n",
      "[86 87]\n"
     ]
    }
   ],
   "source": [
    "#find element 53\n",
    "print(arr2[0][3])\n",
    "print(arr2[2][7])\n",
    "print(arr2[4][4])\n",
    "print(arr2[3,[6,7]])"
   ]
  },
  {
   "cell_type": "code",
   "execution_count": 57,
   "id": "0cc99302",
   "metadata": {},
   "outputs": [
    {
     "data": {
      "text/plain": [
       "5"
      ]
     },
     "execution_count": 57,
     "metadata": {},
     "output_type": "execute_result"
    }
   ],
   "source": [
    "# 5 dimensional array\n",
    "arr3=arr2.reshape(1,1,1,25,2)\n",
    "arr3.ndim"
   ]
  },
  {
   "cell_type": "code",
   "execution_count": 59,
   "id": "bdc309a7",
   "metadata": {},
   "outputs": [
    {
     "name": "stdout",
     "output_type": "stream",
     "text": [
      "[[[50 51]\n",
      "  [52 53]\n",
      "  [54 55]\n",
      "  [56 57]\n",
      "  [58 59]]\n",
      "\n",
      " [[60 61]\n",
      "  [62 63]\n",
      "  [64 65]\n",
      "  [66 67]\n",
      "  [68 69]]\n",
      "\n",
      " [[70 71]\n",
      "  [72 73]\n",
      "  [74 75]\n",
      "  [76 77]\n",
      "  [78 79]]\n",
      "\n",
      " [[80 81]\n",
      "  [82 83]\n",
      "  [84 85]\n",
      "  [86 87]\n",
      "  [88 89]]\n",
      "\n",
      " [[90 91]\n",
      "  [92 93]\n",
      "  [94 95]\n",
      "  [96 97]\n",
      "  [98 99]]]\n"
     ]
    },
    {
     "data": {
      "text/plain": [
       "3"
      ]
     },
     "execution_count": 59,
     "metadata": {},
     "output_type": "execute_result"
    }
   ],
   "source": [
    "#n dimension value is 5\n",
    "arr3=arr2.reshape(5,5,2)\n",
    "print(arr3)\n",
    "arr3.ndim"
   ]
  },
  {
   "cell_type": "code",
   "execution_count": 78,
   "id": "d142541f",
   "metadata": {},
   "outputs": [
    {
     "name": "stdout",
     "output_type": "stream",
     "text": [
      "69\n",
      "59\n",
      "[84 85]\n",
      "[96 97]\n",
      "[[[50 51]\n",
      "  [52 53]\n",
      "  [54 55]\n",
      "  [56 57]\n",
      "  [58 59]]\n",
      "\n",
      " [[60 61]\n",
      "  [62 63]\n",
      "  [64 65]\n",
      "  [66 67]\n",
      "  [68 69]]\n",
      "\n",
      " [[70 71]\n",
      "  [72 73]\n",
      "  [74 75]\n",
      "  [76 77]\n",
      "  [78 79]]]\n",
      "[[50 51]\n",
      " [52 53]\n",
      " [54 55]]\n",
      "[[50 51]\n",
      " [54 55]\n",
      " [58 59]]\n"
     ]
    }
   ],
   "source": [
    "#69\n",
    "print(arr3[1][4][1])\n",
    "#59\n",
    "print(arr3[0][4][1])\n",
    "#84,85\n",
    "print(arr3[3][2])\n",
    "#96,97\n",
    "print(arr3[4][3])\n",
    "#50-79\n",
    "print(arr3[:3])\n",
    "#50-55\n",
    "print(arr3[0][:3])\n",
    "#50,52,54,56,58\n",
    "print(arr3[0,[0,2,4]])"
   ]
  },
  {
   "cell_type": "code",
   "execution_count": 80,
   "id": "bffcf280",
   "metadata": {},
   "outputs": [
    {
     "name": "stdout",
     "output_type": "stream",
     "text": [
      "[59 58 57 56 55 54 53 52 51 50]\n"
     ]
    }
   ],
   "source": [
    "print(arr1[9::-1])"
   ]
  },
  {
   "cell_type": "code",
   "execution_count": 81,
   "id": "b1d4c4a8",
   "metadata": {},
   "outputs": [
    {
     "name": "stdout",
     "output_type": "stream",
     "text": [
      "[58 56 54 52 50]\n"
     ]
    }
   ],
   "source": [
    "print(arr1[8::-2])"
   ]
  },
  {
   "cell_type": "code",
   "execution_count": 82,
   "id": "8f3bf9c1",
   "metadata": {},
   "outputs": [
    {
     "name": "stdout",
     "output_type": "stream",
     "text": [
      "[[70 71 72 73 74 75 76 77 78 79]\n",
      " [60 61 62 63 64 65 66 67 68 69]\n",
      " [50 51 52 53 54 55 56 57 58 59]]\n"
     ]
    }
   ],
   "source": [
    "print(arr2[2::-1])"
   ]
  },
  {
   "cell_type": "code",
   "execution_count": 87,
   "id": "ad6a2e95",
   "metadata": {},
   "outputs": [
    {
     "name": "stdout",
     "output_type": "stream",
     "text": [
      "[59 58 57 56 55 54 53 52 51 50]\n",
      "[58 56 54 52 50]\n",
      "[[70 71 72 73 74 75 76 77 78 79]\n",
      " [60 61 62 63 64 65 66 67 68 69]\n",
      " [50 51 52 53 54 55 56 57 58 59]]\n"
     ]
    }
   ],
   "source": [
    "print(arr1[-41::-1])\n",
    "print(arr1[-42::-2])\n",
    "print(arr2[-3::-1])"
   ]
  },
  {
   "cell_type": "code",
   "execution_count": 88,
   "id": "e2fbdcca",
   "metadata": {},
   "outputs": [
    {
     "name": "stdout",
     "output_type": "stream",
     "text": [
      "[[72 73 74]\n",
      " [82 83 84]\n",
      " [92 93 94]]\n"
     ]
    }
   ],
   "source": [
    "print(arr2[2:5,2:5])"
   ]
  },
  {
   "cell_type": "code",
   "execution_count": 89,
   "id": "b535e516",
   "metadata": {},
   "outputs": [
    {
     "name": "stdout",
     "output_type": "stream",
     "text": [
      "[[90 91 92 93 94 95 96 97 98 99]\n",
      " [80 81 82 83 84 85 86 87 88 89]\n",
      " [70 71 72 73 74 75 76 77 78 79]\n",
      " [60 61 62 63 64 65 66 67 68 69]\n",
      " [50 51 52 53 54 55 56 57 58 59]]\n"
     ]
    }
   ],
   "source": [
    "print(arr2[::-1])"
   ]
  },
  {
   "cell_type": "code",
   "execution_count": 96,
   "id": "99309383",
   "metadata": {},
   "outputs": [
    {
     "name": "stdout",
     "output_type": "stream",
     "text": [
      "[[59 58 57 56 55 54 53 52 51 50]\n",
      " [69 68 67 66 65 64 63 62 61 60]\n",
      " [79 78 77 76 75 74 73 72 71 70]\n",
      " [89 88 87 86 85 84 83 82 81 80]\n",
      " [99 98 97 96 95 94 93 92 91 90]]\n"
     ]
    }
   ],
   "source": [
    "print(arr2[:,::-1])"
   ]
  },
  {
   "cell_type": "code",
   "execution_count": 97,
   "id": "f75c5964",
   "metadata": {},
   "outputs": [
    {
     "name": "stdout",
     "output_type": "stream",
     "text": [
      "[[99 98 97 96 95 94 93 92 91 90]\n",
      " [89 88 87 86 85 84 83 82 81 80]\n",
      " [79 78 77 76 75 74 73 72 71 70]\n",
      " [69 68 67 66 65 64 63 62 61 60]\n",
      " [59 58 57 56 55 54 53 52 51 50]]\n"
     ]
    }
   ],
   "source": [
    "print(arr2[::-1,::-1])"
   ]
  },
  {
   "cell_type": "code",
   "execution_count": 100,
   "id": "181ae2b5",
   "metadata": {},
   "outputs": [
    {
     "data": {
      "text/plain": [
       "array([[99, 98, 97, 96, 95, 94, 93, 92, 91, 90],\n",
       "       [89, 88, 87, 86, 85, 84, 83, 82, 81, 80],\n",
       "       [79, 78, 77, 76, 75, 74, 73, 72, 71, 70],\n",
       "       [69, 68, 67, 66, 65, 64, 63, 62, 61, 60],\n",
       "       [59, 58, 57, 56, 55, 54, 53, 52, 51, 50]])"
      ]
     },
     "execution_count": 100,
     "metadata": {},
     "output_type": "execute_result"
    }
   ],
   "source": [
    "np.flip(arr2)"
   ]
  },
  {
   "cell_type": "code",
   "execution_count": 101,
   "id": "385d2f18",
   "metadata": {},
   "outputs": [
    {
     "data": {
      "text/plain": [
       "array([[90, 91, 92, 93, 94, 95, 96, 97, 98, 99],\n",
       "       [80, 81, 82, 83, 84, 85, 86, 87, 88, 89],\n",
       "       [70, 71, 72, 73, 74, 75, 76, 77, 78, 79],\n",
       "       [60, 61, 62, 63, 64, 65, 66, 67, 68, 69],\n",
       "       [50, 51, 52, 53, 54, 55, 56, 57, 58, 59]])"
      ]
     },
     "execution_count": 101,
     "metadata": {},
     "output_type": "execute_result"
    }
   ],
   "source": [
    "np.flip(arr2,axis=0)"
   ]
  },
  {
   "cell_type": "code",
   "execution_count": 102,
   "id": "244360ad",
   "metadata": {},
   "outputs": [
    {
     "data": {
      "text/plain": [
       "array([[59, 58, 57, 56, 55, 54, 53, 52, 51, 50],\n",
       "       [69, 68, 67, 66, 65, 64, 63, 62, 61, 60],\n",
       "       [79, 78, 77, 76, 75, 74, 73, 72, 71, 70],\n",
       "       [89, 88, 87, 86, 85, 84, 83, 82, 81, 80],\n",
       "       [99, 98, 97, 96, 95, 94, 93, 92, 91, 90]])"
      ]
     },
     "execution_count": 102,
     "metadata": {},
     "output_type": "execute_result"
    }
   ],
   "source": [
    "np.flip(arr2,axis=1)"
   ]
  },
  {
   "cell_type": "code",
   "execution_count": 40,
   "id": "f32e02af",
   "metadata": {},
   "outputs": [
    {
     "data": {
      "text/plain": [
       "array([91, 72, 56])"
      ]
     },
     "execution_count": 40,
     "metadata": {},
     "output_type": "execute_result"
    }
   ],
   "source": [
    "arr=np.array([[5,9,12,-5,91],[72,6,4,-3,2],[0,-2,56,9,3]])\n",
    "arr.max(axis=1)"
   ]
  },
  {
   "cell_type": "code",
   "execution_count": 104,
   "id": "d71854b2",
   "metadata": {},
   "outputs": [
    {
     "data": {
      "text/plain": [
       "array([112,  81,  66])"
      ]
     },
     "execution_count": 104,
     "metadata": {},
     "output_type": "execute_result"
    }
   ],
   "source": [
    "arr=np.array([[5,9,12,-5,91],[72,6,4,-3,2],[0,-2,56,9,3]])\n",
    "arr.sum(axis=1)"
   ]
  },
  {
   "cell_type": "code",
   "execution_count": 15,
   "id": "61db0064",
   "metadata": {},
   "outputs": [
    {
     "name": "stdout",
     "output_type": "stream",
     "text": [
      "[50 51 52 53 54 55 56 57 58 59 60 61 62 63 64 65 66 67 68 69 70 71 72 73\n",
      " 74 75 76 77 78 79 80 81 82 83 84 85 86 87 88 89 90 91 92 93 94 95 96 97\n",
      " 98 99]\n"
     ]
    }
   ],
   "source": [
    "arr1=np.arange(50,100)\n",
    "print(arr1)"
   ]
  },
  {
   "cell_type": "code",
   "execution_count": 16,
   "id": "2cedeb5b",
   "metadata": {},
   "outputs": [
    {
     "name": "stdout",
     "output_type": "stream",
     "text": [
      "[50 51 52 53 54 55 56 57 58 59 60 61 62 63 64 65 66 67 68 69 70 71 72 73\n",
      " 74]\n",
      "[75 76 77 78 79 80 81 82 83 84 85 86 87 88 89 90 91 92 93 94 95 96 97 98\n",
      " 99]\n"
     ]
    }
   ],
   "source": [
    "#split into 2 arrays\n",
    "arr1,arr2=np.split(arr1,2)\n",
    "print(arr1)\n",
    "print(arr2)"
   ]
  },
  {
   "cell_type": "code",
   "execution_count": 30,
   "id": "7a9aa655",
   "metadata": {},
   "outputs": [],
   "source": [
    "arr=np.arange(50,100)\n",
    "arr=arr1.reshape(5,10)"
   ]
  },
  {
   "cell_type": "code",
   "execution_count": 31,
   "id": "499efea4",
   "metadata": {},
   "outputs": [
    {
     "name": "stdout",
     "output_type": "stream",
     "text": [
      "[[50 51 52 53 54]\n",
      " [60 61 62 63 64]\n",
      " [70 71 72 73 74]\n",
      " [80 81 82 83 84]\n",
      " [90 91 92 93 94]]\n",
      "==================================================\n",
      "[[55 56 57 58 59]\n",
      " [65 66 67 68 69]\n",
      " [75 76 77 78 79]\n",
      " [85 86 87 88 89]\n",
      " [95 96 97 98 99]]\n"
     ]
    }
   ],
   "source": [
    "#split into 2 arrays in different way\n",
    "arr1=arr[:, :5]\n",
    "print(arr1)\n",
    "print(\"=\"*50)\n",
    "arr2=arr[:,5:]\n",
    "print(arr2)"
   ]
  },
  {
   "cell_type": "code",
   "execution_count": 32,
   "id": "df23e330",
   "metadata": {},
   "outputs": [
    {
     "data": {
      "text/plain": [
       "array([350, 355, 360, 365, 370])"
      ]
     },
     "execution_count": 32,
     "metadata": {},
     "output_type": "execute_result"
    }
   ],
   "source": [
    "#sum of rows such as 50+60+70+80+90\n",
    "arr1.sum(axis=0)"
   ]
  },
  {
   "cell_type": "code",
   "execution_count": 33,
   "id": "44c1cf24",
   "metadata": {},
   "outputs": [
    {
     "data": {
      "text/plain": [
       "array([260, 310, 360, 410, 460])"
      ]
     },
     "execution_count": 33,
     "metadata": {},
     "output_type": "execute_result"
    }
   ],
   "source": [
    "# sumof the element in column such as 50+51+52+53+54\n",
    "arr1.sum(axis=1)"
   ]
  },
  {
   "cell_type": "code",
   "execution_count": 34,
   "id": "cad0b363",
   "metadata": {},
   "outputs": [
    {
     "data": {
      "text/plain": [
       "array([90, 91, 92, 93, 94])"
      ]
     },
     "execution_count": 34,
     "metadata": {},
     "output_type": "execute_result"
    }
   ],
   "source": [
    "#find maximum Value\n",
    "arr1.max(axis=0)"
   ]
  },
  {
   "cell_type": "code",
   "execution_count": 35,
   "id": "8d30649e",
   "metadata": {},
   "outputs": [
    {
     "data": {
      "text/plain": [
       "array([54, 64, 74, 84, 94])"
      ]
     },
     "execution_count": 35,
     "metadata": {},
     "output_type": "execute_result"
    }
   ],
   "source": [
    "arr1.max(axis=1)"
   ]
  },
  {
   "cell_type": "code",
   "execution_count": 36,
   "id": "0d551374",
   "metadata": {},
   "outputs": [
    {
     "data": {
      "text/plain": [
       "94"
      ]
     },
     "execution_count": 36,
     "metadata": {},
     "output_type": "execute_result"
    }
   ],
   "source": [
    "arr1.max()"
   ]
  },
  {
   "cell_type": "code",
   "execution_count": 37,
   "id": "971a83e4",
   "metadata": {},
   "outputs": [
    {
     "data": {
      "text/plain": [
       "50"
      ]
     },
     "execution_count": 37,
     "metadata": {},
     "output_type": "execute_result"
    }
   ],
   "source": [
    "arr1.min()"
   ]
  },
  {
   "cell_type": "code",
   "execution_count": 38,
   "id": "83a5d998",
   "metadata": {},
   "outputs": [
    {
     "data": {
      "text/plain": [
       "array([50, 51, 52, 53, 54])"
      ]
     },
     "execution_count": 38,
     "metadata": {},
     "output_type": "execute_result"
    }
   ],
   "source": [
    "arr1.min(axis=0)"
   ]
  },
  {
   "cell_type": "code",
   "execution_count": 39,
   "id": "7e60dfb7",
   "metadata": {},
   "outputs": [
    {
     "data": {
      "text/plain": [
       "array([50, 60, 70, 80, 90])"
      ]
     },
     "execution_count": 39,
     "metadata": {},
     "output_type": "execute_result"
    }
   ],
   "source": [
    "arr1.min(axis=1)"
   ]
  },
  {
   "cell_type": "code",
   "execution_count": 40,
   "id": "6c9b1945",
   "metadata": {},
   "outputs": [
    {
     "data": {
      "text/plain": [
       "array([[50, 51, 52, 53, 54, 55, 56, 57, 58, 59],\n",
       "       [60, 61, 62, 63, 64, 65, 66, 67, 68, 69],\n",
       "       [70, 71, 72, 73, 74, 75, 76, 77, 78, 79],\n",
       "       [80, 81, 82, 83, 84, 85, 86, 87, 88, 89],\n",
       "       [90, 91, 92, 93, 94, 95, 96, 97, 98, 99]])"
      ]
     },
     "execution_count": 40,
     "metadata": {},
     "output_type": "execute_result"
    }
   ],
   "source": [
    "arr"
   ]
  },
  {
   "cell_type": "code",
   "execution_count": 41,
   "id": "f5a04fd7",
   "metadata": {},
   "outputs": [
    {
     "data": {
      "text/plain": [
       "74.5"
      ]
     },
     "execution_count": 41,
     "metadata": {},
     "output_type": "execute_result"
    }
   ],
   "source": [
    "#mean of the array\n",
    "arr.mean()"
   ]
  },
  {
   "cell_type": "code",
   "execution_count": 49,
   "id": "999651cb",
   "metadata": {},
   "outputs": [
    {
     "name": "stdout",
     "output_type": "stream",
     "text": [
      "\n",
      " sum of all element in the array is:  3725\n",
      "\n",
      " size of the element in array is:  50\n",
      "\n",
      " The man of the Array is:  74.5\n"
     ]
    }
   ],
   "source": [
    "#finding mean in other way\n",
    "sum_arr=arr.sum()\n",
    "print(\"\\n sum of all element in the array is: \",sum_arr)\n",
    "length=arr.size\n",
    "print(\"\\n size of the element in array is: \",length)\n",
    "mean_arr=sum_arr/length\n",
    "print(\"\\n The man of the Array is: \",mean_arr)"
   ]
  },
  {
   "cell_type": "code",
   "execution_count": 58,
   "id": "f8e0b145",
   "metadata": {},
   "outputs": [
    {
     "name": "stdout",
     "output_type": "stream",
     "text": [
      "[[50 52 54 56 58]\n",
      " [60 62 64 66 68]\n",
      " [70 72 74 76 78]\n",
      " [80 82 84 86 88]\n",
      " [90 92 94 96 98]]\n"
     ]
    },
    {
     "data": {
      "text/plain": [
       "74.0"
      ]
     },
     "execution_count": 58,
     "metadata": {},
     "output_type": "execute_result"
    }
   ],
   "source": [
    "# find mean of even number in the array\n",
    "print(arr[:,::2])\n",
    "np.mean(arr[:,::2])"
   ]
  },
  {
   "cell_type": "code",
   "execution_count": 56,
   "id": "fd4bada2",
   "metadata": {},
   "outputs": [
    {
     "name": "stdout",
     "output_type": "stream",
     "text": [
      "[[50 51 52 53 54 55 56 57 58 59]\n",
      " [60 61 62 63 64 65 66 67 68 69]\n",
      " [70 71 72 73 74 75 76 77 78 79]\n",
      " [80 81 82 83 84 85 86 87 88 89]\n",
      " [90 91 92 93 94 95 96 97 98 99]]\n"
     ]
    },
    {
     "data": {
      "text/plain": [
       "74.5"
      ]
     },
     "execution_count": 56,
     "metadata": {},
     "output_type": "execute_result"
    }
   ],
   "source": [
    "print(arr[:,::1])\n",
    "np.mean(arr[:,::1])"
   ]
  },
  {
   "cell_type": "code",
   "execution_count": 57,
   "id": "6b73aabe",
   "metadata": {},
   "outputs": [
    {
     "name": "stdout",
     "output_type": "stream",
     "text": [
      "[[51 53 55 57 59]\n",
      " [61 63 65 67 69]\n",
      " [71 73 75 77 79]\n",
      " [81 83 85 87 89]\n",
      " [91 93 95 97 99]]\n"
     ]
    },
    {
     "data": {
      "text/plain": [
       "75.0"
      ]
     },
     "execution_count": 57,
     "metadata": {},
     "output_type": "execute_result"
    }
   ],
   "source": [
    "print(arr[:,1::2])\n",
    "np.mean(arr[:,1::2])"
   ]
  },
  {
   "cell_type": "code",
   "execution_count": 59,
   "id": "eb056fe6",
   "metadata": {},
   "outputs": [
    {
     "name": "stdout",
     "output_type": "stream",
     "text": [
      "[[50 52 54 56 58]\n",
      " [60 62 64 66 68]\n",
      " [70 72 74 76 78]\n",
      " [80 82 84 86 88]\n",
      " [90 92 94 96 98]]\n"
     ]
    },
    {
     "data": {
      "text/plain": [
       "74.0"
      ]
     },
     "execution_count": 59,
     "metadata": {},
     "output_type": "execute_result"
    }
   ],
   "source": [
    "#findmedian of the array\n",
    "print(arr[:,::2])\n",
    "np.median(arr[:,::2])"
   ]
  },
  {
   "cell_type": "code",
   "execution_count": 60,
   "id": "6d129c24",
   "metadata": {},
   "outputs": [
    {
     "name": "stdout",
     "output_type": "stream",
     "text": [
      "[[50 51 52 53 54 55 56 57 58 59]\n",
      " [60 61 62 63 64 65 66 67 68 69]\n",
      " [70 71 72 73 74 75 76 77 78 79]\n",
      " [80 81 82 83 84 85 86 87 88 89]\n",
      " [90 91 92 93 94 95 96 97 98 99]]\n"
     ]
    },
    {
     "data": {
      "text/plain": [
       "74.5"
      ]
     },
     "execution_count": 60,
     "metadata": {},
     "output_type": "execute_result"
    }
   ],
   "source": [
    "print(arr[:,::1])\n",
    "np.median(arr[:,::1])"
   ]
  },
  {
   "cell_type": "code",
   "execution_count": 61,
   "id": "181524e5",
   "metadata": {},
   "outputs": [
    {
     "name": "stdout",
     "output_type": "stream",
     "text": [
      "[[51 53 55 57 59]\n",
      " [61 63 65 67 69]\n",
      " [71 73 75 77 79]\n",
      " [81 83 85 87 89]\n",
      " [91 93 95 97 99]]\n"
     ]
    },
    {
     "data": {
      "text/plain": [
       "75.0"
      ]
     },
     "execution_count": 61,
     "metadata": {},
     "output_type": "execute_result"
    }
   ],
   "source": [
    "print(arr[:,1::2])\n",
    "np.median(arr[:,1::2])"
   ]
  },
  {
   "cell_type": "code",
   "execution_count": 62,
   "id": "562eaa13",
   "metadata": {},
   "outputs": [
    {
     "name": "stdout",
     "output_type": "stream",
     "text": [
      "\n",
      " The varianace of the array is:  208.25\n"
     ]
    }
   ],
   "source": [
    "#variance\n",
    "variance=np.var(arr)\n",
    "print(\"\\n The varianace of the array is: \",variance)"
   ]
  },
  {
   "cell_type": "code",
   "execution_count": 63,
   "id": "43b8a176",
   "metadata": {},
   "outputs": [
    {
     "name": "stdout",
     "output_type": "stream",
     "text": [
      "\n",
      " the standard deviation is:  14.430869689661812\n"
     ]
    }
   ],
   "source": [
    "#standard deviation\n",
    "standard_dev=np.std(arr)\n",
    "print(\"\\n the standard deviation is: \",standard_dev)"
   ]
  },
  {
   "cell_type": "code",
   "execution_count": 64,
   "id": "ff15d522",
   "metadata": {},
   "outputs": [
    {
     "data": {
      "text/plain": [
       "array([[ 1,  2,  3,  4],\n",
       "       [ 5,  6,  7,  8],\n",
       "       [ 9, 10, 11, 12]])"
      ]
     },
     "execution_count": 64,
     "metadata": {},
     "output_type": "execute_result"
    }
   ],
   "source": [
    "#stach operations\n",
    "a=np.arange(1,13).reshape(3,4)\n",
    "a"
   ]
  },
  {
   "cell_type": "code",
   "execution_count": 66,
   "id": "a4fea298",
   "metadata": {},
   "outputs": [
    {
     "data": {
      "text/plain": [
       "array([[1, 2, 3, 4],\n",
       "       [5, 6, 7, 8]])"
      ]
     },
     "execution_count": 66,
     "metadata": {},
     "output_type": "execute_result"
    }
   ],
   "source": [
    "b=np.arange(1,9).reshape(2,4)\n",
    "b"
   ]
  },
  {
   "cell_type": "code",
   "execution_count": 67,
   "id": "82001c2a",
   "metadata": {},
   "outputs": [
    {
     "data": {
      "text/plain": [
       "array([[1, 2],\n",
       "       [3, 4],\n",
       "       [5, 6]])"
      ]
     },
     "execution_count": 67,
     "metadata": {},
     "output_type": "execute_result"
    }
   ],
   "source": [
    "c=np.arange(1,7).reshape(3,2)\n",
    "c"
   ]
  },
  {
   "cell_type": "code",
   "execution_count": 70,
   "id": "32a6f166",
   "metadata": {},
   "outputs": [
    {
     "ename": "ValueError",
     "evalue": "all the input array dimensions except for the concatenation axis must match exactly, but along dimension 0, the array at index 0 has size 3 and the array at index 1 has size 2",
     "output_type": "error",
     "traceback": [
      "\u001b[0;31m---------------------------------------------------------------------------\u001b[0m",
      "\u001b[0;31mValueError\u001b[0m                                Traceback (most recent call last)",
      "Cell \u001b[0;32mIn[70], line 3\u001b[0m\n\u001b[1;32m      1\u001b[0m \u001b[38;5;66;03m#to join two arrays\u001b[39;00m\n\u001b[1;32m      2\u001b[0m \u001b[38;5;66;03m#horizontalstack\u001b[39;00m\n\u001b[0;32m----> 3\u001b[0m Horizontal\u001b[38;5;241m=\u001b[39mnp\u001b[38;5;241m.\u001b[39mhstack((a,b))\n",
      "File \u001b[0;32m<__array_function__ internals>:200\u001b[0m, in \u001b[0;36mhstack\u001b[0;34m(*args, **kwargs)\u001b[0m\n",
      "File \u001b[0;32m~/anaconda3/lib/python3.11/site-packages/numpy/core/shape_base.py:370\u001b[0m, in \u001b[0;36mhstack\u001b[0;34m(tup, dtype, casting)\u001b[0m\n\u001b[1;32m    368\u001b[0m     \u001b[38;5;28;01mreturn\u001b[39;00m _nx\u001b[38;5;241m.\u001b[39mconcatenate(arrs, \u001b[38;5;241m0\u001b[39m, dtype\u001b[38;5;241m=\u001b[39mdtype, casting\u001b[38;5;241m=\u001b[39mcasting)\n\u001b[1;32m    369\u001b[0m \u001b[38;5;28;01melse\u001b[39;00m:\n\u001b[0;32m--> 370\u001b[0m     \u001b[38;5;28;01mreturn\u001b[39;00m _nx\u001b[38;5;241m.\u001b[39mconcatenate(arrs, \u001b[38;5;241m1\u001b[39m, dtype\u001b[38;5;241m=\u001b[39mdtype, casting\u001b[38;5;241m=\u001b[39mcasting)\n",
      "File \u001b[0;32m<__array_function__ internals>:200\u001b[0m, in \u001b[0;36mconcatenate\u001b[0;34m(*args, **kwargs)\u001b[0m\n",
      "\u001b[0;31mValueError\u001b[0m: all the input array dimensions except for the concatenation axis must match exactly, but along dimension 0, the array at index 0 has size 3 and the array at index 1 has size 2"
     ]
    }
   ],
   "source": [
    "#to join two arrays\n",
    "#horizontalstack\n",
    "Horizontal=np.hstack((a,b))"
   ]
  },
  {
   "cell_type": "code",
   "execution_count": 72,
   "id": "eeec3499",
   "metadata": {},
   "outputs": [
    {
     "data": {
      "text/plain": [
       "array([[ 1,  2,  3,  4,  1,  2],\n",
       "       [ 5,  6,  7,  8,  3,  4],\n",
       "       [ 9, 10, 11, 12,  5,  6]])"
      ]
     },
     "execution_count": 72,
     "metadata": {},
     "output_type": "execute_result"
    }
   ],
   "source": [
    "Horizontal=np.hstack((a,c))\n",
    "Horizontal"
   ]
  },
  {
   "cell_type": "code",
   "execution_count": 74,
   "id": "4b9444af",
   "metadata": {},
   "outputs": [
    {
     "data": {
      "text/plain": [
       "array([[ 1,  2,  3,  4],\n",
       "       [ 5,  6,  7,  8],\n",
       "       [ 9, 10, 11, 12],\n",
       "       [ 1,  2,  3,  4],\n",
       "       [ 5,  6,  7,  8]])"
      ]
     },
     "execution_count": 74,
     "metadata": {},
     "output_type": "execute_result"
    }
   ],
   "source": [
    "#vertical join\n",
    "Vertical=np.vstack((a,b))\n",
    "Vertical"
   ]
  },
  {
   "cell_type": "code",
   "execution_count": 75,
   "id": "380a0557",
   "metadata": {},
   "outputs": [
    {
     "ename": "ValueError",
     "evalue": "all the input array dimensions except for the concatenation axis must match exactly, but along dimension 1, the array at index 0 has size 4 and the array at index 1 has size 2",
     "output_type": "error",
     "traceback": [
      "\u001b[0;31m---------------------------------------------------------------------------\u001b[0m",
      "\u001b[0;31mValueError\u001b[0m                                Traceback (most recent call last)",
      "Cell \u001b[0;32mIn[75], line 1\u001b[0m\n\u001b[0;32m----> 1\u001b[0m Vertical\u001b[38;5;241m=\u001b[39mnp\u001b[38;5;241m.\u001b[39mvstack((a,c))\n\u001b[1;32m      2\u001b[0m Vertical\n",
      "File \u001b[0;32m<__array_function__ internals>:200\u001b[0m, in \u001b[0;36mvstack\u001b[0;34m(*args, **kwargs)\u001b[0m\n",
      "File \u001b[0;32m~/anaconda3/lib/python3.11/site-packages/numpy/core/shape_base.py:296\u001b[0m, in \u001b[0;36mvstack\u001b[0;34m(tup, dtype, casting)\u001b[0m\n\u001b[1;32m    294\u001b[0m \u001b[38;5;28;01mif\u001b[39;00m \u001b[38;5;129;01mnot\u001b[39;00m \u001b[38;5;28misinstance\u001b[39m(arrs, \u001b[38;5;28mlist\u001b[39m):\n\u001b[1;32m    295\u001b[0m     arrs \u001b[38;5;241m=\u001b[39m [arrs]\n\u001b[0;32m--> 296\u001b[0m \u001b[38;5;28;01mreturn\u001b[39;00m _nx\u001b[38;5;241m.\u001b[39mconcatenate(arrs, \u001b[38;5;241m0\u001b[39m, dtype\u001b[38;5;241m=\u001b[39mdtype, casting\u001b[38;5;241m=\u001b[39mcasting)\n",
      "File \u001b[0;32m<__array_function__ internals>:200\u001b[0m, in \u001b[0;36mconcatenate\u001b[0;34m(*args, **kwargs)\u001b[0m\n",
      "\u001b[0;31mValueError\u001b[0m: all the input array dimensions except for the concatenation axis must match exactly, but along dimension 1, the array at index 0 has size 4 and the array at index 1 has size 2"
     ]
    }
   ],
   "source": [
    "Vertical=np.vstack((a,c))\n",
    "Vertical"
   ]
  },
  {
   "cell_type": "code",
   "execution_count": 77,
   "id": "32ce3afe",
   "metadata": {},
   "outputs": [
    {
     "ename": "ValueError",
     "evalue": "all the input array dimensions except for the concatenation axis must match exactly, but along dimension 1, the array at index 0 has size 4 and the array at index 1 has size 2",
     "output_type": "error",
     "traceback": [
      "\u001b[0;31m---------------------------------------------------------------------------\u001b[0m",
      "\u001b[0;31mValueError\u001b[0m                                Traceback (most recent call last)",
      "Cell \u001b[0;32mIn[77], line 1\u001b[0m\n\u001b[0;32m----> 1\u001b[0m Vertical\u001b[38;5;241m=\u001b[39mnp\u001b[38;5;241m.\u001b[39mvstack((b,c))\n\u001b[1;32m      2\u001b[0m Vertical\n",
      "File \u001b[0;32m<__array_function__ internals>:200\u001b[0m, in \u001b[0;36mvstack\u001b[0;34m(*args, **kwargs)\u001b[0m\n",
      "File \u001b[0;32m~/anaconda3/lib/python3.11/site-packages/numpy/core/shape_base.py:296\u001b[0m, in \u001b[0;36mvstack\u001b[0;34m(tup, dtype, casting)\u001b[0m\n\u001b[1;32m    294\u001b[0m \u001b[38;5;28;01mif\u001b[39;00m \u001b[38;5;129;01mnot\u001b[39;00m \u001b[38;5;28misinstance\u001b[39m(arrs, \u001b[38;5;28mlist\u001b[39m):\n\u001b[1;32m    295\u001b[0m     arrs \u001b[38;5;241m=\u001b[39m [arrs]\n\u001b[0;32m--> 296\u001b[0m \u001b[38;5;28;01mreturn\u001b[39;00m _nx\u001b[38;5;241m.\u001b[39mconcatenate(arrs, \u001b[38;5;241m0\u001b[39m, dtype\u001b[38;5;241m=\u001b[39mdtype, casting\u001b[38;5;241m=\u001b[39mcasting)\n",
      "File \u001b[0;32m<__array_function__ internals>:200\u001b[0m, in \u001b[0;36mconcatenate\u001b[0;34m(*args, **kwargs)\u001b[0m\n",
      "\u001b[0;31mValueError\u001b[0m: all the input array dimensions except for the concatenation axis must match exactly, but along dimension 1, the array at index 0 has size 4 and the array at index 1 has size 2"
     ]
    }
   ],
   "source": [
    "Vertical=np.vstack((b,c))\n",
    "Vertical"
   ]
  },
  {
   "cell_type": "code",
   "execution_count": 81,
   "id": "b5fb400a",
   "metadata": {},
   "outputs": [
    {
     "data": {
      "text/plain": [
       "array([[ 1,  2,  3,  4,  1,  2],\n",
       "       [ 5,  6,  7,  8,  3,  4],\n",
       "       [ 9, 10, 11, 12,  5,  6]])"
      ]
     },
     "execution_count": 81,
     "metadata": {},
     "output_type": "execute_result"
    }
   ],
   "source": [
    "#concatenation\n",
    "np.concatenate((a,c),axis=1)"
   ]
  },
  {
   "cell_type": "code",
   "execution_count": 84,
   "id": "179246a8",
   "metadata": {},
   "outputs": [
    {
     "data": {
      "text/plain": [
       "array([[ 1,  2,  3,  4,  1,  2],\n",
       "       [ 5,  6,  7,  8,  3,  4],\n",
       "       [ 9, 10, 11, 12,  5,  6]])"
      ]
     },
     "execution_count": 84,
     "metadata": {},
     "output_type": "execute_result"
    }
   ],
   "source": [
    "np.hstack((a,c))"
   ]
  },
  {
   "cell_type": "code",
   "execution_count": 102,
   "id": "030c87f1",
   "metadata": {},
   "outputs": [
    {
     "name": "stdout",
     "output_type": "stream",
     "text": [
      "[[1 2 5 3]\n",
      " [2 6 7 8]]\n",
      "\n",
      " [[1 5]\n",
      " [4 8]\n",
      " [9 2]]\n",
      "\n",
      " [[ 3  3  6]\n",
      " [ 5  4  0]\n",
      " [-1 -2  6]]\n",
      "\n",
      " [1 2 3]\n"
     ]
    }
   ],
   "source": [
    "a=np.array([[1,2,5,3],[2,6,7,8]])\n",
    "print(a)\n",
    "b=np.array([[1,5],[4,8],[9,2]])\n",
    "print(\"\\n\",b)\n",
    "c=np.array([[3,3,6],[5,4,0],[-1,-2,6]])\n",
    "print(\"\\n\",c)\n",
    "d=np.array([1,2,3])\n",
    "print(\"\\n\",d)"
   ]
  },
  {
   "cell_type": "code",
   "execution_count": 138,
   "id": "c33615a2",
   "metadata": {},
   "outputs": [
    {
     "name": "stdout",
     "output_type": "stream",
     "text": [
      "\n",
      " [[ 3  3  6]\n",
      " [ 5  4  0]\n",
      " [-1 -2  6]\n",
      " [ 1  2  3]]\n",
      "\n",
      " [[ 1  2  3]\n",
      " [ 3  3  6]\n",
      " [ 5  4  0]\n",
      " [-1 -2  6]]\n"
     ]
    }
   ],
   "source": [
    "# horizontal join for the above array is not possibl\n",
    "vertical=np.vstack((c,d))\n",
    "print(\"\\n\",vertical)\n",
    "vertical1=np.vstack((d,c))\n",
    "print(\"\\n\",vertical1)\n"
   ]
  },
  {
   "cell_type": "code",
   "execution_count": 121,
   "id": "481f7aeb",
   "metadata": {},
   "outputs": [
    {
     "name": "stdout",
     "output_type": "stream",
     "text": [
      "[[ 1  5  3  3  6]\n",
      " [ 4  8  5  4  0]\n",
      " [ 9  2 -1 -2  6]]\n",
      "\n",
      " [[ 3  3  6  1  5]\n",
      " [ 5  4  0  4  8]\n",
      " [-1 -2  6  9  2]]\n"
     ]
    }
   ],
   "source": [
    "concatenation=np.concatenate((b,c),axis=1)\n",
    "print(concatenation)\n",
    "concatenation1=np.concatenate((c,b),axis=1)\n",
    "print(\"\\n\",concatenation1)"
   ]
  },
  {
   "cell_type": "code",
   "execution_count": 120,
   "id": "41871d1a",
   "metadata": {},
   "outputs": [
    {
     "name": "stdout",
     "output_type": "stream",
     "text": [
      "[[ 1  5  3  3  6]\n",
      " [ 4  8  5  4  0]\n",
      " [ 9  2 -1 -2  6]]\n",
      "\n",
      " [[ 3  3  6  1  5]\n",
      " [ 5  4  0  4  8]\n",
      " [-1 -2  6  9  2]]\n"
     ]
    }
   ],
   "source": [
    "Horizontal=np.hstack((b,c))\n",
    "print(Horizontal)\n",
    "Horizontal1=np.hstack((c,b))\n",
    "print(\"\\n\",Horizontal1)"
   ]
  },
  {
   "cell_type": "code",
   "execution_count": 124,
   "id": "ccf862c9",
   "metadata": {},
   "outputs": [
    {
     "name": "stdout",
     "output_type": "stream",
     "text": [
      "[[10 20 30 40 50]\n",
      " [60 70 80 90 95]]\n",
      "10\n",
      "20\n",
      "30\n",
      "40\n",
      "50\n",
      "60\n",
      "70\n",
      "80\n",
      "90\n",
      "95\n"
     ]
    }
   ],
   "source": [
    "arr=np.array([[10,20,30,40,50],[60,70,80,90,95]])\n",
    "print(arr)\n",
    "for i in arr:\n",
    "    for j in i:\n",
    "        print(j)\n",
    "        \n",
    "    "
   ]
  },
  {
   "cell_type": "code",
   "execution_count": 129,
   "id": "8c42d7ce",
   "metadata": {},
   "outputs": [
    {
     "name": "stdout",
     "output_type": "stream",
     "text": [
      "10\n",
      "20\n",
      "30\n",
      "40\n",
      "50\n",
      "60\n",
      "70\n",
      "80\n",
      "90\n",
      "95\n"
     ]
    }
   ],
   "source": [
    "for i in np.nditer(arr):\n",
    "    print(i)\n"
   ]
  },
  {
   "cell_type": "code",
   "execution_count": 131,
   "id": "2f530e28",
   "metadata": {},
   "outputs": [
    {
     "name": "stdout",
     "output_type": "stream",
     "text": [
      "[10 20 30 40 50]\n",
      "[10 20 30 40 50]\n",
      "[10 20 30 40 50]\n",
      "[10 20 30 40 50]\n",
      "[10 20 30 40 50]\n",
      "[60 70 80 90 95]\n",
      "[60 70 80 90 95]\n",
      "[60 70 80 90 95]\n",
      "[60 70 80 90 95]\n",
      "[60 70 80 90 95]\n"
     ]
    }
   ],
   "source": [
    "\n",
    "for i in arr:\n",
    "    for j in i:\n",
    "        print(i)\n",
    "        "
   ]
  },
  {
   "cell_type": "code",
   "execution_count": 132,
   "id": "59e716df",
   "metadata": {},
   "outputs": [
    {
     "name": "stdout",
     "output_type": "stream",
     "text": [
      "[10 20 30 40 50]\n",
      "[60 70 80 90 95]\n"
     ]
    }
   ],
   "source": [
    "for i in arr:\n",
    "    print(i)"
   ]
  },
  {
   "cell_type": "code",
   "execution_count": 134,
   "id": "f3db3dd5",
   "metadata": {},
   "outputs": [
    {
     "data": {
      "text/plain": [
       "array([[ 1,  2,  3,  4,  5,  6],\n",
       "       [ 7,  8,  9, 10, 11, 12],\n",
       "       [13, 14, 15, 16, 17, 18],\n",
       "       [19, 20, 21, 22, 23, 24]])"
      ]
     },
     "execution_count": 134,
     "metadata": {},
     "output_type": "execute_result"
    }
   ],
   "source": [
    "arr1=np.arange(1,25).reshape(4,6)\n",
    "arr1"
   ]
  },
  {
   "cell_type": "code",
   "execution_count": 135,
   "id": "a6362777",
   "metadata": {},
   "outputs": [
    {
     "data": {
      "text/plain": [
       "[array([[ 1,  2],\n",
       "        [ 7,  8],\n",
       "        [13, 14],\n",
       "        [19, 20]]),\n",
       " array([[ 3,  4],\n",
       "        [ 9, 10],\n",
       "        [15, 16],\n",
       "        [21, 22]]),\n",
       " array([[ 5,  6],\n",
       "        [11, 12],\n",
       "        [17, 18],\n",
       "        [23, 24]])]"
      ]
     },
     "execution_count": 135,
     "metadata": {},
     "output_type": "execute_result"
    }
   ],
   "source": [
    "#split this into multiple array\n",
    "np.hsplit(arr1,3)"
   ]
  },
  {
   "cell_type": "code",
   "execution_count": 136,
   "id": "3d5043a5",
   "metadata": {},
   "outputs": [
    {
     "data": {
      "text/plain": [
       "[array([[1, 2, 3, 4, 5, 6]]),\n",
       " array([[ 7,  8,  9, 10, 11, 12]]),\n",
       " array([[13, 14, 15, 16, 17, 18]]),\n",
       " array([[19, 20, 21, 22, 23, 24]])]"
      ]
     },
     "execution_count": 136,
     "metadata": {},
     "output_type": "execute_result"
    }
   ],
   "source": [
    "np.vsplit(arr1,4)"
   ]
  },
  {
   "cell_type": "code",
   "execution_count": 139,
   "id": "b83b1106",
   "metadata": {},
   "outputs": [
    {
     "name": "stdout",
     "output_type": "stream",
     "text": [
      "\n",
      " [[1 2 5 3]\n",
      " [2 6 7 8]]\n",
      "\n",
      " [[1 5]\n",
      " [4 8]\n",
      " [9 2]]\n",
      "\n",
      " [[ 3  3  6]\n",
      " [ 5  4  0]\n",
      " [-1 -2  6]]\n"
     ]
    }
   ],
   "source": [
    "print(\"\\n\",a)\n",
    "print(\"\\n\",b)\n",
    "print(\"\\n\",c)"
   ]
  },
  {
   "cell_type": "code",
   "execution_count": 140,
   "id": "7c965646",
   "metadata": {},
   "outputs": [
    {
     "data": {
      "text/plain": [
       "array([ 1,  2,  5,  3,  2,  6,  7,  8,  3,  3,  6,  5,  4,  0, -1, -2,  6])"
      ]
     },
     "execution_count": 140,
     "metadata": {},
     "output_type": "execute_result"
    }
   ],
   "source": [
    "# append the data\n",
    "np.append(a,c)"
   ]
  },
  {
   "cell_type": "code",
   "execution_count": 141,
   "id": "5b350e39",
   "metadata": {},
   "outputs": [
    {
     "data": {
      "text/plain": [
       "array([1, 2, 5, 3, 2, 6, 7, 8, 1, 5, 4, 8, 9, 2])"
      ]
     },
     "execution_count": 141,
     "metadata": {},
     "output_type": "execute_result"
    }
   ],
   "source": [
    "np.append(a,b)"
   ]
  },
  {
   "cell_type": "code",
   "execution_count": 145,
   "id": "7ad7e35d",
   "metadata": {},
   "outputs": [
    {
     "data": {
      "text/plain": [
       "array([[ 1,  5,  3,  3,  6],\n",
       "       [ 4,  8,  5,  4,  0],\n",
       "       [ 9,  2, -1, -2,  6]])"
      ]
     },
     "execution_count": 145,
     "metadata": {},
     "output_type": "execute_result"
    }
   ],
   "source": [
    "np.append(b,c,axis=1)"
   ]
  },
  {
   "cell_type": "code",
   "execution_count": 146,
   "id": "70019ea5",
   "metadata": {},
   "outputs": [
    {
     "data": {
      "text/plain": [
       "array([[50, 51, 52, 53, 54, 55],\n",
       "       [56, 57, 58, 59, 60, 61],\n",
       "       [62, 63, 64, 65, 66, 67],\n",
       "       [68, 69, 70, 71, 72, 73],\n",
       "       [74, 75, 76, 77, 78, 79]])"
      ]
     },
     "execution_count": 146,
     "metadata": {},
     "output_type": "execute_result"
    }
   ],
   "source": [
    "arr1=np.arange(50,80).reshape(5,6)\n",
    "arr1"
   ]
  },
  {
   "cell_type": "code",
   "execution_count": 153,
   "id": "d299ac5f",
   "metadata": {},
   "outputs": [
    {
     "data": {
      "text/plain": [
       "array([[  1, 127,   1, 127,   1, 127],\n",
       "       [  1, 127,   1, 127,   1, 127],\n",
       "       [  1, 127,   1, 127,   1, 127],\n",
       "       [  1, 127,   1, 127,   1, 127],\n",
       "       [  1, 127,   1, 127,   1, 127]])"
      ]
     },
     "execution_count": 153,
     "metadata": {},
     "output_type": "execute_result"
    }
   ],
   "source": [
    "#replace all even number with 1 and odd number with 127\n",
    "np.where(arr1%2==0,1,127)"
   ]
  },
  {
   "cell_type": "code",
   "execution_count": 154,
   "id": "9a2fb074",
   "metadata": {},
   "outputs": [
    {
     "data": {
      "text/plain": [
       "array([[False, False, False, False, False, False],\n",
       "       [False, False, False, False, False, False],\n",
       "       [False, False, False, False,  True,  True],\n",
       "       [ True,  True,  True,  True,  True,  True],\n",
       "       [ True,  True,  True,  True,  True,  True]])"
      ]
     },
     "execution_count": 154,
     "metadata": {},
     "output_type": "execute_result"
    }
   ],
   "source": [
    "#if value is greater than 65 then True else false\n",
    "np.where(arr1>65,True,False)"
   ]
  },
  {
   "cell_type": "code",
   "execution_count": 156,
   "id": "b03d8c38",
   "metadata": {},
   "outputs": [
    {
     "data": {
      "text/plain": [
       "array([[ 1, 51,  1, 53,  1, 55],\n",
       "       [ 1, 57,  1, 59,  1, 61],\n",
       "       [ 1, 63,  1, 65,  1, 67],\n",
       "       [ 1, 69,  1, 71,  1, 73],\n",
       "       [ 1, 75,  1, 77,  1, 79]])"
      ]
     },
     "execution_count": 156,
     "metadata": {},
     "output_type": "execute_result"
    }
   ],
   "source": [
    "#only even value should be 1 rest is same\n",
    "np.where(arr1%2==0,1,arr1)"
   ]
  },
  {
   "cell_type": "code",
   "execution_count": 164,
   "id": "72079caf",
   "metadata": {},
   "outputs": [
    {
     "data": {
      "text/plain": [
       "array([10, 13, 30, 50, 65, 70])"
      ]
     },
     "execution_count": 164,
     "metadata": {},
     "output_type": "execute_result"
    }
   ],
   "source": [
    "age=[10,13,30,50,65,70]\n",
    "arr=np.array(age)\n",
    "arr\n"
   ]
  },
  {
   "cell_type": "code",
   "execution_count": 170,
   "id": "8cc72203",
   "metadata": {},
   "outputs": [
    {
     "data": {
      "text/plain": [
       "array([30, 50, 65, 70])"
      ]
     },
     "execution_count": 170,
     "metadata": {},
     "output_type": "execute_result"
    }
   ],
   "source": [
    "#print whose age is greater than 18\n",
    "arr[arr>18]"
   ]
  },
  {
   "cell_type": "code",
   "execution_count": 171,
   "id": "445fb9e4",
   "metadata": {},
   "outputs": [
    {
     "data": {
      "text/plain": [
       "array([False, False, False, False,  True,  True])"
      ]
     },
     "execution_count": 171,
     "metadata": {},
     "output_type": "execute_result"
    }
   ],
   "source": [
    "arr>50"
   ]
  },
  {
   "cell_type": "code",
   "execution_count": 183,
   "id": "dd6cf071",
   "metadata": {},
   "outputs": [
    {
     "data": {
      "text/plain": [
       "array([False, False,  True, False, False, False])"
      ]
     },
     "execution_count": 183,
     "metadata": {},
     "output_type": "execute_result"
    }
   ],
   "source": [
    "(arr>15) & (arr<50)"
   ]
  },
  {
   "cell_type": "code",
   "execution_count": 184,
   "id": "fec74d63",
   "metadata": {},
   "outputs": [
    {
     "data": {
      "text/plain": [
       "array([ True,  True,  True,  True,  True,  True])"
      ]
     },
     "execution_count": 184,
     "metadata": {},
     "output_type": "execute_result"
    }
   ],
   "source": [
    "(arr>15) | (arr<50)"
   ]
  },
  {
   "cell_type": "code",
   "execution_count": 188,
   "id": "64d7f088",
   "metadata": {},
   "outputs": [
    {
     "name": "stdout",
     "output_type": "stream",
     "text": [
      "[[1 2 3]\n",
      " [4 5 6]]\n",
      "\n",
      " (2, 3)\n"
     ]
    },
    {
     "data": {
      "text/plain": [
       "array([1, 2, 3, 4, 5, 6])"
      ]
     },
     "execution_count": 188,
     "metadata": {},
     "output_type": "execute_result"
    }
   ],
   "source": [
    "a=np.array([[1,2,3],[4,5,6]])\n",
    "print(a)\n",
    "print(\"\\n\",a.shape)\n",
    "#convert this 2d array into 1d\n",
    "a.flatten()"
   ]
  },
  {
   "cell_type": "code",
   "execution_count": 189,
   "id": "80298215",
   "metadata": {},
   "outputs": [
    {
     "data": {
      "text/plain": [
       "array([1, 2, 3, 4, 5, 6])"
      ]
     },
     "execution_count": 189,
     "metadata": {},
     "output_type": "execute_result"
    }
   ],
   "source": [
    "a.ravel()"
   ]
  },
  {
   "cell_type": "code",
   "execution_count": 190,
   "id": "f0470769",
   "metadata": {},
   "outputs": [
    {
     "data": {
      "text/plain": [
       "-3.0"
      ]
     },
     "execution_count": 190,
     "metadata": {},
     "output_type": "execute_result"
    }
   ],
   "source": [
    "np.floor(-2.97)"
   ]
  },
  {
   "cell_type": "code",
   "execution_count": 191,
   "id": "4d678e73",
   "metadata": {},
   "outputs": [
    {
     "data": {
      "text/plain": [
       "-2.0"
      ]
     },
     "execution_count": 191,
     "metadata": {},
     "output_type": "execute_result"
    }
   ],
   "source": [
    "np.ceil(-2.97)"
   ]
  },
  {
   "cell_type": "code",
   "execution_count": 192,
   "id": "74e48ce1",
   "metadata": {},
   "outputs": [
    {
     "data": {
      "text/plain": [
       "-3.0"
      ]
     },
     "execution_count": 192,
     "metadata": {},
     "output_type": "execute_result"
    }
   ],
   "source": [
    "np.round(-2.97)"
   ]
  },
  {
   "cell_type": "code",
   "execution_count": 193,
   "id": "35d36ba0",
   "metadata": {},
   "outputs": [
    {
     "data": {
      "text/plain": [
       "0.8939966636005579"
      ]
     },
     "execution_count": 193,
     "metadata": {},
     "output_type": "execute_result"
    }
   ],
   "source": [
    "np.sin(90)"
   ]
  },
  {
   "cell_type": "code",
   "execution_count": 194,
   "id": "8a282b0a",
   "metadata": {},
   "outputs": [
    {
     "data": {
      "text/plain": [
       "-0.4480736161291702"
      ]
     },
     "execution_count": 194,
     "metadata": {},
     "output_type": "execute_result"
    }
   ],
   "source": [
    "np.cos(90)"
   ]
  },
  {
   "cell_type": "code",
   "execution_count": 195,
   "id": "832f64b8",
   "metadata": {},
   "outputs": [
    {
     "data": {
      "text/plain": [
       "0.9999975190129178"
      ]
     },
     "execution_count": 195,
     "metadata": {},
     "output_type": "execute_result"
    }
   ],
   "source": [
    "np.tanh(6.8)"
   ]
  },
  {
   "cell_type": "code",
   "execution_count": 197,
   "id": "29caffe0",
   "metadata": {},
   "outputs": [
    {
     "data": {
      "text/plain": [
       "-5.0"
      ]
     },
     "execution_count": 197,
     "metadata": {},
     "output_type": "execute_result"
    }
   ],
   "source": [
    "np.round(-4.567)"
   ]
  },
  {
   "cell_type": "code",
   "execution_count": 198,
   "id": "ec8227e7",
   "metadata": {},
   "outputs": [
    {
     "name": "stdout",
     "output_type": "stream",
     "text": [
      "[[ 3 30  8 28 36]\n",
      " [30  4 21 16 28]]\n",
      "\n",
      " [[36 28 15 47 20]\n",
      " [26 25 49 38 46]]\n",
      "\n",
      "The correlation coefficient b/w twoo arrays are:  [[ 1.         -0.4025565   0.05115192  0.11780491]\n",
      " [-0.4025565   1.         -0.13466643  0.3494499 ]\n",
      " [ 0.05115192 -0.13466643  1.         -0.52338602]\n",
      " [ 0.11780491  0.3494499  -0.52338602  1.        ]]\n"
     ]
    }
   ],
   "source": [
    "# Create two NumPy arrays of the same length with random numerical values. Compute the correlation coefficient between the two arrays\n",
    "arr1=np.random.randint(1,50,10).reshape(2,5)\n",
    "arr2=np.random.randint(1,50,10).reshape(2,5)\n",
    "print(arr1)\n",
    "print(\"\\n\",arr2)\n",
    "print(\"\\nThe correlation coefficient b/w twoo arrays are: \",np.corrcoef(arr1,arr2))"
   ]
  },
  {
   "cell_type": "code",
   "execution_count": 199,
   "id": "8cfd426a",
   "metadata": {},
   "outputs": [
    {
     "name": "stdout",
     "output_type": "stream",
     "text": [
      "[[14 14 36]\n",
      " [ 7 33 39]]\n",
      "\n",
      "The multiplication of different scaller value from the random array is:  [[ 28  42 144]\n",
      " [ 14  99 156]]\n"
     ]
    }
   ],
   "source": [
    "# Q2. Create a 2x3 NumPy array with random integers. Multiply each column by a different scalar value without using a loop.\n",
    "arr3=np.random.randint(1,50,6).reshape(2,3)\n",
    "print(arr3)\n",
    "scaler=np.array([2,3,4])\n",
    "multiply=arr3*scaler\n",
    "print(\"\\nThe multiplication of different scaller value from the random array is: \",multiply)\n"
   ]
  },
  {
   "cell_type": "code",
   "execution_count": 200,
   "id": "ec79d224",
   "metadata": {},
   "outputs": [
    {
     "name": "stdout",
     "output_type": "stream",
     "text": [
      "[[0.48773507 0.02155288 0.53103012]\n",
      " [0.0824912  0.61468575 0.96888686]\n",
      " [0.87686535 0.26687516 0.79411011]]\n",
      "\n",
      "The Added scaller value is:  [[7.48773507 7.02155288 7.53103012]\n",
      " [7.0824912  7.61468575 7.96888686]\n",
      " [7.87686535 7.26687516 7.79411011]]\n"
     ]
    }
   ],
   "source": [
    "# create a NumPy array with shape (3, 3) filled with random values. Add a scalar value to each element in the array using broadcasting.\n",
    "arr4=np.random.rand(3,3)\n",
    "print(arr4)\n",
    "scaller_value=7\n",
    "add=arr4+scaller_value\n",
    "print(\"\\nThe Added scaller value is: \",add)"
   ]
  },
  {
   "cell_type": "code",
   "execution_count": 201,
   "id": "37512287",
   "metadata": {},
   "outputs": [
    {
     "name": "stdout",
     "output_type": "stream",
     "text": [
      "[1 2 3 4 5 6]\n",
      "\n",
      " [ 5  6  7  8  9 10]\n",
      "\n",
      "The intersection of two array is:  [5 6]\n"
     ]
    }
   ],
   "source": [
    "#Q3. Create two NumPy arrays with unique integer values. Find the intersection of the two sets using NumPy.\n",
    "arr5=np.array([1,2,3,4,5,6])\n",
    "print(arr5)\n",
    "arr6=np.array([5,6,7,8,9,10])\n",
    "print(\"\\n\",arr6)\n",
    "print(\"\\nThe intersection of two array is: \",np.intersect1d(arr5,arr6))"
   ]
  },
  {
   "cell_type": "code",
   "execution_count": 204,
   "id": "f9f86dd0",
   "metadata": {},
   "outputs": [
    {
     "name": "stdout",
     "output_type": "stream",
     "text": [
      "\n",
      "The union of two array is:  [ 1  2  3  4  5  6  7  8  9 10]\n"
     ]
    }
   ],
   "source": [
    "#UNION\n",
    "print(\"\\nThe union of two array is: \",np.union1d(arr5,arr6))"
   ]
  },
  {
   "cell_type": "code",
   "execution_count": 206,
   "id": "748b9350",
   "metadata": {},
   "outputs": [
    {
     "name": "stdout",
     "output_type": "stream",
     "text": [
      "[1 2 3 4 5 6]\n",
      "\n",
      " [ 5  6  7  8  9 10]\n",
      "\n",
      "The set difference between two array is:  [1 2 3 4]\n",
      "\n",
      "The set difference between two array is:  [ 7  8  9 10]\n"
     ]
    }
   ],
   "source": [
    "# Generate two NumPy arrays with integers. Calculate the set difference between the two arrays.\n",
    "arr7=np.array([1,2,3,4,5,6])\n",
    "arr8=np.array([5,6,7,8,9,10])\n",
    "print(arr7)\n",
    "print(\"\\n\",arr8)\n",
    "print(\"\\nThe set difference between two array is: \",np.setdiff1d(arr7,arr8))\n",
    "print(\"\\nThe set difference between two array is: \",np.setdiff1d(arr8,arr7))"
   ]
  },
  {
   "cell_type": "code",
   "execution_count": null,
   "id": "fd6df345",
   "metadata": {},
   "outputs": [],
   "source": []
  }
 ],
 "metadata": {
  "kernelspec": {
   "display_name": "Python 3 (ipykernel)",
   "language": "python",
   "name": "python3"
  },
  "language_info": {
   "codemirror_mode": {
    "name": "ipython",
    "version": 3
   },
   "file_extension": ".py",
   "mimetype": "text/x-python",
   "name": "python",
   "nbconvert_exporter": "python",
   "pygments_lexer": "ipython3",
   "version": "3.11.4"
  }
 },
 "nbformat": 4,
 "nbformat_minor": 5
}
