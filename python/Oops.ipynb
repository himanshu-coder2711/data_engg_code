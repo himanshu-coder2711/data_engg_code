{
 "cells": [
  {
   "cell_type": "code",
   "execution_count": 1,
   "id": "0e306a43",
   "metadata": {},
   "outputs": [
    {
     "ename": "AttributeError",
     "evalue": "'ABC' object has no attribute 'x'",
     "output_type": "error",
     "traceback": [
      "\u001b[0;31m---------------------------------------------------------------------------\u001b[0m",
      "\u001b[0;31mAttributeError\u001b[0m                            Traceback (most recent call last)",
      "Cell \u001b[0;32mIn[1], line 10\u001b[0m\n\u001b[1;32m      7\u001b[0m obj1\u001b[38;5;241m=\u001b[39mABC()\n\u001b[1;32m      9\u001b[0m \u001b[38;5;66;03m#to access the data we use (dot-->.)\u001b[39;00m\n\u001b[0;32m---> 10\u001b[0m \u001b[38;5;28mprint\u001b[39m(obj1\u001b[38;5;241m.\u001b[39mx)\n\u001b[1;32m     11\u001b[0m \u001b[38;5;28mprint\u001b[39m(obj1\u001b[38;5;241m.\u001b[39my)\n",
      "\u001b[0;31mAttributeError\u001b[0m: 'ABC' object has no attribute 'x'"
     ]
    }
   ],
   "source": [
    "#creating a class\n",
    "class ABC:\n",
    "    X=10\n",
    "    Y=20\n",
    "    \n",
    "#CREATING OBJECTS\n",
    "obj1=ABC()\n",
    "\n",
    "#to access the data we use (dot-->.)\n",
    "print(obj1.x)\n",
    "print(obj1.y)"
   ]
  },
  {
   "cell_type": "code",
   "execution_count": 2,
   "id": "c4227e56",
   "metadata": {},
   "outputs": [
    {
     "name": "stdout",
     "output_type": "stream",
     "text": [
      "Top\n",
      "Nexon\n",
      "5\n"
     ]
    }
   ],
   "source": [
    "class CAR:\n",
    "    Name='Nexon'\n",
    "    Safety=\"Top\"\n",
    "    Rating=5\n",
    "Nexon_Top=CAR()\n",
    "print(Nexon_Top.Safety)\n",
    "print(Nexon_Top.Name)\n",
    "print(Nexon_Top.Rating)"
   ]
  },
  {
   "cell_type": "code",
   "execution_count": 3,
   "id": "40cf1214",
   "metadata": {},
   "outputs": [
    {
     "name": "stdout",
     "output_type": "stream",
     "text": [
      "The number is: 3\n",
      "3 is odd\n"
     ]
    }
   ],
   "source": [
    "class Numbers:\n",
    "    def __init__(self, number):\n",
    "        self.number = number\n",
    "    \n",
    "    def display(self):\n",
    "        print(\"The number is:\",self.number)\n",
    "    \n",
    "    def is_even(self):\n",
    "        return self.number % 2 == 0\n",
    "    \n",
    "    def eod(self):\n",
    "        if self.is_even():\n",
    "            print(self.number, \"is even\")\n",
    "        else:\n",
    "            print(self.number,\"is odd\")\n",
    "n1 = Numbers(3)\n",
    "n1.display()\n",
    "n1.eod()"
   ]
  },
  {
   "cell_type": "code",
   "execution_count": 4,
   "id": "2c10aad2",
   "metadata": {},
   "outputs": [
    {
     "ename": "SyntaxError",
     "evalue": "incomplete input (3275574001.py, line 10)",
     "output_type": "error",
     "traceback": [
      "\u001b[0;36m  Cell \u001b[0;32mIn[4], line 10\u001b[0;36m\u001b[0m\n\u001b[0;31m    \u001b[0m\n\u001b[0m    ^\u001b[0m\n\u001b[0;31mSyntaxError\u001b[0m\u001b[0;31m:\u001b[0m incomplete input\n"
     ]
    }
   ],
   "source": [
    "class Numbers:\n",
    "    def _init_(self,num):\n",
    "        self.num=num\n",
    "    def disp(self):\n",
    "        print(\"The number is\",self.num)\n",
    "    def eod(self):\n",
    "        if self.num%2==0:\n",
    "            self.res=1\n",
    "        else:\n",
    "            "
   ]
  },
  {
   "cell_type": "code",
   "execution_count": 10,
   "id": "fde11d6d",
   "metadata": {},
   "outputs": [
    {
     "name": "stdout",
     "output_type": "stream",
     "text": [
      "Length=  25 Width= 8\n",
      "Area is  200\n",
      "Perimeter is 66\n",
      "Area is 200\n",
      "perimeter is 66\n"
     ]
    }
   ],
   "source": [
    "class Rectangle:\n",
    "    def __init__(self, length, width):\n",
    "        self.length = length\n",
    "        self.width = width\n",
    "\n",
    "    def display(self):\n",
    "            print(\"Length= \",self.length, \"Width=\",self.width)\n",
    "\n",
    "    def area(self):\n",
    "            return self.length * self.width\n",
    "\n",
    "    def perimeter(self):\n",
    "            return 2 * (self.length + self.width)\n",
    "\n",
    "    def result(self):\n",
    "            print(\"Area is\",self.area())\n",
    "            print(\"perimeter is\", self.perimeter())\n",
    "\n",
    "rect = Rectangle(25, 8)\n",
    "rect.display()\n",
    "print('Area is ',rect.area())\n",
    "print('Perimeter is',rect.perimeter())\n",
    "rect.result()"
   ]
  },
  {
   "cell_type": "code",
   "execution_count": 11,
   "id": "73f633ea",
   "metadata": {},
   "outputs": [
    {
     "name": "stdout",
     "output_type": "stream",
     "text": [
      "Area of circle is 78.53981633974483\n",
      "Circumference  of circle is 31.41592653589793\n"
     ]
    }
   ],
   "source": [
    "class Circle:\n",
    "    def __init__(self, radius):\n",
    "        self.radius = radius\n",
    "        self.pi = 3.141592653589793\n",
    "\n",
    "    def area(self):\n",
    "        return self.pi * self.radius ** 2\n",
    "\n",
    "    def circumference(self):\n",
    "        return 2 * self.pi * self.radius\n",
    "\n",
    "r = Circle(5)\n",
    "print(\"Area of circle is\",r.area())\n",
    "print(\"Circumference  of circle is\",r.circumference())"
   ]
  },
  {
   "cell_type": "code",
   "execution_count": 15,
   "id": "82d0eb86",
   "metadata": {},
   "outputs": [
    {
     "name": "stdout",
     "output_type": "stream",
     "text": [
      "i,n,n,o,m,a,t,i,c,s,"
     ]
    }
   ],
   "source": [
    "for i in 'innomatics':\n",
    "    if i=='o':\n",
    "        pass\n",
    "    print(i,end=',')"
   ]
  },
  {
   "cell_type": "code",
   "execution_count": 16,
   "id": "4df8c823",
   "metadata": {},
   "outputs": [
    {
     "name": "stdout",
     "output_type": "stream",
     "text": [
      "aaaaaa"
     ]
    }
   ],
   "source": [
    "x='abcdef'\n",
    "i='a'\n",
    "while i in x:\n",
    "    x=x[:-1]\n",
    "    print(i,end=\"\")"
   ]
  },
  {
   "cell_type": "code",
   "execution_count": 17,
   "id": "19282bc4",
   "metadata": {},
   "outputs": [
    {
     "name": "stdout",
     "output_type": "stream",
     "text": [
      "0\n",
      "1\n",
      "2\n",
      "3\n"
     ]
    }
   ],
   "source": [
    "l1=[4,12,13,14,15,16]\n",
    "for i in range(min(l1)):\n",
    "    print(i)"
   ]
  },
  {
   "cell_type": "code",
   "execution_count": null,
   "id": "e693b5d5",
   "metadata": {},
   "outputs": [],
   "source": [
    "num=5\n",
    "while num>=1:\n",
    "    if num==3:\n",
    "        continue\n",
    "        num=num-1\n",
    "        print(num)"
   ]
  },
  {
   "cell_type": "code",
   "execution_count": null,
   "id": "de8b8072",
   "metadata": {},
   "outputs": [],
   "source": [
    "for i in 'innomatics':\n",
    "    if i==\"o\":\n",
    "        break\n",
    "        print(i)"
   ]
  },
  {
   "cell_type": "code",
   "execution_count": null,
   "id": "d311b88e",
   "metadata": {},
   "outputs": [],
   "source": [
    "i=0\n",
    "whilei<=5:\n",
    "    if(i==2):\n",
    "        continue\n",
    "    i=i+1"
   ]
  },
  {
   "cell_type": "code",
   "execution_count": 4,
   "id": "f8b6130f",
   "metadata": {},
   "outputs": [
    {
     "name": "stdout",
     "output_type": "stream",
     "text": [
      "Model: mid\n",
      "Color: blue\n",
      "Airbags: 4\n",
      "Engine Capacity: 1497\n",
      "Safety: Moderate safety\n",
      "Mileage at 110 km/h: 16\n",
      "Model: top\n",
      "Color: red\n",
      "Airbags: 6\n",
      "Engine Capacity: 1199\n",
      "Safety: High safety\n",
      "Mileage at 90 km/h: 16\n"
     ]
    }
   ],
   "source": [
    "class Nexon:\n",
    "    def __init__(self, model, color, airbags, engine_capacity, fuel_type):\n",
    "        self.model = model\n",
    "        self.color = color\n",
    "        self.airbags = airbags\n",
    "        self.engine_capacity = engine_capacity\n",
    "        self.fuel_type = fuel_type\n",
    "\n",
    "    def safety(self):\n",
    "        if self.model == 'low':\n",
    "            return 'Low safety'\n",
    "        elif self.model == 'mid':\n",
    "            return 'Moderate safety'\n",
    "        elif self.model == 'top':\n",
    "            return 'High safety'\n",
    "        else:\n",
    "            return 'Unknown model'\n",
    "\n",
    "    def mileage(self, speed):\n",
    "        if self.fuel_type == 'diesel':\n",
    "            if speed > 120:\n",
    "                return 14\n",
    "            elif 100 < speed <= 120:\n",
    "                return 16\n",
    "            elif 80 < speed <= 100:\n",
    "                return 18\n",
    "            else:\n",
    "                return 20\n",
    "        elif self.fuel_type == 'petrol':\n",
    "            if speed > 120:\n",
    "                return 12\n",
    "            elif 100 < speed <= 120:\n",
    "                return 15\n",
    "            elif 80 < speed <= 100:\n",
    "                return 16\n",
    "            else:\n",
    "                return 18\n",
    "        else:\n",
    "            return 'Unknown fuel type'\n",
    "\n",
    "\n",
    "nexon1 = Nexon('mid', 'blue', 4, 1497, 'diesel')\n",
    "print(\"Model:\", nexon1.model)\n",
    "print(\"Color:\",nexon1.color)\n",
    "print(\"Airbags:\",nexon1.airbags)\n",
    "print(\"Engine Capacity:\", nexon1.engine_capacity)\n",
    "print(\"Safety:\",nexon1.safety())\n",
    "print(\"Mileage at 110 km/h:\",nexon1.mileage(110))\n",
    "\n",
    "nexon2 = Nexon('top', 'red', 6, 1199, 'petrol')\n",
    "print(\"Model:\", nexon2.model)\n",
    "print(\"Color:\", nexon2.color)\n",
    "print(\"Airbags:\",nexon2.airbags)\n",
    "print(\"Engine Capacity:\",nexon2.engine_capacity)\n",
    "print(\"Safety:\",nexon2.safety())\n",
    "print(\"Mileage at 90 km/h:\", nexon2.mileage(90))"
   ]
  },
  {
   "cell_type": "code",
   "execution_count": 7,
   "id": "e92de81f",
   "metadata": {},
   "outputs": [],
   "source": [
    "class Nexon:\n",
    "    def __init__(self, model, color, airbags, engine_capacity, fuel_type):\n",
    "        self.model = model\n",
    "        self.color = color\n",
    "        self.airbags = airbags\n",
    "        self.engine_capacity = engine_capacity\n",
    "        self.fuel_type = fuel_type\n",
    "\n",
    "    def safety(self):\n",
    "        if self.model == 'low':\n",
    "            return 'Low safety'\n",
    "        elif self.model == 'mid':\n",
    "            return 'Moderate safety'\n",
    "        elif self.model == 'top':\n",
    "            return 'High safety'\n",
    "        else:\n",
    "            return 'Unknown model'\n",
    "\n",
    "    def mileage(self, speed):\n",
    "        if self.fuel_type == 'diesel':\n",
    "            if speed > 120:\n",
    "                return 14\n",
    "            elif 100 < speed <= 120:\n",
    "                return 16\n",
    "            elif 80 < speed <= 100:\n",
    "                return 18\n",
    "            else:\n",
    "                return 20\n",
    "        elif self.fuel_type == 'petrol':\n",
    "            if speed > 120:\n",
    "                return 12\n",
    "            elif 100 < speed <= 120:\n",
    "                return 15\n",
    "            elif 80 < speed <= 100:\n",
    "                return 16\n",
    "            else:\n",
    "                return 18\n",
    "        else:\n",
    "            return 'Unknown fuel type'\n",
    "\n",
    "    def display(self):\n",
    "        print(\"Model:\", self.model)\n",
    "        print(\"Color:\",self.color)\n",
    "        print(\"Airbags:\",self.airbags)\n",
    "        print(\"Engine Capacity:\",self.engine_capacity)\n",
    "        print(\"Fuel Type:\",self.fuel_type)\n",
    "        print(\"Safety:\",self.safety())"
   ]
  },
  {
   "cell_type": "code",
   "execution_count": 13,
   "id": "018744fc",
   "metadata": {},
   "outputs": [
    {
     "name": "stdout",
     "output_type": "stream",
     "text": [
      "Model: mid\n",
      "Color: blue\n",
      "Airbags: 4\n",
      "Engine Capacity: 1497 cc\n",
      "Fuel Type: diesel\n",
      "Safety: Moderate safety\n",
      "Price: 12L\n",
      "Mileage at 110 km/h: 16 km/l\n",
      "\n",
      "Model: top\n",
      "Color: red\n",
      "Airbags: 6\n",
      "Engine Capacity: 1199 cc\n",
      "Fuel Type: petrol\n",
      "Safety: High safety\n",
      "Price: 15L\n",
      "Mileage at 90 km/h: 16 km/l\n",
      "\n",
      "Model: low\n",
      "Color: green\n",
      "Airbags: 2\n",
      "Engine Capacity: 1396 cc\n",
      "Fuel Type: diesel\n",
      "Safety: Low safety\n",
      "Features: Key start, Back camera, Manual drive\n",
      "\n",
      "Model: top\n",
      "Color: black\n",
      "Airbags: 6\n",
      "Engine Capacity: 1497 cc\n",
      "Fuel Type: petrol\n",
      "Safety: High safety\n",
      "Features: Sunroof, Power steering, Push start, Automatic drive, 360 degree camera\n"
     ]
    }
   ],
   "source": [
    "class Nexon:\n",
    "    def __init__(self, model, color, airbags, engine_capacity, fuel_type):\n",
    "        self.model = model\n",
    "        self.color = color\n",
    "        self.airbags = airbags\n",
    "        self.engine_capacity = engine_capacity\n",
    "        self.fuel_type = fuel_type\n",
    "\n",
    "    def safety(self):\n",
    "        if self.model == 'low':\n",
    "            return 'Low safety'\n",
    "        elif self.model == 'mid':\n",
    "            return 'Moderate safety'\n",
    "        elif self.model == 'top':\n",
    "            return 'High safety'\n",
    "        elif self.model == 'L2':\n",
    "            return 'High safety'\n",
    "        else:\n",
    "            return 'Unknown model'\n",
    "\n",
    "    def mileage(self, speed):\n",
    "        if self.fuel_type == 'diesel':\n",
    "            if speed > 120:\n",
    "                return 14\n",
    "            elif 100 < speed <= 120:\n",
    "                return 16\n",
    "            elif 80 < speed <= 100:\n",
    "                return 18\n",
    "            else:\n",
    "                return 20\n",
    "        elif self.fuel_type == 'petrol':\n",
    "            if speed > 120:\n",
    "                return 12\n",
    "            elif 100 < speed <= 120:\n",
    "                return 15\n",
    "            elif 80 < speed <= 100:\n",
    "                return 16\n",
    "            else:\n",
    "                return 18\n",
    "        else:\n",
    "            return 'Unknown fuel type'\n",
    "\n",
    "    def display(self):\n",
    "        print(f\"Model: {self.model}\")\n",
    "        print(f\"Color: {self.color}\")\n",
    "        print(f\"Airbags: {self.airbags}\")\n",
    "        print(f\"Engine Capacity: {self.engine_capacity} cc\")\n",
    "        print(f\"Fuel Type: {self.fuel_type}\")\n",
    "        print(f\"Safety: {self.safety()}\")\n",
    "\n",
    "class NexonPlus(Nexon):\n",
    "    def price(self):\n",
    "        if self.model == 'low':\n",
    "            return '10L'\n",
    "        elif self.model == 'mid':\n",
    "            return '12L'\n",
    "        elif self.model == 'top':\n",
    "            return '15L'\n",
    "        elif self.model == 'L2':\n",
    "            return '18L'\n",
    "        else:\n",
    "            return 'Unknown model'\n",
    "\n",
    "    def display(self):\n",
    "        super().display()\n",
    "        print(f\"Price: {self.price()}\")\n",
    "\n",
    "class NexonFeatures(Nexon):\n",
    "    def features(self):\n",
    "        if self.model == 'low':\n",
    "            return ['Key start', 'Back camera', 'Manual drive']\n",
    "        elif self.model == 'mid':\n",
    "            return ['Power steering', 'Back and front camera', 'Semi-automatic drive', 'Push start']\n",
    "        elif self.model == 'top':\n",
    "            return ['Sunroof', 'Power steering', 'Push start', 'Automatic drive', '360 degree camera']\n",
    "        elif self.model == 'L2':\n",
    "            return ['Sunroof', 'Power steering', 'Push start', 'Automatic drive', '360 degree camera']\n",
    "        else:\n",
    "            return 'Unknown model'\n",
    "\n",
    "    def display(self):\n",
    "        super().display()\n",
    "        print(f\"Features: {', '.join(self.features())}\")\n",
    "        \n",
    "nexon1 = NexonPlus('mid', 'blue', 4, 1497, 'diesel')\n",
    "nexon1.display()\n",
    "print(f\"Mileage at 110 km/h: {nexon1.mileage(110)} km/l\\n\")\n",
    "\n",
    "nexon2 = NexonPlus('top', 'red', 6, 1199, 'petrol')\n",
    "nexon2.display()\n",
    "print(f\"Mileage at 90 km/h: {nexon2.mileage(90)} km/l\\n\")\n",
    "\n",
    "nexon3 = NexonFeatures('low', 'green', 2, 1396, 'diesel')\n",
    "nexon3.display()\n",
    "print()\n",
    "\n",
    "nexon4 = NexonFeatures('top', 'black', 6, 1497, 'petrol')\n",
    "nexon4.display()"
   ]
  },
  {
   "cell_type": "code",
   "execution_count": 25,
   "id": "fc28691b",
   "metadata": {},
   "outputs": [],
   "source": [
    "class p1:\n",
    "    def __init__(self,Name,Age):\n",
    "        self.Name=Name\n",
    "        self.Age=Age\n",
    "    def display(self):\n",
    "        print(\"The name is:\",self.Name)\n",
    "        print(\"The age is : \",self.Age)\n",
    "class s1(p1):\n",
    "    def __init__(self,Name,Age,course,marks):\n",
    "        p1.__init__(self,Name,Age)\n",
    "        self.course=course\n",
    "        self.marks=marks\n",
    "    def display_derived(self):\n",
    "        p1.display(self)\n",
    "        print(\"the course is: \",self.course)\n",
    "        print(\"the marks are: \",self.marks)\n",
    "        \n",
    "    "
   ]
  },
  {
   "cell_type": "code",
   "execution_count": 26,
   "id": "1a7512ae",
   "metadata": {},
   "outputs": [
    {
     "name": "stdout",
     "output_type": "stream",
     "text": [
      "The name is: raj\n",
      "The age is :  21\n"
     ]
    }
   ],
   "source": [
    "p=p1('raj',21)\n",
    "p.display()"
   ]
  },
  {
   "cell_type": "code",
   "execution_count": null,
   "id": "2eda79a0",
   "metadata": {},
   "outputs": [],
   "source": []
  }
 ],
 "metadata": {
  "kernelspec": {
   "display_name": "Python 3 (ipykernel)",
   "language": "python",
   "name": "python3"
  },
  "language_info": {
   "codemirror_mode": {
    "name": "ipython",
    "version": 3
   },
   "file_extension": ".py",
   "mimetype": "text/x-python",
   "name": "python",
   "nbconvert_exporter": "python",
   "pygments_lexer": "ipython3",
   "version": "3.11.4"
  }
 },
 "nbformat": 4,
 "nbformat_minor": 5
}
