{
 "cells": [
  {
   "cell_type": "code",
   "execution_count": 3,
   "id": "bbb0a2a1",
   "metadata": {},
   "outputs": [],
   "source": [
    "#declare a variable\n",
    "a=10\n",
    "b=3.56\n",
    "c=True\n",
    "d='hello everyone'"
   ]
  },
  {
   "cell_type": "code",
   "execution_count": 2,
   "id": "774cf3fb",
   "metadata": {},
   "outputs": [
    {
     "data": {
      "text/plain": [
       "10"
      ]
     },
     "execution_count": 2,
     "metadata": {},
     "output_type": "execute_result"
    }
   ],
   "source": [
    "a"
   ]
  },
  {
   "cell_type": "code",
   "execution_count": 4,
   "id": "acc9221f",
   "metadata": {},
   "outputs": [
    {
     "name": "stdout",
     "output_type": "stream",
     "text": [
      "10 3.56 True hello everyone\n"
     ]
    }
   ],
   "source": [
    "print(a,b,c,d)"
   ]
  },
  {
   "cell_type": "code",
   "execution_count": 5,
   "id": "47787f08",
   "metadata": {},
   "outputs": [],
   "source": [
    "_a=41"
   ]
  },
  {
   "cell_type": "code",
   "execution_count": 6,
   "id": "e94e3d31",
   "metadata": {},
   "outputs": [
    {
     "data": {
      "text/plain": [
       "41"
      ]
     },
     "execution_count": 6,
     "metadata": {},
     "output_type": "execute_result"
    }
   ],
   "source": [
    "_a"
   ]
  },
  {
   "cell_type": "code",
   "execution_count": 7,
   "id": "64e22420",
   "metadata": {},
   "outputs": [
    {
     "data": {
      "text/plain": [
       "str"
      ]
     },
     "execution_count": 7,
     "metadata": {},
     "output_type": "execute_result"
    }
   ],
   "source": [
    "type(d)"
   ]
  },
  {
   "cell_type": "code",
   "execution_count": 11,
   "id": "2238dfe3",
   "metadata": {},
   "outputs": [
    {
     "name": "stdout",
     "output_type": "stream",
     "text": [
      "2 2\n"
     ]
    }
   ],
   "source": [
    "a1,a2=2,2\n",
    "print(a1,a2)"
   ]
  },
  {
   "cell_type": "code",
   "execution_count": 13,
   "id": "87439d40",
   "metadata": {},
   "outputs": [
    {
     "name": "stdout",
     "output_type": "stream",
     "text": [
      "30 30 30\n"
     ]
    }
   ],
   "source": [
    "a1=b1=c1=30\n",
    "print(a1,b1,c1)"
   ]
  },
  {
   "cell_type": "code",
   "execution_count": 15,
   "id": "3b72a9ef",
   "metadata": {},
   "outputs": [
    {
     "name": "stdout",
     "output_type": "stream",
     "text": [
      "36.56 <class 'float'>\n",
      "56.25 <class 'float'>\n"
     ]
    }
   ],
   "source": [
    "a=36\n",
    "b=45\n",
    "a=36.56\n",
    "b=56.25\n",
    "print(a,type(a))\n",
    "print(b,type(b))"
   ]
  },
  {
   "cell_type": "code",
   "execution_count": 2,
   "id": "75b4eab8",
   "metadata": {},
   "outputs": [
    {
     "name": "stdout",
     "output_type": "stream",
     "text": [
      "====================\n",
      "It Is a String\n",
      "====================\n"
     ]
    }
   ],
   "source": [
    "#creating string in double quote\n",
    "print('='*20)\n",
    "strings=\"It Is a String\"\n",
    "print(strings)\n",
    "print('='*20)"
   ]
  },
  {
   "cell_type": "code",
   "execution_count": 4,
   "id": "49f8fb0f",
   "metadata": {},
   "outputs": [
    {
     "name": "stdout",
     "output_type": "stream",
     "text": [
      "====================\n",
      "This is going to be a very strings\n",
      "which containes line breaks\n",
      "and it spread across three lines\n",
      "====================\n"
     ]
    }
   ],
   "source": [
    "#Creation of string in tripple quotes\n",
    "print('='*20)\n",
    "strings=\"\"\"This is going to be a very strings\n",
    "which containes line breaks\n",
    "and it spread across three lines\"\"\"\n",
    "print(strings)\n",
    "print('='*20)"
   ]
  },
  {
   "cell_type": "code",
   "execution_count": 16,
   "id": "cd8f308b",
   "metadata": {},
   "outputs": [
    {
     "name": "stdout",
     "output_type": "stream",
     "text": [
      "14\n"
     ]
    },
    {
     "data": {
      "text/plain": [
       "('r', 'a', 'm')"
      ]
     },
     "execution_count": 16,
     "metadata": {},
     "output_type": "execute_result"
    }
   ],
   "source": [
    "#String Indexing\n",
    "text='Python Program'\n",
    "print(len(text))\n",
    "text[6]\n",
    "text[10]\n",
    "text[-4]#Negative Index\n",
    "text[0],text[1],text[2]\n",
    "text[-3],text[-2],text[-1]"
   ]
  },
  {
   "cell_type": "code",
   "execution_count": 19,
   "id": "8fe028ba",
   "metadata": {},
   "outputs": [
    {
     "data": {
      "text/plain": [
       "'Hello Everyone'"
      ]
     },
     "execution_count": 19,
     "metadata": {},
     "output_type": "execute_result"
    }
   ],
   "source": [
    "#concatenate\n",
    "t1='Hello'\n",
    "t2='Everyone'\n",
    "t1+ ' '  +t2"
   ]
  },
  {
   "cell_type": "code",
   "execution_count": 21,
   "id": "581cfb40",
   "metadata": {},
   "outputs": [
    {
     "data": {
      "text/plain": [
       "'tngm'"
      ]
     },
     "execution_count": 21,
     "metadata": {},
     "output_type": "execute_result"
    }
   ],
   "source": [
    "text[2]+text[5]+text[10]+text[13]"
   ]
  },
  {
   "cell_type": "code",
   "execution_count": 22,
   "id": "dcb5be96",
   "metadata": {},
   "outputs": [
    {
     "data": {
      "text/plain": [
       "'Python'"
      ]
     },
     "execution_count": 22,
     "metadata": {},
     "output_type": "execute_result"
    }
   ],
   "source": [
    "#slicing\n",
    "#print python from text\n",
    "text[0:6]"
   ]
  },
  {
   "cell_type": "code",
   "execution_count": 23,
   "id": "4cdabb0b",
   "metadata": {},
   "outputs": [
    {
     "data": {
      "text/plain": [
       "'ra'"
      ]
     },
     "execution_count": 23,
     "metadata": {},
     "output_type": "execute_result"
    }
   ],
   "source": [
    "text[11:14]"
   ]
  },
  {
   "cell_type": "code",
   "execution_count": 26,
   "id": "9cb2c076",
   "metadata": {},
   "outputs": [
    {
     "data": {
      "text/plain": [
       "'ram'"
      ]
     },
     "execution_count": 26,
     "metadata": {},
     "output_type": "execute_result"
    }
   ],
   "source": [
    "text[-3:]"
   ]
  },
  {
   "cell_type": "code",
   "execution_count": 30,
   "id": "dfa8feb1",
   "metadata": {},
   "outputs": [
    {
     "data": {
      "text/plain": [
       "10"
      ]
     },
     "execution_count": 30,
     "metadata": {},
     "output_type": "execute_result"
    }
   ],
   "source": [
    "_my_variable=10\n",
    "_my_variable"
   ]
  },
  {
   "cell_type": "code",
   "execution_count": 32,
   "id": "99badbc3",
   "metadata": {},
   "outputs": [
    {
     "data": {
      "text/plain": [
       "40.7"
      ]
     },
     "execution_count": 32,
     "metadata": {},
     "output_type": "execute_result"
    }
   ],
   "source": [
    "counter = 40.7\n",
    "counter"
   ]
  },
  {
   "cell_type": "code",
   "execution_count": 36,
   "id": "9188f437",
   "metadata": {},
   "outputs": [
    {
     "data": {
      "text/plain": [
       "'@count = hi'"
      ]
     },
     "execution_count": 36,
     "metadata": {},
     "output_type": "execute_result"
    }
   ],
   "source": [
    "\"@count = \"\"hi\"\"\""
   ]
  },
  {
   "cell_type": "code",
   "execution_count": 38,
   "id": "ab6241d0",
   "metadata": {},
   "outputs": [
    {
     "data": {
      "text/plain": [
       "136"
      ]
     },
     "execution_count": 38,
     "metadata": {},
     "output_type": "execute_result"
    }
   ],
   "source": [
    "Name123 = 136\n",
    "Name123"
   ]
  },
  {
   "cell_type": "code",
   "execution_count": 40,
   "id": "08cda746",
   "metadata": {},
   "outputs": [
    {
     "data": {
      "text/plain": [
       "True"
      ]
     },
     "execution_count": 40,
     "metadata": {},
     "output_type": "execute_result"
    }
   ],
   "source": [
    "myFunction = True\n",
    "myFunction"
   ]
  },
  {
   "cell_type": "code",
   "execution_count": 41,
   "id": "10d68c56",
   "metadata": {},
   "outputs": [
    {
     "data": {
      "text/plain": [
       "'if_condition? = Innomatics'"
      ]
     },
     "execution_count": 41,
     "metadata": {},
     "output_type": "execute_result"
    }
   ],
   "source": [
    "\"if_condition? = \"\"Innomatics\"\"\""
   ]
  },
  {
   "cell_type": "code",
   "execution_count": 2,
   "id": "e3dd74dd",
   "metadata": {},
   "outputs": [
    {
     "data": {
      "text/plain": [
       "'pto'"
      ]
     },
     "execution_count": 2,
     "metadata": {},
     "output_type": "execute_result"
    }
   ],
   "source": [
    "str1='python program'\n",
    "str1[0:6:1]\n",
    "str1[0:6:2]"
   ]
  },
  {
   "cell_type": "code",
   "execution_count": 3,
   "id": "2c7b7456",
   "metadata": {},
   "outputs": [
    {
     "data": {
      "text/plain": [
       "'pto rga'"
      ]
     },
     "execution_count": 3,
     "metadata": {},
     "output_type": "execute_result"
    }
   ],
   "source": [
    "str1[::2]"
   ]
  },
  {
   "cell_type": "code",
   "execution_count": 4,
   "id": "cf35e5dc",
   "metadata": {},
   "outputs": [
    {
     "data": {
      "text/plain": [
       "'ph oa'"
      ]
     },
     "execution_count": 4,
     "metadata": {},
     "output_type": "execute_result"
    }
   ],
   "source": [
    "str1[::3]"
   ]
  },
  {
   "cell_type": "code",
   "execution_count": 13,
   "id": "352dbe91",
   "metadata": {},
   "outputs": [
    {
     "data": {
      "text/plain": [
       "'margorp nohtyp'"
      ]
     },
     "execution_count": 13,
     "metadata": {},
     "output_type": "execute_result"
    }
   ],
   "source": [
    "str1[::-1]"
   ]
  },
  {
   "cell_type": "code",
   "execution_count": 14,
   "id": "e911ab79",
   "metadata": {},
   "outputs": [
    {
     "data": {
      "text/plain": [
       "'mropnhy'"
      ]
     },
     "execution_count": 14,
     "metadata": {},
     "output_type": "execute_result"
    }
   ],
   "source": [
    "str1[::-2]"
   ]
  },
  {
   "cell_type": "code",
   "execution_count": 17,
   "id": "d0284977",
   "metadata": {},
   "outputs": [
    {
     "data": {
      "text/plain": [
       "'marg'"
      ]
     },
     "execution_count": 17,
     "metadata": {},
     "output_type": "execute_result"
    }
   ],
   "source": [
    "str1[14:9:-1]"
   ]
  },
  {
   "cell_type": "code",
   "execution_count": 18,
   "id": "cbc10026",
   "metadata": {},
   "outputs": [
    {
     "data": {
      "text/plain": [
       "'marg'"
      ]
     },
     "execution_count": 18,
     "metadata": {},
     "output_type": "execute_result"
    }
   ],
   "source": [
    "str1[-1:-5:-1]"
   ]
  },
  {
   "cell_type": "code",
   "execution_count": 21,
   "id": "f6112d98",
   "metadata": {},
   "outputs": [
    {
     "data": {
      "text/plain": [
       "'Hi Hello'"
      ]
     },
     "execution_count": 21,
     "metadata": {},
     "output_type": "execute_result"
    }
   ],
   "source": [
    "#mathematical operation on string\n",
    "var1='Hi '\n",
    "var2='Hello'\n",
    "var3=var1+var2# it will concatenate\n",
    "var3"
   ]
  },
  {
   "cell_type": "code",
   "execution_count": 23,
   "id": "de284206",
   "metadata": {},
   "outputs": [
    {
     "data": {
      "text/plain": [
       "'Hi Hi Hi Hi Hi Hi Hi Hi Hi Hi '"
      ]
     },
     "execution_count": 23,
     "metadata": {},
     "output_type": "execute_result"
    }
   ],
   "source": [
    "'Hi '*10 #multiplication of string"
   ]
  },
  {
   "cell_type": "code",
   "execution_count": 65,
   "id": "a727758d",
   "metadata": {},
   "outputs": [
    {
     "name": "stdout",
     "output_type": "stream",
     "text": [
      "innomatics research lab\n"
     ]
    }
   ],
   "source": [
    "#built in function\n",
    "#function which can be applied on string directly called built in method\n",
    "var='innomatics research lab'\n",
    "print(var)"
   ]
  },
  {
   "cell_type": "code",
   "execution_count": 25,
   "id": "b36d21a4",
   "metadata": {},
   "outputs": [
    {
     "data": {
      "text/plain": [
       "23"
      ]
     },
     "execution_count": 25,
     "metadata": {},
     "output_type": "execute_result"
    }
   ],
   "source": [
    "len(var)"
   ]
  },
  {
   "cell_type": "code",
   "execution_count": 26,
   "id": "88adc3da",
   "metadata": {},
   "outputs": [
    {
     "data": {
      "text/plain": [
       "'INNOMATICS RESEARCH LAB'"
      ]
     },
     "execution_count": 26,
     "metadata": {},
     "output_type": "execute_result"
    }
   ],
   "source": [
    "var.upper()"
   ]
  },
  {
   "cell_type": "code",
   "execution_count": 27,
   "id": "b2d3a7a0",
   "metadata": {},
   "outputs": [
    {
     "data": {
      "text/plain": [
       "'Innomatics research lab'"
      ]
     },
     "execution_count": 27,
     "metadata": {},
     "output_type": "execute_result"
    }
   ],
   "source": [
    "#make 1st letter capital\n",
    "var.capitalize()"
   ]
  },
  {
   "cell_type": "code",
   "execution_count": 28,
   "id": "7aec6a43",
   "metadata": {},
   "outputs": [
    {
     "data": {
      "text/plain": [
       "'Innomatics Research Lab'"
      ]
     },
     "execution_count": 28,
     "metadata": {},
     "output_type": "execute_result"
    }
   ],
   "source": [
    "#every letter start eith capital\n",
    "var.title()"
   ]
  },
  {
   "cell_type": "code",
   "execution_count": 67,
   "id": "c295fc97",
   "metadata": {},
   "outputs": [
    {
     "data": {
      "text/plain": [
       "3"
      ]
     },
     "execution_count": 67,
     "metadata": {},
     "output_type": "execute_result"
    }
   ],
   "source": [
    "#count operation- it counts the number of occurences of a substring in a main string\n",
    "var.count('a')"
   ]
  },
  {
   "cell_type": "code",
   "execution_count": 33,
   "id": "989f261c",
   "metadata": {},
   "outputs": [
    {
     "data": {
      "text/plain": [
       "True"
      ]
     },
     "execution_count": 33,
     "metadata": {},
     "output_type": "execute_result"
    }
   ],
   "source": [
    "#ends with- to check whether the string is ends with given substring or not\n",
    "var.endswith('b')"
   ]
  },
  {
   "cell_type": "code",
   "execution_count": 34,
   "id": "dbdc839a",
   "metadata": {},
   "outputs": [
    {
     "data": {
      "text/plain": [
       "True"
      ]
     },
     "execution_count": 34,
     "metadata": {},
     "output_type": "execute_result"
    }
   ],
   "source": [
    "var.startswith('i')"
   ]
  },
  {
   "cell_type": "code",
   "execution_count": 3,
   "id": "0645459f",
   "metadata": {},
   "outputs": [
    {
     "data": {
      "text/plain": [
       "0"
      ]
     },
     "execution_count": 3,
     "metadata": {},
     "output_type": "execute_result"
    }
   ],
   "source": [
    "#find - it returns index position of the starting character of sunstring\n",
    "var.find('i')"
   ]
  },
  {
   "cell_type": "code",
   "execution_count": 36,
   "id": "3b396e69",
   "metadata": {},
   "outputs": [
    {
     "data": {
      "text/plain": [
       "-1"
      ]
     },
     "execution_count": 36,
     "metadata": {},
     "output_type": "execute_result"
    }
   ],
   "source": [
    "var.find('Research') # if it's not available then will return -1"
   ]
  },
  {
   "cell_type": "code",
   "execution_count": 38,
   "id": "e0a6b011",
   "metadata": {},
   "outputs": [
    {
     "data": {
      "text/plain": [
       "11"
      ]
     },
     "execution_count": 38,
     "metadata": {},
     "output_type": "execute_result"
    }
   ],
   "source": [
    "#index--> similar to find\n",
    "var.index('research')"
   ]
  },
  {
   "cell_type": "code",
   "execution_count": 39,
   "id": "62a1664b",
   "metadata": {},
   "outputs": [
    {
     "ename": "ValueError",
     "evalue": "substring not found",
     "output_type": "error",
     "traceback": [
      "\u001b[0;31m---------------------------------------------------------------------------\u001b[0m",
      "\u001b[0;31mValueError\u001b[0m                                Traceback (most recent call last)",
      "Cell \u001b[0;32mIn[39], line 1\u001b[0m\n\u001b[0;32m----> 1\u001b[0m var\u001b[38;5;241m.\u001b[39mindex(\u001b[38;5;124m'\u001b[39m\u001b[38;5;124mResearch\u001b[39m\u001b[38;5;124m'\u001b[39m)\n",
      "\u001b[0;31mValueError\u001b[0m: substring not found"
     ]
    }
   ],
   "source": [
    "var.index('Research')"
   ]
  },
  {
   "cell_type": "code",
   "execution_count": 41,
   "id": "3e7148f3",
   "metadata": {},
   "outputs": [
    {
     "data": {
      "text/plain": [
       "'innom@tics rese@rch l@b'"
      ]
     },
     "execution_count": 41,
     "metadata": {},
     "output_type": "execute_result"
    }
   ],
   "source": [
    "#replace--> it replaces the string with given substring\n",
    "var.replace('a','@')"
   ]
  },
  {
   "cell_type": "code",
   "execution_count": 42,
   "id": "d09387b4",
   "metadata": {},
   "outputs": [],
   "source": [
    "#strip-->will remove any leading and trailing white spaces and new line char can be removed\n"
   ]
  },
  {
   "cell_type": "code",
   "execution_count": 43,
   "id": "16730829",
   "metadata": {},
   "outputs": [
    {
     "data": {
      "text/plain": [
       "['innomatics', 'research', 'lab']"
      ]
     },
     "execution_count": 43,
     "metadata": {},
     "output_type": "execute_result"
    }
   ],
   "source": [
    "#split--> it will split the string with delimeters\n",
    "var.split()"
   ]
  },
  {
   "cell_type": "code",
   "execution_count": 1,
   "id": "c81e1f50",
   "metadata": {},
   "outputs": [],
   "source": [
    "#list\n",
    "#[]\n",
    "#separated by ','\n",
    "#ordered,indexable,"
   ]
  },
  {
   "cell_type": "code",
   "execution_count": 2,
   "id": "c4b090b4",
   "metadata": {},
   "outputs": [
    {
     "data": {
      "text/plain": [
       "[False]"
      ]
     },
     "execution_count": 2,
     "metadata": {},
     "output_type": "execute_result"
    }
   ],
   "source": [
    "#sinle element list\n",
    "list_2=[False]\n",
    "list_2"
   ]
  },
  {
   "cell_type": "code",
   "execution_count": 3,
   "id": "8d1a1c29",
   "metadata": {},
   "outputs": [
    {
     "data": {
      "text/plain": [
       "1"
      ]
     },
     "execution_count": 3,
     "metadata": {},
     "output_type": "execute_result"
    }
   ],
   "source": [
    "len(list_2)"
   ]
  },
  {
   "cell_type": "code",
   "execution_count": 5,
   "id": "c8f12cde",
   "metadata": {},
   "outputs": [
    {
     "data": {
      "text/plain": [
       "[]"
      ]
     },
     "execution_count": 5,
     "metadata": {},
     "output_type": "execute_result"
    }
   ],
   "source": [
    "#empty list\n",
    "list_3=[]\n",
    "list_3"
   ]
  },
  {
   "cell_type": "code",
   "execution_count": 6,
   "id": "379e046f",
   "metadata": {},
   "outputs": [
    {
     "data": {
      "text/plain": [
       "list"
      ]
     },
     "execution_count": 6,
     "metadata": {},
     "output_type": "execute_result"
    }
   ],
   "source": [
    "type(list_3)"
   ]
  },
  {
   "cell_type": "code",
   "execution_count": 7,
   "id": "9409a050",
   "metadata": {},
   "outputs": [
    {
     "data": {
      "text/plain": [
       "[1, 2, 3, 1, 2, 3, 10, 9]"
      ]
     },
     "execution_count": 7,
     "metadata": {},
     "output_type": "execute_result"
    }
   ],
   "source": [
    "#repeated elements in list\n",
    "list_4=[1,2,3,1,2,3,10,9]\n",
    "list_4"
   ]
  },
  {
   "cell_type": "code",
   "execution_count": 8,
   "id": "af6e1f7d",
   "metadata": {},
   "outputs": [
    {
     "data": {
      "text/plain": [
       "8"
      ]
     },
     "execution_count": 8,
     "metadata": {},
     "output_type": "execute_result"
    }
   ],
   "source": [
    "len(list_4)"
   ]
  },
  {
   "cell_type": "code",
   "execution_count": 10,
   "id": "a57aede8",
   "metadata": {},
   "outputs": [
    {
     "data": {
      "text/plain": [
       "[1, 2, 'him', 9.5, 3.77, True]"
      ]
     },
     "execution_count": 10,
     "metadata": {},
     "output_type": "execute_result"
    }
   ],
   "source": [
    "#different data types in a list\n",
    "list_5=[1,2,'him',9.5,3.77,True]\n",
    "list_5"
   ]
  },
  {
   "cell_type": "code",
   "execution_count": 11,
   "id": "b4503c8a",
   "metadata": {},
   "outputs": [
    {
     "data": {
      "text/plain": [
       "6"
      ]
     },
     "execution_count": 11,
     "metadata": {},
     "output_type": "execute_result"
    }
   ],
   "source": [
    "len(list_5)"
   ]
  },
  {
   "cell_type": "code",
   "execution_count": 12,
   "id": "735bb987",
   "metadata": {},
   "outputs": [
    {
     "data": {
      "text/plain": [
       "list"
      ]
     },
     "execution_count": 12,
     "metadata": {},
     "output_type": "execute_result"
    }
   ],
   "source": [
    "type(list_5)"
   ]
  },
  {
   "cell_type": "code",
   "execution_count": 13,
   "id": "7e981588",
   "metadata": {},
   "outputs": [
    {
     "data": {
      "text/plain": [
       "[12, 34, [98, 78, 45], 'python', [3, 14, 6, 7], True, [456.89, 78.76]]"
      ]
     },
     "execution_count": 13,
     "metadata": {},
     "output_type": "execute_result"
    }
   ],
   "source": [
    "#List i list creation\n",
    "list_6=[12,34,[98,78,45],'python',[3,14,6,7],True,[456.89,78.76]]\n",
    "list_6"
   ]
  },
  {
   "cell_type": "code",
   "execution_count": 14,
   "id": "b6785805",
   "metadata": {},
   "outputs": [
    {
     "data": {
      "text/plain": [
       "7"
      ]
     },
     "execution_count": 14,
     "metadata": {},
     "output_type": "execute_result"
    }
   ],
   "source": [
    "len(list_6)"
   ]
  },
  {
   "cell_type": "code",
   "execution_count": 16,
   "id": "4a3a78e8",
   "metadata": {},
   "outputs": [
    {
     "data": {
      "text/plain": [
       "[]"
      ]
     },
     "execution_count": 16,
     "metadata": {},
     "output_type": "execute_result"
    }
   ],
   "source": [
    "#another way to create list\n",
    "list_7=list()\n",
    "list_7"
   ]
  },
  {
   "cell_type": "code",
   "execution_count": 17,
   "id": "657f457a",
   "metadata": {},
   "outputs": [
    {
     "data": {
      "text/plain": [
       "[34, 67, 89, 'True', 'Hello Everyone']"
      ]
     },
     "execution_count": 17,
     "metadata": {},
     "output_type": "execute_result"
    }
   ],
   "source": [
    "#create list using list as keywords with elements 34,67,89,'True','Hello Everyone'\n",
    "list_8=list([34,67,89,'True','Hello Everyone'])\n",
    "list_8"
   ]
  },
  {
   "cell_type": "code",
   "execution_count": 19,
   "id": "9474bcf2",
   "metadata": {},
   "outputs": [],
   "source": [
    "#other way to create\n",
    "list_9=list((34,67,89,'True','Hello Everyone'))"
   ]
  },
  {
   "cell_type": "code",
   "execution_count": 20,
   "id": "4ee67d16",
   "metadata": {},
   "outputs": [
    {
     "data": {
      "text/plain": [
       "['red', 'green', 'blue']"
      ]
     },
     "execution_count": 20,
     "metadata": {},
     "output_type": "execute_result"
    }
   ],
   "source": [
    "list_10=list(('red','green','blue'))\n",
    "list_10"
   ]
  },
  {
   "cell_type": "code",
   "execution_count": 21,
   "id": "17ba1faf",
   "metadata": {},
   "outputs": [
    {
     "data": {
      "text/plain": [
       "list"
      ]
     },
     "execution_count": 21,
     "metadata": {},
     "output_type": "execute_result"
    }
   ],
   "source": [
    "type(list_10)"
   ]
  },
  {
   "cell_type": "code",
   "execution_count": 23,
   "id": "9e1e450f",
   "metadata": {},
   "outputs": [
    {
     "data": {
      "text/plain": [
       "['1']"
      ]
     },
     "execution_count": 23,
     "metadata": {},
     "output_type": "execute_result"
    }
   ],
   "source": [
    "list_11=list('1')#only strings are accepted as it is iterable\n",
    "list_11"
   ]
  },
  {
   "cell_type": "code",
   "execution_count": 24,
   "id": "c38dd7cc",
   "metadata": {},
   "outputs": [
    {
     "ename": "TypeError",
     "evalue": "'int' object is not iterable",
     "output_type": "error",
     "traceback": [
      "\u001b[0;31m---------------------------------------------------------------------------\u001b[0m",
      "\u001b[0;31mTypeError\u001b[0m                                 Traceback (most recent call last)",
      "Cell \u001b[0;32mIn[24], line 1\u001b[0m\n\u001b[0;32m----> 1\u001b[0m list_12\u001b[38;5;241m=\u001b[39m\u001b[38;5;28mlist\u001b[39m(\u001b[38;5;241m1\u001b[39m)\n",
      "\u001b[0;31mTypeError\u001b[0m: 'int' object is not iterable"
     ]
    }
   ],
   "source": [
    "list_12=list(1)"
   ]
  },
  {
   "cell_type": "code",
   "execution_count": 25,
   "id": "eb9ea59d",
   "metadata": {},
   "outputs": [
    {
     "data": {
      "text/plain": [
       "['i', 'n', 'n', 'o', 'm', 'a', 't', 'i', 'c', 's']"
      ]
     },
     "execution_count": 25,
     "metadata": {},
     "output_type": "execute_result"
    }
   ],
   "source": [
    "list_13=list('innomatics')\n",
    "list_13"
   ]
  },
  {
   "cell_type": "code",
   "execution_count": 26,
   "id": "76b3dc77",
   "metadata": {},
   "outputs": [
    {
     "data": {
      "text/plain": [
       "[0, 1, 2, 3, 4, 5, 6, 7, 8, 9]"
      ]
     },
     "execution_count": 26,
     "metadata": {},
     "output_type": "execute_result"
    }
   ],
   "source": [
    "#range()-number as argument\n",
    "list_16=list(range(10))\n",
    "list_16"
   ]
  },
  {
   "cell_type": "code",
   "execution_count": 27,
   "id": "3ac1d622",
   "metadata": {},
   "outputs": [
    {
     "data": {
      "text/plain": [
       "[3, 4, 5, 6, 7, 8, 9, 10, 11, 12, 13]"
      ]
     },
     "execution_count": 27,
     "metadata": {},
     "output_type": "execute_result"
    }
   ],
   "source": [
    "list_17=list(range(3,14))\n",
    "list_17"
   ]
  },
  {
   "cell_type": "code",
   "execution_count": 29,
   "id": "cb1d13ab",
   "metadata": {},
   "outputs": [
    {
     "data": {
      "text/plain": [
       "[3, 6, 9, 12, 15, 18, 21, 24, 27, 30]"
      ]
     },
     "execution_count": 29,
     "metadata": {},
     "output_type": "execute_result"
    }
   ],
   "source": [
    "#range(p,q,r)\n",
    "#p-start point\n",
    "#q-end-1\n",
    "#r-steps or multiplication\n",
    "list_18=list(range(3,31,3))\n",
    "list_18"
   ]
  },
  {
   "cell_type": "code",
   "execution_count": 31,
   "id": "cf021da1",
   "metadata": {},
   "outputs": [
    {
     "data": {
      "text/plain": [
       "[13,\n",
       " 26,\n",
       " 39,\n",
       " 52,\n",
       " 65,\n",
       " 78,\n",
       " 91,\n",
       " 104,\n",
       " 117,\n",
       " 130,\n",
       " 143,\n",
       " 156,\n",
       " 169,\n",
       " 182,\n",
       " 195,\n",
       " 208,\n",
       " 221,\n",
       " 234,\n",
       " 247,\n",
       " 260]"
      ]
     },
     "execution_count": 31,
     "metadata": {},
     "output_type": "execute_result"
    }
   ],
   "source": [
    "#print the list of 1st 20 elements multiple of 13 \n",
    "list_19=list(range(13,13*21,13))\n",
    "list_19"
   ]
  },
  {
   "cell_type": "code",
   "execution_count": 32,
   "id": "7d1510df",
   "metadata": {},
   "outputs": [
    {
     "data": {
      "text/plain": [
       "[1, 3, 5, 7, 9, 11, 13, 15, 17, 19]"
      ]
     },
     "execution_count": 32,
     "metadata": {},
     "output_type": "execute_result"
    }
   ],
   "source": [
    "#print first 10 odd number\n",
    "list_20=list(range(1,20,2))\n",
    "list_20"
   ]
  },
  {
   "cell_type": "code",
   "execution_count": 37,
   "id": "f2c19332",
   "metadata": {},
   "outputs": [
    {
     "data": {
      "text/plain": [
       "[2, 4, 6, 8, 10, 12, 14, 16, 18, 20]"
      ]
     },
     "execution_count": 37,
     "metadata": {},
     "output_type": "execute_result"
    }
   ],
   "source": [
    "list_21=list(range(2,21,2))\n",
    "list_21"
   ]
  },
  {
   "cell_type": "code",
   "execution_count": 38,
   "id": "5fdc1343",
   "metadata": {},
   "outputs": [
    {
     "data": {
      "text/plain": [
       "[5, 10, 15, 20, 25, 30, 35, 40, 45]"
      ]
     },
     "execution_count": 38,
     "metadata": {},
     "output_type": "execute_result"
    }
   ],
   "source": [
    "#indexing in list\n",
    "#starts from 0 and ends n-1\n",
    "list_22=list(range(5,46,5))\n",
    "list_22"
   ]
  },
  {
   "cell_type": "code",
   "execution_count": 39,
   "id": "11d084c3",
   "metadata": {},
   "outputs": [
    {
     "data": {
      "text/plain": [
       "9"
      ]
     },
     "execution_count": 39,
     "metadata": {},
     "output_type": "execute_result"
    }
   ],
   "source": [
    "len(list_22)"
   ]
  },
  {
   "cell_type": "code",
   "execution_count": 42,
   "id": "6b6a1bbc",
   "metadata": {},
   "outputs": [
    {
     "data": {
      "text/plain": [
       "45"
      ]
     },
     "execution_count": 42,
     "metadata": {},
     "output_type": "execute_result"
    }
   ],
   "source": [
    "list_22[8]"
   ]
  },
  {
   "cell_type": "code",
   "execution_count": 43,
   "id": "750bbf65",
   "metadata": {},
   "outputs": [
    {
     "ename": "IndexError",
     "evalue": "list index out of range",
     "output_type": "error",
     "traceback": [
      "\u001b[0;31m---------------------------------------------------------------------------\u001b[0m",
      "\u001b[0;31mIndexError\u001b[0m                                Traceback (most recent call last)",
      "Cell \u001b[0;32mIn[43], line 1\u001b[0m\n\u001b[0;32m----> 1\u001b[0m list_22[\u001b[38;5;241m9\u001b[39m]\n",
      "\u001b[0;31mIndexError\u001b[0m: list index out of range"
     ]
    }
   ],
   "source": [
    "list_22[9]"
   ]
  },
  {
   "cell_type": "code",
   "execution_count": 45,
   "id": "8c0a5a27",
   "metadata": {},
   "outputs": [
    {
     "data": {
      "text/plain": [
       "[10, 20, 30, 40]"
      ]
     },
     "execution_count": 45,
     "metadata": {},
     "output_type": "execute_result"
    }
   ],
   "source": [
    "#print 10,20,30,40\n",
    "list_22[1::2]"
   ]
  },
  {
   "cell_type": "code",
   "execution_count": 51,
   "id": "5b9ac633",
   "metadata": {},
   "outputs": [
    {
     "data": {
      "text/plain": [
       "[10, 20, 30, 40]"
      ]
     },
     "execution_count": 51,
     "metadata": {},
     "output_type": "execute_result"
    }
   ],
   "source": [
    "#by negative index\n",
    "list_22[-8::2]"
   ]
  },
  {
   "cell_type": "code",
   "execution_count": 56,
   "id": "549dcf39",
   "metadata": {},
   "outputs": [
    {
     "data": {
      "text/plain": [
       "[45, 40, 35, 30, 25, 20, 15, 10, 5]"
      ]
     },
     "execution_count": 56,
     "metadata": {},
     "output_type": "execute_result"
    }
   ],
   "source": [
    "#reverse a list\n",
    "list_22[::-1]"
   ]
  },
  {
   "cell_type": "code",
   "execution_count": 58,
   "id": "c4016600",
   "metadata": {},
   "outputs": [
    {
     "data": {
      "text/plain": [
       "[40, 30, 20, 10]"
      ]
     },
     "execution_count": 58,
     "metadata": {},
     "output_type": "execute_result"
    }
   ],
   "source": [
    "#40,30,20,10\n",
    "list_22[-2::-2]"
   ]
  },
  {
   "cell_type": "code",
   "execution_count": 59,
   "id": "bde8f3b0",
   "metadata": {},
   "outputs": [],
   "source": [
    "#operationson list\n",
    "list3=['Hi','Hello']\n",
    "list4=['How','Are','You']"
   ]
  },
  {
   "cell_type": "code",
   "execution_count": 61,
   "id": "db9f5263",
   "metadata": {},
   "outputs": [
    {
     "data": {
      "text/plain": [
       "['Hi', 'Hello', 'How', 'Are', 'You']"
      ]
     },
     "execution_count": 61,
     "metadata": {},
     "output_type": "execute_result"
    }
   ],
   "source": [
    "#addition can perform concatenation\n",
    "list5=list3+list4\n",
    "list5"
   ]
  },
  {
   "cell_type": "code",
   "execution_count": 62,
   "id": "fc42832b",
   "metadata": {},
   "outputs": [
    {
     "data": {
      "text/plain": [
       "[1, 3, 5, 7, 9, 11, 13, 15, 17, 19]"
      ]
     },
     "execution_count": 62,
     "metadata": {},
     "output_type": "execute_result"
    }
   ],
   "source": [
    "list6=list(range(1,20,2))\n",
    "list6"
   ]
  },
  {
   "cell_type": "code",
   "execution_count": 67,
   "id": "da8760cd",
   "metadata": {},
   "outputs": [
    {
     "data": {
      "text/plain": [
       "[0, 2, 4, 6, 8, 10, 12, 14, 16, 18]"
      ]
     },
     "execution_count": 67,
     "metadata": {},
     "output_type": "execute_result"
    }
   ],
   "source": [
    "list7=list(range(0,20,2))\n",
    "list7"
   ]
  },
  {
   "cell_type": "code",
   "execution_count": 69,
   "id": "77b2be0b",
   "metadata": {},
   "outputs": [
    {
     "data": {
      "text/plain": [
       "[1, 3, 5, 7, 9, 11, 13, 15, 17, 19, 0, 2, 4, 6, 8, 10, 12, 14, 16, 18]"
      ]
     },
     "execution_count": 69,
     "metadata": {},
     "output_type": "execute_result"
    }
   ],
   "source": [
    "list8=list6+list7\n",
    "list8"
   ]
  },
  {
   "cell_type": "code",
   "execution_count": 71,
   "id": "362589c5",
   "metadata": {},
   "outputs": [
    {
     "ename": "TypeError",
     "evalue": "can't multiply sequence by non-int of type 'list'",
     "output_type": "error",
     "traceback": [
      "\u001b[0;31m---------------------------------------------------------------------------\u001b[0m",
      "\u001b[0;31mTypeError\u001b[0m                                 Traceback (most recent call last)",
      "Cell \u001b[0;32mIn[71], line 1\u001b[0m\n\u001b[0;32m----> 1\u001b[0m list9\u001b[38;5;241m=\u001b[39mlist6\u001b[38;5;241m*\u001b[39mlist6\n\u001b[1;32m      2\u001b[0m list9\n",
      "\u001b[0;31mTypeError\u001b[0m: can't multiply sequence by non-int of type 'list'"
     ]
    }
   ],
   "source": [
    "list9=list6*list6\n",
    "list9"
   ]
  },
  {
   "cell_type": "code",
   "execution_count": 77,
   "id": "3c794b06",
   "metadata": {},
   "outputs": [
    {
     "name": "stdout",
     "output_type": "stream",
     "text": [
      "[1, 3, 5, 7, 9, 11, 13, 15, 17, 19, 1, 3, 5, 7, 9, 11, 13, 15, 17, 19, 1, 3, 5, 7, 9, 11, 13, 15, 17, 19]\n"
     ]
    }
   ],
   "source": [
    "list10=list6*3\n",
    "print(list10)"
   ]
  },
  {
   "cell_type": "code",
   "execution_count": 76,
   "id": "4191f22f",
   "metadata": {},
   "outputs": [
    {
     "name": "stdout",
     "output_type": "stream",
     "text": [
      "[1, 3, 5, 7, 9, 11, 13, 15, 17, 19, 1, 3, 5, 7, 9, 11, 13, 15, 17, 19, 1, 3, 5, 7, 9, 11, 13, 15, 17, 19, 1, 3, 5, 7, 9, 11, 13, 15, 17, 19, 1, 3, 5, 7, 9, 11, 13, 15, 17, 19, 1, 3, 5, 7, 9, 11, 13, 15, 17, 19, 1, 3, 5, 7, 9, 11, 13, 15, 17, 19, 1, 3, 5, 7, 9, 11, 13, 15, 17, 19, 1, 3, 5, 7, 9, 11, 13, 15, 17, 19, 1, 3, 5, 7, 9, 11, 13, 15, 17, 19]\n"
     ]
    }
   ],
   "source": [
    "list11=list6*len(list6)\n",
    "print(list11)"
   ]
  },
  {
   "cell_type": "code",
   "execution_count": 78,
   "id": "4e6bd69d",
   "metadata": {},
   "outputs": [
    {
     "name": "stdout",
     "output_type": "stream",
     "text": [
      "True\n"
     ]
    }
   ],
   "source": [
    "list15=[13,17,19,21,24]\n",
    "query=24\n",
    "print(query in list15)"
   ]
  },
  {
   "cell_type": "code",
   "execution_count": 79,
   "id": "623d1385",
   "metadata": {},
   "outputs": [
    {
     "name": "stdout",
     "output_type": "stream",
     "text": [
      "False\n"
     ]
    }
   ],
   "source": [
    "print(query not in list15)"
   ]
  },
  {
   "cell_type": "code",
   "execution_count": 80,
   "id": "aa9c1e24",
   "metadata": {},
   "outputs": [
    {
     "name": "stdout",
     "output_type": "stream",
     "text": [
      "True\n"
     ]
    }
   ],
   "source": [
    "print(24 in list15)"
   ]
  },
  {
   "cell_type": "code",
   "execution_count": 1,
   "id": "473db3dc",
   "metadata": {},
   "outputs": [
    {
     "data": {
      "text/plain": [
       "6"
      ]
     },
     "execution_count": 1,
     "metadata": {},
     "output_type": "execute_result"
    }
   ],
   "source": [
    "#List in list\n",
    "x=[1,2,3,[4,5,6],8,9]\n",
    "len(x)"
   ]
  },
  {
   "cell_type": "code",
   "execution_count": 2,
   "id": "a12912e9",
   "metadata": {},
   "outputs": [
    {
     "data": {
      "text/plain": [
       "(2, 5, 8)"
      ]
     },
     "execution_count": 2,
     "metadata": {},
     "output_type": "execute_result"
    }
   ],
   "source": [
    "#access element 2,5,8\n",
    "x[1],x[3][1],x[4]"
   ]
  },
  {
   "cell_type": "code",
   "execution_count": 17,
   "id": "e4c3e1d5",
   "metadata": {},
   "outputs": [
    {
     "data": {
      "text/plain": [
       "898"
      ]
     },
     "execution_count": 17,
     "metadata": {},
     "output_type": "execute_result"
    }
   ],
   "source": [
    "y=[1,-6,-8,[-1,-9,44,[67,89,98,[567,980],898,906],789,6754,861],66,8904,1868]\n",
    "y[3][3][4]\n",
    "#access 980,898,89,6754,44,[567,980]"
   ]
  },
  {
   "cell_type": "code",
   "execution_count": 15,
   "id": "ef405e14",
   "metadata": {},
   "outputs": [
    {
     "data": {
      "text/plain": [
       "89"
      ]
     },
     "execution_count": 15,
     "metadata": {},
     "output_type": "execute_result"
    }
   ],
   "source": [
    "y[3][3][1]"
   ]
  },
  {
   "cell_type": "code",
   "execution_count": 23,
   "id": "7a7c336f",
   "metadata": {},
   "outputs": [
    {
     "data": {
      "text/plain": [
       "6754"
      ]
     },
     "execution_count": 23,
     "metadata": {},
     "output_type": "execute_result"
    }
   ],
   "source": [
    "y[3][5]"
   ]
  },
  {
   "cell_type": "code",
   "execution_count": 18,
   "id": "aa00166d",
   "metadata": {},
   "outputs": [
    {
     "data": {
      "text/plain": [
       "7"
      ]
     },
     "execution_count": 18,
     "metadata": {},
     "output_type": "execute_result"
    }
   ],
   "source": [
    "len(y)"
   ]
  },
  {
   "cell_type": "code",
   "execution_count": 21,
   "id": "c23bb713",
   "metadata": {},
   "outputs": [
    {
     "data": {
      "text/plain": [
       "980"
      ]
     },
     "execution_count": 21,
     "metadata": {},
     "output_type": "execute_result"
    }
   ],
   "source": [
    "y[3][3][3][1]"
   ]
  },
  {
   "cell_type": "code",
   "execution_count": 24,
   "id": "76edbb3d",
   "metadata": {},
   "outputs": [
    {
     "data": {
      "text/plain": [
       "[567, 980]"
      ]
     },
     "execution_count": 24,
     "metadata": {},
     "output_type": "execute_result"
    }
   ],
   "source": [
    "y[3][3][3]"
   ]
  },
  {
   "cell_type": "code",
   "execution_count": 26,
   "id": "0c48fab7",
   "metadata": {},
   "outputs": [
    {
     "data": {
      "text/plain": [
       "44"
      ]
     },
     "execution_count": 26,
     "metadata": {},
     "output_type": "execute_result"
    }
   ],
   "source": [
    "y[3][2]"
   ]
  },
  {
   "cell_type": "code",
   "execution_count": 27,
   "id": "742919f7",
   "metadata": {},
   "outputs": [],
   "source": [
    "z=[23,False,34,89,'Hello','Hi...All']"
   ]
  },
  {
   "cell_type": "code",
   "execution_count": 28,
   "id": "3916746a",
   "metadata": {},
   "outputs": [
    {
     "data": {
      "text/plain": [
       "'Hello'"
      ]
     },
     "execution_count": 28,
     "metadata": {},
     "output_type": "execute_result"
    }
   ],
   "source": [
    "z[4]"
   ]
  },
  {
   "cell_type": "code",
   "execution_count": 29,
   "id": "f4a604e9",
   "metadata": {},
   "outputs": [],
   "source": [
    "z[4]='Innomatics'"
   ]
  },
  {
   "cell_type": "code",
   "execution_count": 30,
   "id": "47fa9224",
   "metadata": {},
   "outputs": [
    {
     "data": {
      "text/plain": [
       "[23, False, 34, 89, 'Innomatics', 'Hi...All']"
      ]
     },
     "execution_count": 30,
     "metadata": {},
     "output_type": "execute_result"
    }
   ],
   "source": [
    "z"
   ]
  },
  {
   "cell_type": "code",
   "execution_count": 31,
   "id": "0accd598",
   "metadata": {},
   "outputs": [],
   "source": [
    "#Built in functions in list\n",
    "#1.append()--> it is used to add single element to end of the list\n",
    "l4=list(range(0,12,2))"
   ]
  },
  {
   "cell_type": "code",
   "execution_count": 32,
   "id": "d5ff7e8f",
   "metadata": {},
   "outputs": [
    {
     "data": {
      "text/plain": [
       "[0, 2, 4, 6, 8, 10]"
      ]
     },
     "execution_count": 32,
     "metadata": {},
     "output_type": "execute_result"
    }
   ],
   "source": [
    "l4"
   ]
  },
  {
   "cell_type": "code",
   "execution_count": 33,
   "id": "0282bdca",
   "metadata": {},
   "outputs": [],
   "source": [
    "l4.append(23)"
   ]
  },
  {
   "cell_type": "code",
   "execution_count": 34,
   "id": "7375c290",
   "metadata": {},
   "outputs": [
    {
     "data": {
      "text/plain": [
       "[0, 2, 4, 6, 8, 10, 23]"
      ]
     },
     "execution_count": 34,
     "metadata": {},
     "output_type": "execute_result"
    }
   ],
   "source": [
    "l4"
   ]
  },
  {
   "cell_type": "code",
   "execution_count": 35,
   "id": "5e21b3d3",
   "metadata": {},
   "outputs": [
    {
     "ename": "TypeError",
     "evalue": "'builtin_function_or_method' object is not subscriptable",
     "output_type": "error",
     "traceback": [
      "\u001b[0;31m---------------------------------------------------------------------------\u001b[0m",
      "\u001b[0;31mTypeError\u001b[0m                                 Traceback (most recent call last)",
      "Cell \u001b[0;32mIn[35], line 1\u001b[0m\n\u001b[0;32m----> 1\u001b[0m l4\u001b[38;5;241m.\u001b[39mappend[\u001b[38;5;241m24\u001b[39m,\u001b[38;5;241m89\u001b[39m]\n",
      "\u001b[0;31mTypeError\u001b[0m: 'builtin_function_or_method' object is not subscriptable"
     ]
    }
   ],
   "source": [
    "l4.append[24,89]"
   ]
  },
  {
   "cell_type": "code",
   "execution_count": 36,
   "id": "bd971a08",
   "metadata": {},
   "outputs": [],
   "source": [
    "l4.append([24,45,56])"
   ]
  },
  {
   "cell_type": "code",
   "execution_count": 37,
   "id": "7d920421",
   "metadata": {},
   "outputs": [
    {
     "data": {
      "text/plain": [
       "[0, 2, 4, 6, 8, 10, 23, [24, 45, 56]]"
      ]
     },
     "execution_count": 37,
     "metadata": {},
     "output_type": "execute_result"
    }
   ],
   "source": [
    "l4"
   ]
  },
  {
   "cell_type": "code",
   "execution_count": 47,
   "id": "d1421a3b",
   "metadata": {},
   "outputs": [],
   "source": [
    "#extend- it used to extend our current list with another list\n",
    "l5=[1,2,3]\n",
    "l6=[4,5,6]\n",
    "l5.extend(l6)"
   ]
  },
  {
   "cell_type": "code",
   "execution_count": 49,
   "id": "98d879cf",
   "metadata": {},
   "outputs": [
    {
     "data": {
      "text/plain": [
       "[1, 2, 3, 4, 5, 6]"
      ]
     },
     "execution_count": 49,
     "metadata": {},
     "output_type": "execute_result"
    }
   ],
   "source": [
    "l5"
   ]
  },
  {
   "cell_type": "code",
   "execution_count": 50,
   "id": "6700f916",
   "metadata": {},
   "outputs": [
    {
     "ename": "TypeError",
     "evalue": "'int' object is not iterable",
     "output_type": "error",
     "traceback": [
      "\u001b[0;31m---------------------------------------------------------------------------\u001b[0m",
      "\u001b[0;31mTypeError\u001b[0m                                 Traceback (most recent call last)",
      "Cell \u001b[0;32mIn[50], line 1\u001b[0m\n\u001b[0;32m----> 1\u001b[0m l6\u001b[38;5;241m.\u001b[39mextend(\u001b[38;5;241m45\u001b[39m)\n",
      "\u001b[0;31mTypeError\u001b[0m: 'int' object is not iterable"
     ]
    }
   ],
   "source": [
    "l6.extend(45) # it can only extended by list"
   ]
  },
  {
   "cell_type": "code",
   "execution_count": 51,
   "id": "25fa8006",
   "metadata": {},
   "outputs": [
    {
     "data": {
      "text/plain": [
       "12"
      ]
     },
     "execution_count": 51,
     "metadata": {},
     "output_type": "execute_result"
    }
   ],
   "source": [
    "#pop()--->\n",
    "l7=[1,2,3,44,55,67,79,9,12]\n",
    "l7.pop()"
   ]
  },
  {
   "cell_type": "code",
   "execution_count": 52,
   "id": "645eddcb",
   "metadata": {},
   "outputs": [
    {
     "data": {
      "text/plain": [
       "[1, 2, 3, 44, 55, 67, 79, 9]"
      ]
     },
     "execution_count": 52,
     "metadata": {},
     "output_type": "execute_result"
    }
   ],
   "source": [
    "l7# after pop operation the list element"
   ]
  },
  {
   "cell_type": "code",
   "execution_count": 53,
   "id": "5cb28548",
   "metadata": {},
   "outputs": [
    {
     "name": "stdout",
     "output_type": "stream",
     "text": [
      "==================================================\n",
      "before pop operation on the list [1, 2, 3, 44, 55, 67, 79, 9, 12]\n",
      "==================================================\n",
      "After pop operation on the list [1, 2, 3, 44, 55, 67, 79, 9]\n"
     ]
    }
   ],
   "source": [
    "l7=[1,2,3,44,55,67,79,9,12]\n",
    "print(\"=\"*50)\n",
    "print('before pop operation on the list',l7)\n",
    "ele=l7.pop()\n",
    "print(\"=\"*50)\n",
    "print('After pop operation on the list',l7)"
   ]
  },
  {
   "cell_type": "code",
   "execution_count": 55,
   "id": "ee942259",
   "metadata": {},
   "outputs": [
    {
     "name": "stdout",
     "output_type": "stream",
     "text": [
      "==================================================\n",
      "before pop operation on the list [1, 2, 3, 44, 55, 67, 79, 9, 12]\n",
      "==================================================\n",
      "popped element 55\n",
      "==================================================\n",
      "After pop operation on the list [1, 2, 3, 44, 67, 79, 9, 12]\n"
     ]
    }
   ],
   "source": [
    "#remove element 55 from the list using pop\n",
    "l7=[1,2,3,44,55,67,79,9,12]\n",
    "print(\"=\"*50)\n",
    "print('before pop operation on the list',l7)\n",
    "print(\"=\"*50)\n",
    "ele=l7.pop(4)\n",
    "print('popped element',ele)\n",
    "print(\"=\"*50)\n",
    "print('After pop operation on the list',l7)"
   ]
  },
  {
   "cell_type": "code",
   "execution_count": 57,
   "id": "545a453e",
   "metadata": {},
   "outputs": [
    {
     "name": "stdout",
     "output_type": "stream",
     "text": [
      "==================================================\n",
      "before remove operation on the list [1, 2, 3, 44, 55, 67, 79, 9, 12]\n",
      "==================================================\n",
      "removed element None\n",
      "==================================================\n",
      "After removed operation on the list [1, 2, 3, 44, 55, 79, 9, 12]\n"
     ]
    }
   ],
   "source": [
    "#remove()--it removes value from the list\n",
    "#remove element 55 from the list using pop\n",
    "l7=[1,2,3,44,55,67,79,9,12]\n",
    "print(\"=\"*50)\n",
    "print('before remove operation on the list',l7)\n",
    "print(\"=\"*50)\n",
    "ele=l7.remove(67)\n",
    "print('removed element',ele)\n",
    "print(\"=\"*50)\n",
    "print('After removed operation on the list',l7)"
   ]
  },
  {
   "cell_type": "code",
   "execution_count": 58,
   "id": "986b1fea",
   "metadata": {},
   "outputs": [
    {
     "ename": "ValueError",
     "evalue": "list.remove(x): x not in list",
     "output_type": "error",
     "traceback": [
      "\u001b[0;31m---------------------------------------------------------------------------\u001b[0m",
      "\u001b[0;31mValueError\u001b[0m                                Traceback (most recent call last)",
      "Cell \u001b[0;32mIn[58], line 1\u001b[0m\n\u001b[0;32m----> 1\u001b[0m l7\u001b[38;5;241m.\u001b[39mremove(\u001b[38;5;241m123\u001b[39m)\n",
      "\u001b[0;31mValueError\u001b[0m: list.remove(x): x not in list"
     ]
    }
   ],
   "source": [
    "l7.remove(123)# if the element is not in list ten throws error"
   ]
  },
  {
   "cell_type": "code",
   "execution_count": 59,
   "id": "ee60f574",
   "metadata": {},
   "outputs": [
    {
     "name": "stdout",
     "output_type": "stream",
     "text": [
      "==================================================\n",
      "before deliting operation on the list [1, 2, 3, 44, 55, 67, 79, 9, 12]\n",
      "==================================================\n",
      "deleted elemet element None\n",
      "==================================================\n",
      "After deleting operation on the list [1, 2, 3, 44, 55, 79, 9, 12]\n"
     ]
    }
   ],
   "source": [
    "#delete--del()-remove the values from list using indexing\n",
    "l7=[1,2,3,44,55,67,79,9,12]\n",
    "print(\"=\"*50)\n",
    "print('before deliting operation on the list',l7)\n",
    "print(\"=\"*50)\n",
    "del l7[5]\n",
    "print('deleted elemet element',ele)\n",
    "print(\"=\"*50)\n",
    "print('After deleting operation on the list',l7)"
   ]
  },
  {
   "cell_type": "code",
   "execution_count": 61,
   "id": "2d06c4b5",
   "metadata": {},
   "outputs": [
    {
     "name": "stdout",
     "output_type": "stream",
     "text": [
      "[1, 2, 3, 4]\n"
     ]
    }
   ],
   "source": [
    "#copy()\n",
    "import copy\n",
    "list1=[1,2,3,4]\n",
    "list2=copy.copy(list1)\n",
    "print(list2)"
   ]
  },
  {
   "cell_type": "code",
   "execution_count": 62,
   "id": "42069f2a",
   "metadata": {},
   "outputs": [
    {
     "name": "stdout",
     "output_type": "stream",
     "text": [
      "before clear function is used [1, 2, 3, 4]\n",
      "==================================================\n",
      "After clear function is used []\n"
     ]
    }
   ],
   "source": [
    "#clear()-\n",
    "list1=[1,2,3,4]\n",
    "print('before clear function is used',list1)\n",
    "print(\"=\"*50)\n",
    "list1.clear()\n",
    "print('After clear function is used',list1)"
   ]
  },
  {
   "cell_type": "code",
   "execution_count": 63,
   "id": "7745f7f6",
   "metadata": {},
   "outputs": [
    {
     "data": {
      "text/plain": [
       "3"
      ]
     },
     "execution_count": 63,
     "metadata": {},
     "output_type": "execute_result"
    }
   ],
   "source": [
    "#count()- number of occurences in a particular list\n",
    "list7=[1,2,3,44,55,67,79,9,12,1,1,1,2,2,2,2,6,7,67,67]\n",
    "list7.count(67)"
   ]
  },
  {
   "cell_type": "code",
   "execution_count": 64,
   "id": "5ee8b8b7",
   "metadata": {},
   "outputs": [
    {
     "data": {
      "text/plain": [
       "0"
      ]
     },
     "execution_count": 64,
     "metadata": {},
     "output_type": "execute_result"
    }
   ],
   "source": [
    "list7.count(1234)# if element is not there then it throws 0"
   ]
  },
  {
   "cell_type": "code",
   "execution_count": 68,
   "id": "c648498e",
   "metadata": {},
   "outputs": [
    {
     "data": {
      "text/plain": [
       "[1, 2, 3, 44, 55, 67, 79, 9, 12, 1, 1, 1, 2, 2, 2, 2, 6, 7, 67, 67]"
      ]
     },
     "execution_count": 68,
     "metadata": {},
     "output_type": "execute_result"
    }
   ],
   "source": [
    "#index\n",
    "list7"
   ]
  },
  {
   "cell_type": "code",
   "execution_count": 69,
   "id": "3f18b779",
   "metadata": {},
   "outputs": [
    {
     "data": {
      "text/plain": [
       "6"
      ]
     },
     "execution_count": 69,
     "metadata": {},
     "output_type": "execute_result"
    }
   ],
   "source": [
    "list7.index(79)"
   ]
  },
  {
   "cell_type": "code",
   "execution_count": 70,
   "id": "62fbdb9b",
   "metadata": {},
   "outputs": [
    {
     "data": {
      "text/plain": [
       "0"
      ]
     },
     "execution_count": 70,
     "metadata": {},
     "output_type": "execute_result"
    }
   ],
   "source": [
    "#if index is repeated and duplicate ---then it will show the 1st occurence of the list\n",
    "list7.index(1)"
   ]
  },
  {
   "cell_type": "code",
   "execution_count": 71,
   "id": "715e94a7",
   "metadata": {},
   "outputs": [
    {
     "data": {
      "text/plain": [
       "5"
      ]
     },
     "execution_count": 71,
     "metadata": {},
     "output_type": "execute_result"
    }
   ],
   "source": [
    "list7.index(67)"
   ]
  },
  {
   "cell_type": "code",
   "execution_count": 72,
   "id": "30b8af39",
   "metadata": {},
   "outputs": [],
   "source": [
    "#reverse\n",
    "list8=[23,24,56,78,89,90,67,78]\n",
    "list8.reverse()"
   ]
  },
  {
   "cell_type": "code",
   "execution_count": 73,
   "id": "f97259bd",
   "metadata": {},
   "outputs": [
    {
     "data": {
      "text/plain": [
       "[78, 67, 90, 89, 78, 56, 24, 23]"
      ]
     },
     "execution_count": 73,
     "metadata": {},
     "output_type": "execute_result"
    }
   ],
   "source": [
    "list8"
   ]
  },
  {
   "cell_type": "code",
   "execution_count": 77,
   "id": "cadb0b02",
   "metadata": {},
   "outputs": [
    {
     "data": {
      "text/plain": [
       "[78, 67, 90, 89, 78, 56, 24, 23]"
      ]
     },
     "execution_count": 77,
     "metadata": {},
     "output_type": "execute_result"
    }
   ],
   "source": [
    "list8=[23,24,56,78,89,90,67,78]\n",
    "list8[::-1]"
   ]
  },
  {
   "cell_type": "code",
   "execution_count": 78,
   "id": "a67c6e75",
   "metadata": {},
   "outputs": [
    {
     "name": "stdout",
     "output_type": "stream",
     "text": [
      "==================================================\n",
      "before sorting operation on the list [1, 2, 3, 44, 55, 67, 79, 9, 12]\n",
      "==================================================\n",
      "deleted elemet element None\n",
      "==================================================\n",
      "After sorting operation on the list [1, 2, 3, 9, 12, 44, 55, 67, 79]\n"
     ]
    }
   ],
   "source": [
    "#sort()--> sort the element in the list\n",
    "l7=[1,2,3,44,55,67,79,9,12]\n",
    "print(\"=\"*50)\n",
    "print('before sorting operation on the list',l7)\n",
    "print(\"=\"*50)\n",
    "ele=l7.sort()\n",
    "print('deleted elemet element',ele)\n",
    "print(\"=\"*50)\n",
    "print('After sorting operation on the list',l7)"
   ]
  },
  {
   "cell_type": "code",
   "execution_count": 79,
   "id": "faeb3a41",
   "metadata": {},
   "outputs": [
    {
     "name": "stdout",
     "output_type": "stream",
     "text": [
      "==================================================\n",
      "before sorting operation on the list [1, 2, 3, 44, 55, 67, 79, 9, 12]\n",
      "==================================================\n",
      "deleted elemet element None\n",
      "==================================================\n",
      "After sorting operation on the list [79, 67, 55, 44, 12, 9, 3, 2, 1]\n"
     ]
    }
   ],
   "source": [
    "#sort()--> sort the element in the list in decending order\n",
    "l7=[1,2,3,44,55,67,79,9,12]\n",
    "print(\"=\"*50)\n",
    "print('before sorting operation on the list',l7)\n",
    "print(\"=\"*50)\n",
    "ele=l7.sort(reverse=True)\n",
    "print('deleted elemet element',ele)\n",
    "print(\"=\"*50)\n",
    "print('After sorting operation on the list',l7)"
   ]
  },
  {
   "cell_type": "code",
   "execution_count": 80,
   "id": "261173e7",
   "metadata": {},
   "outputs": [
    {
     "name": "stdout",
     "output_type": "stream",
     "text": [
      "==================================================\n",
      "before insert operation on the list [1, 2, 3, 44, 55, 67, 79, 9, 12]\n",
      "==================================================\n",
      "inserted elemet  None\n",
      "==================================================\n",
      "After insert operation on the list [1, 2, -89, 3, 44, 55, 67, 79, 9, 12]\n"
     ]
    }
   ],
   "source": [
    "#inser()-list.inser(index position,element to insert)\n",
    "l7=[1,2,3,44,55,67,79,9,12]\n",
    "print(\"=\"*50)\n",
    "print('before insert operation on the list',l7)\n",
    "print(\"=\"*50)\n",
    "ele=l7.insert(2,-89)\n",
    "print('inserted elemet ',ele)\n",
    "print(\"=\"*50)\n",
    "print('After insert operation on the list',l7)"
   ]
  },
  {
   "cell_type": "code",
   "execution_count": 1,
   "id": "719ecd8f",
   "metadata": {},
   "outputs": [
    {
     "name": "stdout",
     "output_type": "stream",
     "text": [
      "Type of tup is (1, 5, 67, 78)\n",
      "(1, 5, 67, 78)\n",
      "4\n"
     ]
    }
   ],
   "source": [
    "#Tuple-Similar to list\n",
    "#Immutable\n",
    "#declared as ()\n",
    "#indexable\n",
    "tup1=(1,5,67,78)\n",
    "print('Type of tup is',tup1)\n",
    "print(tup1)\n",
    "print(len(tup1))"
   ]
  },
  {
   "cell_type": "code",
   "execution_count": 6,
   "id": "e5e1552c",
   "metadata": {},
   "outputs": [
    {
     "data": {
      "text/plain": [
       "tuple"
      ]
     },
     "execution_count": 6,
     "metadata": {},
     "output_type": "execute_result"
    }
   ],
   "source": [
    "#single element declaration in tuple\n",
    "tup2=(1,)\n",
    "type(tup2)"
   ]
  },
  {
   "cell_type": "code",
   "execution_count": 8,
   "id": "850ed724",
   "metadata": {},
   "outputs": [
    {
     "name": "stdout",
     "output_type": "stream",
     "text": [
      "(2, 3.89, True, 'Innomatics')\n"
     ]
    },
    {
     "data": {
      "text/plain": [
       "4"
      ]
     },
     "execution_count": 8,
     "metadata": {},
     "output_type": "execute_result"
    }
   ],
   "source": [
    "tup3=(2,3.89,True,'Innomatics')\n",
    "print(tup3)\n",
    "len(tup3)"
   ]
  },
  {
   "cell_type": "code",
   "execution_count": 10,
   "id": "ce5604db",
   "metadata": {},
   "outputs": [
    {
     "data": {
      "text/plain": [
       "2"
      ]
     },
     "execution_count": 10,
     "metadata": {},
     "output_type": "execute_result"
    }
   ],
   "source": [
    "#indexing\n",
    "tup3[0]"
   ]
  },
  {
   "cell_type": "code",
   "execution_count": 11,
   "id": "04c0505c",
   "metadata": {},
   "outputs": [
    {
     "ename": "TypeError",
     "evalue": "'tuple' object does not support item assignment",
     "output_type": "error",
     "traceback": [
      "\u001b[0;31m---------------------------------------------------------------------------\u001b[0m",
      "\u001b[0;31mTypeError\u001b[0m                                 Traceback (most recent call last)",
      "Cell \u001b[0;32mIn[11], line 1\u001b[0m\n\u001b[0;32m----> 1\u001b[0m tup3[\u001b[38;5;241m0\u001b[39m]\u001b[38;5;241m=\u001b[39m\u001b[38;5;241m789\u001b[39m\n",
      "\u001b[0;31mTypeError\u001b[0m: 'tuple' object does not support item assignment"
     ]
    }
   ],
   "source": [
    "tup3[0]=789"
   ]
  },
  {
   "cell_type": "code",
   "execution_count": 13,
   "id": "46d8c7ea",
   "metadata": {},
   "outputs": [
    {
     "name": "stdout",
     "output_type": "stream",
     "text": [
      "('Hello', 'Good Morning', 'How', 'Are', 'You?')\n"
     ]
    }
   ],
   "source": [
    "#operations on tuple\n",
    "#concatination\n",
    "tup4=('Hello','Good Morning')\n",
    "tup5=('How', 'Are', 'You?')\n",
    "tup6=tup4+tup5\n",
    "print(tup6)"
   ]
  },
  {
   "cell_type": "code",
   "execution_count": 16,
   "id": "0f51dc92",
   "metadata": {},
   "outputs": [
    {
     "ename": "TypeError",
     "evalue": "can't multiply sequence by non-int of type 'tuple'",
     "output_type": "error",
     "traceback": [
      "\u001b[0;31m---------------------------------------------------------------------------\u001b[0m",
      "\u001b[0;31mTypeError\u001b[0m                                 Traceback (most recent call last)",
      "Cell \u001b[0;32mIn[16], line 2\u001b[0m\n\u001b[1;32m      1\u001b[0m \u001b[38;5;66;03m#multiplication on tuple\u001b[39;00m\n\u001b[0;32m----> 2\u001b[0m tup7\u001b[38;5;241m=\u001b[39mtup5\u001b[38;5;241m*\u001b[39mtup4\n\u001b[1;32m      3\u001b[0m tup7\n",
      "\u001b[0;31mTypeError\u001b[0m: can't multiply sequence by non-int of type 'tuple'"
     ]
    }
   ],
   "source": [
    "#multiplication on tuple\n",
    "tup7=tup5*tup4\n",
    "tup7"
   ]
  },
  {
   "cell_type": "code",
   "execution_count": 18,
   "id": "6d4f4279",
   "metadata": {},
   "outputs": [
    {
     "name": "stdout",
     "output_type": "stream",
     "text": [
      "('Hello', 'Good Morning', 'How', 'Are', 'You?', 'Hello', 'Good Morning', 'How', 'Are', 'You?')\n"
     ]
    }
   ],
   "source": [
    "tup7=tup6*2\n",
    "print(tup7)"
   ]
  },
  {
   "cell_type": "code",
   "execution_count": 21,
   "id": "ab152aa8",
   "metadata": {},
   "outputs": [
    {
     "name": "stdout",
     "output_type": "stream",
     "text": [
      "(600, 1, 2, 3, 4, 5)\n"
     ]
    }
   ],
   "source": [
    "#Indexing\n",
    "tup8=(1,2,3,4,5,6,7,8,9)\n",
    "#use constant value=600\n",
    "n_tuple=600\n",
    "tup9=(n_tuple,)+tup8[:5]\n",
    "print(tup9)"
   ]
  },
  {
   "cell_type": "code",
   "execution_count": 22,
   "id": "7b77e37d",
   "metadata": {},
   "outputs": [
    {
     "name": "stdout",
     "output_type": "stream",
     "text": [
      "(1, 2, 3, 4, 5, 600, 8, 9)\n"
     ]
    }
   ],
   "source": [
    "tup10=tup8[:5]+(n_tuple,)+tup8[7:]\n",
    "print(tup10)"
   ]
  },
  {
   "cell_type": "code",
   "execution_count": 25,
   "id": "7c3a92fd",
   "metadata": {},
   "outputs": [
    {
     "name": "stdout",
     "output_type": "stream",
     "text": [
      "[('sara', 45), ('milan', 15)]\n",
      "2\n",
      "<class 'list'>\n"
     ]
    }
   ],
   "source": [
    "#create tuples and keep them in list\n",
    "a=('sara',45)\n",
    "b=('milan',15)\n",
    "c=[a,b]\n",
    "print(c)\n",
    "print(len(c))\n",
    "print(type(c))"
   ]
  },
  {
   "cell_type": "code",
   "execution_count": 26,
   "id": "49995613",
   "metadata": {},
   "outputs": [
    {
     "data": {
      "text/plain": [
       "[('sara', 45), ('milan', 15)]"
      ]
     },
     "execution_count": 26,
     "metadata": {},
     "output_type": "execute_result"
    }
   ],
   "source": [
    "d=[('sara', 45), ('milan', 15)]\n",
    "d"
   ]
  },
  {
   "cell_type": "code",
   "execution_count": 29,
   "id": "a9e6e0ab",
   "metadata": {},
   "outputs": [
    {
     "ename": "TypeError",
     "evalue": "'tuple' object does not support item assignment",
     "output_type": "error",
     "traceback": [
      "\u001b[0;31m---------------------------------------------------------------------------\u001b[0m",
      "\u001b[0;31mTypeError\u001b[0m                                 Traceback (most recent call last)",
      "Cell \u001b[0;32mIn[29], line 1\u001b[0m\n\u001b[0;32m----> 1\u001b[0m d[\u001b[38;5;241m0\u001b[39m][\u001b[38;5;241m1\u001b[39m]\u001b[38;5;241m=\u001b[39m\u001b[38;5;241m35\u001b[39m\n\u001b[1;32m      2\u001b[0m d\n",
      "\u001b[0;31mTypeError\u001b[0m: 'tuple' object does not support item assignment"
     ]
    }
   ],
   "source": [
    "d[0][1]=35\n",
    "d"
   ]
  },
  {
   "cell_type": "code",
   "execution_count": 30,
   "id": "78783827",
   "metadata": {},
   "outputs": [
    {
     "data": {
      "text/plain": [
       "[('sara', 35), ('milan', 15)]"
      ]
     },
     "execution_count": 30,
     "metadata": {},
     "output_type": "execute_result"
    }
   ],
   "source": [
    "d[0]=('sara', 35)\n",
    "d"
   ]
  },
  {
   "cell_type": "code",
   "execution_count": 38,
   "id": "9e5ec92b",
   "metadata": {},
   "outputs": [],
   "source": [
    "students=[\n",
    "    (1, 'john', 'data science', ['python', 'c']),\n",
    "    (2, 'raunak', 'data science', ['c++', 'c']),\n",
    "    (3, 'mani', 'data science', ['python', 'c++'])\n",
    "]"
   ]
  },
  {
   "cell_type": "code",
   "execution_count": 39,
   "id": "9799269a",
   "metadata": {},
   "outputs": [
    {
     "name": "stdout",
     "output_type": "stream",
     "text": [
      "[(1, 'john', 'data science', ['python', 'c']), (2, 'raunak', 'data science', ['c++', 'c']), (3, 'mani', 'data science', ['python', 'c++'])]\n"
     ]
    }
   ],
   "source": [
    "print(students)"
   ]
  },
  {
   "cell_type": "code",
   "execution_count": 40,
   "id": "adf27806",
   "metadata": {},
   "outputs": [
    {
     "data": {
      "text/plain": [
       "'raunak'"
      ]
     },
     "execution_count": 40,
     "metadata": {},
     "output_type": "execute_result"
    }
   ],
   "source": [
    "students[1][1]"
   ]
  },
  {
   "cell_type": "code",
   "execution_count": 41,
   "id": "7ef2d504",
   "metadata": {},
   "outputs": [
    {
     "data": {
      "text/plain": [
       "'c++'"
      ]
     },
     "execution_count": 41,
     "metadata": {},
     "output_type": "execute_result"
    }
   ],
   "source": [
    "students[1][3][0]"
   ]
  },
  {
   "cell_type": "code",
   "execution_count": 42,
   "id": "bc8c5644",
   "metadata": {},
   "outputs": [
    {
     "name": "stdout",
     "output_type": "stream",
     "text": [
      "<class 'tuple'>\n"
     ]
    }
   ],
   "source": [
    "a=23\n",
    "b=34\n",
    "t1=(23,34)\n",
    "print(type(t1))"
   ]
  },
  {
   "cell_type": "code",
   "execution_count": 43,
   "id": "1efc4c56",
   "metadata": {},
   "outputs": [],
   "source": [
    "x,y=t1"
   ]
  },
  {
   "cell_type": "code",
   "execution_count": 44,
   "id": "77c2230f",
   "metadata": {},
   "outputs": [
    {
     "data": {
      "text/plain": [
       "23"
      ]
     },
     "execution_count": 44,
     "metadata": {},
     "output_type": "execute_result"
    }
   ],
   "source": [
    "x"
   ]
  },
  {
   "cell_type": "code",
   "execution_count": 45,
   "id": "193d5b4b",
   "metadata": {},
   "outputs": [
    {
     "data": {
      "text/plain": [
       "34"
      ]
     },
     "execution_count": 45,
     "metadata": {},
     "output_type": "execute_result"
    }
   ],
   "source": [
    "y"
   ]
  },
  {
   "cell_type": "code",
   "execution_count": 59,
   "id": "4d1eb115",
   "metadata": {},
   "outputs": [
    {
     "name": "stdout",
     "output_type": "stream",
     "text": [
      "(5, 100, 4, 4, 6, 9)\n",
      "(5, 100, 4, 4)\n",
      "(5, 4, 6)\n",
      "(9, 6, 4, 4, 100, 5)\n"
     ]
    }
   ],
   "source": [
    "tup11=(5,100,4,4,6,9)\n",
    "# access all ements usinf indexing\n",
    "print(tup11[:6])\n",
    "#access 5,100,4,4\n",
    "print(tup11[:4])\n",
    "#access 5,4,6\n",
    "print(tup11[0:5:2])\n",
    "#access 9,6,6,6,100,5\n",
    "print(tup11[::-1])"
   ]
  },
  {
   "cell_type": "code",
   "execution_count": 61,
   "id": "72d08141",
   "metadata": {},
   "outputs": [
    {
     "name": "stdout",
     "output_type": "stream",
     "text": [
      "<class 'tuple'>\n",
      "<class 'tuple'>\n"
     ]
    }
   ],
   "source": [
    "tup12=()\n",
    "print(type(tup12))\n",
    "tup13=tuple()\n",
    "print(type(tup13))"
   ]
  },
  {
   "cell_type": "code",
   "execution_count": 62,
   "id": "06ff5cec",
   "metadata": {
    "collapsed": true
   },
   "outputs": [
    {
     "ename": "AttributeError",
     "evalue": "'tuple' object has no attribute 'append'",
     "output_type": "error",
     "traceback": [
      "\u001b[0;31m---------------------------------------------------------------------------\u001b[0m",
      "\u001b[0;31mAttributeError\u001b[0m                            Traceback (most recent call last)",
      "Cell \u001b[0;32mIn[62], line 3\u001b[0m\n\u001b[1;32m      1\u001b[0m \u001b[38;5;66;03m#append to tuple\u001b[39;00m\n\u001b[1;32m      2\u001b[0m tup1\u001b[38;5;241m=\u001b[39m(\u001b[38;5;241m1\u001b[39m,\u001b[38;5;241m2\u001b[39m,\u001b[38;5;241m3\u001b[39m,\u001b[38;5;241m4\u001b[39m,\u001b[38;5;241m5\u001b[39m)\n\u001b[0;32m----> 3\u001b[0m tup1\u001b[38;5;241m.\u001b[39mappend(\u001b[38;5;241m89\u001b[39m)\n\u001b[1;32m      4\u001b[0m tup1\n",
      "\u001b[0;31mAttributeError\u001b[0m: 'tuple' object has no attribute 'append'"
     ]
    }
   ],
   "source": [
    "#append to tuple\n",
    "tup1=(1,2,3,4,5)\n",
    "tup1.append(89)\n",
    "tup1"
   ]
  },
  {
   "cell_type": "code",
   "execution_count": 64,
   "id": "95007a51",
   "metadata": {},
   "outputs": [
    {
     "data": {
      "text/plain": [
       "(1, 2, 3, 4, 5, 89)"
      ]
     },
     "execution_count": 64,
     "metadata": {},
     "output_type": "execute_result"
    }
   ],
   "source": [
    "tup2=89\n",
    "tup3=tup1+(tup2,)\n",
    "tup3"
   ]
  },
  {
   "cell_type": "code",
   "execution_count": 65,
   "id": "e46f72a9",
   "metadata": {},
   "outputs": [
    {
     "data": {
      "text/plain": [
       "(1, 2, 3, 4, 5, 23, 45, 78)"
      ]
     },
     "execution_count": 65,
     "metadata": {},
     "output_type": "execute_result"
    }
   ],
   "source": [
    "tup3=tup1+(23,45,78)\n",
    "tup3"
   ]
  },
  {
   "cell_type": "code",
   "execution_count": 66,
   "id": "72213ee7",
   "metadata": {},
   "outputs": [
    {
     "data": {
      "text/plain": [
       "(1, 2, 3, 4, 5, 23, 45, 78, 1, 2, 3, 4, 5, 23, 45, 78)"
      ]
     },
     "execution_count": 66,
     "metadata": {},
     "output_type": "execute_result"
    }
   ],
   "source": [
    "#repeatition\n",
    "tup3*2"
   ]
  },
  {
   "cell_type": "code",
   "execution_count": 69,
   "id": "a1aba7d6",
   "metadata": {},
   "outputs": [
    {
     "name": "stdout",
     "output_type": "stream",
     "text": [
      "{1, 'innomatics', 'Innomatics', 23.56}\n",
      "<class 'set'>\n",
      "4\n"
     ]
    }
   ],
   "source": [
    "#set\n",
    "#it is a collection of unique data\n",
    "#unordered\n",
    "#indexing not possible\n",
    "#no duplicates allowed\n",
    "#declaration{}\n",
    "#mutable\n",
    "my_set={1,23.56,True,'Innomatics','innomatics','Innomatics'}\n",
    "print(my_set)\n",
    "print(type(my_set))\n",
    "print(len(my_set))"
   ]
  },
  {
   "cell_type": "code",
   "execution_count": 73,
   "id": "e6bc6d5f",
   "metadata": {},
   "outputs": [
    {
     "data": {
      "text/plain": [
       "dict"
      ]
     },
     "execution_count": 73,
     "metadata": {},
     "output_type": "execute_result"
    }
   ],
   "source": [
    "#empty set\n",
    "my_set1={}\n",
    "type(my_set1)"
   ]
  },
  {
   "cell_type": "code",
   "execution_count": 74,
   "id": "bc348806",
   "metadata": {},
   "outputs": [
    {
     "data": {
      "text/plain": [
       "set"
      ]
     },
     "execution_count": 74,
     "metadata": {},
     "output_type": "execute_result"
    }
   ],
   "source": [
    "#empty set\n",
    "my_set1=set()\n",
    "type(my_set1)"
   ]
  },
  {
   "cell_type": "code",
   "execution_count": 75,
   "id": "87171ff1",
   "metadata": {},
   "outputs": [
    {
     "name": "stdout",
     "output_type": "stream",
     "text": [
      "{1, 2, 3}\n",
      "<class 'set'>\n"
     ]
    }
   ],
   "source": [
    "#create set using list\n",
    "set1=set([1,2,3])\n",
    "print(set1)\n",
    "print(type(set1))"
   ]
  },
  {
   "cell_type": "code",
   "execution_count": 76,
   "id": "f415b615",
   "metadata": {},
   "outputs": [
    {
     "name": "stdout",
     "output_type": "stream",
     "text": [
      "{1, 2, 3, 4, 5}\n"
     ]
    }
   ],
   "source": [
    "list1=[1,2,3,4,5]\n",
    "set1=set(list1)\n",
    "print(set1)"
   ]
  },
  {
   "cell_type": "code",
   "execution_count": 77,
   "id": "495ca321",
   "metadata": {},
   "outputs": [
    {
     "name": "stdout",
     "output_type": "stream",
     "text": [
      "[1, 2, 3, [4, 5, 6]]\n"
     ]
    }
   ],
   "source": [
    "li=[1,2,3,[4,5,6]]\n",
    "print(li)"
   ]
  },
  {
   "cell_type": "code",
   "execution_count": 2,
   "id": "af43c4bf",
   "metadata": {},
   "outputs": [
    {
     "name": "stdout",
     "output_type": "stream",
     "text": [
      "{1, 2, 3, 4, 5, 6}\n"
     ]
    }
   ],
   "source": [
    "#built in method o0f set\n",
    "#add\n",
    "set1={1,2,3,4,5}\n",
    "set1.add(6)\n",
    "print(set1)"
   ]
  },
  {
   "cell_type": "code",
   "execution_count": 6,
   "id": "b8ad50cc",
   "metadata": {},
   "outputs": [
    {
     "data": {
      "text/plain": [
       "{1, 2, 3, 4, 5, 6, 7, 8, 9}"
      ]
     },
     "execution_count": 6,
     "metadata": {},
     "output_type": "execute_result"
    }
   ],
   "source": [
    "##add multiple element\n",
    "#use update method\n",
    "set1.update([7,8,9])\n",
    "set1"
   ]
  },
  {
   "cell_type": "code",
   "execution_count": 7,
   "id": "f8a65ce6",
   "metadata": {},
   "outputs": [
    {
     "data": {
      "text/plain": [
       "{1, 2, 3, 4, 5, 6, 7, 8, 9, 67, 69}"
      ]
     },
     "execution_count": 7,
     "metadata": {},
     "output_type": "execute_result"
    }
   ],
   "source": [
    "#another way to add multiple element\n",
    "set1.update({67,69})\n",
    "set1"
   ]
  },
  {
   "cell_type": "code",
   "execution_count": 8,
   "id": "6367789d",
   "metadata": {},
   "outputs": [
    {
     "data": {
      "text/plain": [
       "[1, 2, 3, 4, 5, 9, 19, 99, 105]"
      ]
     },
     "execution_count": 8,
     "metadata": {},
     "output_type": "execute_result"
    }
   ],
   "source": [
    "#sorting function in set\n",
    "set2={1, 2, 3, 4, 5, 99, 105,9, 19}\n",
    "sorted(set2)"
   ]
  },
  {
   "cell_type": "code",
   "execution_count": 9,
   "id": "07e55c2d",
   "metadata": {},
   "outputs": [],
   "source": [
    "#discard\n",
    "set2.discard(105)"
   ]
  },
  {
   "cell_type": "code",
   "execution_count": 10,
   "id": "9f847fad",
   "metadata": {},
   "outputs": [
    {
     "data": {
      "text/plain": [
       "{1, 2, 3, 4, 5, 9, 19, 99}"
      ]
     },
     "execution_count": 10,
     "metadata": {},
     "output_type": "execute_result"
    }
   ],
   "source": [
    "set2"
   ]
  },
  {
   "cell_type": "code",
   "execution_count": 11,
   "id": "b826101e",
   "metadata": {},
   "outputs": [
    {
     "data": {
      "text/plain": [
       "{1, 2, 3, 4, 5, 9, 19, 99}"
      ]
     },
     "execution_count": 11,
     "metadata": {},
     "output_type": "execute_result"
    }
   ],
   "source": [
    "set2.discard(1050)# trying to discard element which is not in the set but still it will not throw an error\n",
    "set2"
   ]
  },
  {
   "cell_type": "code",
   "execution_count": 15,
   "id": "76e3bdc4",
   "metadata": {},
   "outputs": [
    {
     "data": {
      "text/plain": [
       "{1, 2, 3, 4, 5, 9}"
      ]
     },
     "execution_count": 15,
     "metadata": {},
     "output_type": "execute_result"
    }
   ],
   "source": [
    "#remove()\n",
    "#it is used to remove an element from the set\n",
    "set2.remove(19)\n",
    "set2"
   ]
  },
  {
   "cell_type": "code",
   "execution_count": 16,
   "id": "08d27b6f",
   "metadata": {},
   "outputs": [
    {
     "name": "stdout",
     "output_type": "stream",
     "text": [
      "[{99, 45}, {100, 15}]\n"
     ]
    }
   ],
   "source": [
    "a={99,45}\n",
    "b={100,15}\n",
    "c=[a,b]\n",
    "print(c)"
   ]
  },
  {
   "cell_type": "code",
   "execution_count": 17,
   "id": "4651b124",
   "metadata": {},
   "outputs": [
    {
     "data": {
      "text/plain": [
       "[{15, 100}, {45, 99}]"
      ]
     },
     "execution_count": 17,
     "metadata": {},
     "output_type": "execute_result"
    }
   ],
   "source": [
    "c.reverse()\n",
    "c"
   ]
  },
  {
   "cell_type": "code",
   "execution_count": 18,
   "id": "803247ce",
   "metadata": {},
   "outputs": [
    {
     "name": "stdout",
     "output_type": "stream",
     "text": [
      "20\n",
      "10\n"
     ]
    }
   ],
   "source": [
    "a=10\n",
    "b=20\n",
    "a,b=b,a\n",
    "print(a)\n",
    "print(b)"
   ]
  },
  {
   "cell_type": "code",
   "execution_count": 19,
   "id": "99ff90d9",
   "metadata": {},
   "outputs": [
    {
     "name": "stdout",
     "output_type": "stream",
     "text": [
      "10\n",
      "20\n"
     ]
    }
   ],
   "source": [
    "c=a\n",
    "a=b\n",
    "b=c\n",
    "print(a)\n",
    "print(b)"
   ]
  },
  {
   "cell_type": "code",
   "execution_count": 20,
   "id": "df83723a",
   "metadata": {},
   "outputs": [
    {
     "data": {
      "text/plain": [
       "{1, 2, 3, 4, 5, 9}"
      ]
     },
     "execution_count": 20,
     "metadata": {},
     "output_type": "execute_result"
    }
   ],
   "source": [
    "set2"
   ]
  },
  {
   "cell_type": "code",
   "execution_count": 21,
   "id": "1d11c4fd",
   "metadata": {},
   "outputs": [
    {
     "data": {
      "text/plain": [
       "1"
      ]
     },
     "execution_count": 21,
     "metadata": {},
     "output_type": "execute_result"
    }
   ],
   "source": [
    "#pop()\n",
    "set2.pop()"
   ]
  },
  {
   "cell_type": "code",
   "execution_count": 22,
   "id": "b8163685",
   "metadata": {},
   "outputs": [
    {
     "data": {
      "text/plain": [
       "{2, 3, 4, 5, 9}"
      ]
     },
     "execution_count": 22,
     "metadata": {},
     "output_type": "execute_result"
    }
   ],
   "source": [
    "set2"
   ]
  },
  {
   "cell_type": "code",
   "execution_count": 23,
   "id": "e815ded1",
   "metadata": {},
   "outputs": [],
   "source": [
    "#clear()\n",
    "set2.clear()"
   ]
  },
  {
   "cell_type": "code",
   "execution_count": 24,
   "id": "3c2dc9cd",
   "metadata": {},
   "outputs": [
    {
     "data": {
      "text/plain": [
       "set()"
      ]
     },
     "execution_count": 24,
     "metadata": {},
     "output_type": "execute_result"
    }
   ],
   "source": [
    "set2"
   ]
  },
  {
   "cell_type": "code",
   "execution_count": 27,
   "id": "030ce710",
   "metadata": {},
   "outputs": [
    {
     "name": "stdout",
     "output_type": "stream",
     "text": [
      "A union B {1, 2, 3, 4, 5, 6, 7, 8, 9, 10}\n",
      "b union A {1, 2, 3, 4, 5, 6, 7, 8, 9, 10}\n"
     ]
    }
   ],
   "source": [
    "A={1,2,3,4,5,6}\n",
    "B={5,6,7,8,9,10}\n",
    "#union-itakes all element from A and B\n",
    "#intersection- it takes only common element from A and B\n",
    "#n(AuniunB)=n(A)+n(B)-n(A intersection B)\n",
    "#difference()\n",
    "#symetric difference()\n",
    "\n",
    "print('A union B',A|B)\n",
    "print('b union A',B.union(A))\n"
   ]
  },
  {
   "cell_type": "code",
   "execution_count": 28,
   "id": "6b9add52",
   "metadata": {},
   "outputs": [
    {
     "name": "stdout",
     "output_type": "stream",
     "text": [
      "B intersection {5, 6}\n",
      "B intersection A can also be {5, 6}\n"
     ]
    }
   ],
   "source": [
    "print('B intersection', B&A)\n",
    "print('B intersection A can also be',B.intersection(A))"
   ]
  },
  {
   "cell_type": "code",
   "execution_count": 30,
   "id": "135a7031",
   "metadata": {},
   "outputs": [
    {
     "name": "stdout",
     "output_type": "stream",
     "text": [
      "A difference B {1, 2, 3, 4}\n",
      "A difference B {1, 2, 3, 4}\n"
     ]
    }
   ],
   "source": [
    "print('A difference B',A-B)\n",
    "print('A difference B',A.difference(B))"
   ]
  },
  {
   "cell_type": "code",
   "execution_count": 34,
   "id": "431a40dd",
   "metadata": {},
   "outputs": [
    {
     "name": "stdout",
     "output_type": "stream",
     "text": [
      "Symmetric Difference {1, 2, 3, 4, 7, 8, 9, 10}\n",
      "A symmetric difference B can also be {1, 2, 3, 4, 7, 8, 9, 10}\n",
      "A symmetric difference B can also be {1, 2, 3, 4, 7, 8, 9, 10}\n"
     ]
    }
   ],
   "source": [
    "print('Symmetric Difference',(A|B)-(A&B))\n",
    "print('A symmetric difference B can also be',A^B)\n",
    "print('A symmetric difference B can also be',A.symmetric_difference(B))"
   ]
  },
  {
   "cell_type": "code",
   "execution_count": 37,
   "id": "f5c8ce66",
   "metadata": {},
   "outputs": [
    {
     "name": "stdout",
     "output_type": "stream",
     "text": [
      "{1, 2, 3, 4, 5, 6, 78}\n",
      "{1, 2, 3, 4, 5, 6, 78}\n"
     ]
    }
   ],
   "source": [
    "#manipulating the sets\n",
    "A={1,2,3,4,5,6}\n",
    "A.add(78)\n",
    "print(A)\n",
    "sum(A)\n",
    "print(A)"
   ]
  },
  {
   "cell_type": "code",
   "execution_count": 38,
   "id": "df7fd370",
   "metadata": {},
   "outputs": [
    {
     "data": {
      "text/plain": [
       "99"
      ]
     },
     "execution_count": 38,
     "metadata": {},
     "output_type": "execute_result"
    }
   ],
   "source": [
    "sum(A)"
   ]
  },
  {
   "cell_type": "code",
   "execution_count": 39,
   "id": "fda95849",
   "metadata": {},
   "outputs": [
    {
     "data": {
      "text/plain": [
       "True"
      ]
     },
     "execution_count": 39,
     "metadata": {},
     "output_type": "execute_result"
    }
   ],
   "source": [
    "456 not in A"
   ]
  },
  {
   "cell_type": "code",
   "execution_count": 40,
   "id": "c7a21ef4",
   "metadata": {},
   "outputs": [
    {
     "data": {
      "text/plain": [
       "False"
      ]
     },
     "execution_count": 40,
     "metadata": {},
     "output_type": "execute_result"
    }
   ],
   "source": [
    "4567 in A"
   ]
  },
  {
   "cell_type": "code",
   "execution_count": 41,
   "id": "97325c7b",
   "metadata": {},
   "outputs": [
    {
     "data": {
      "text/plain": [
       "78"
      ]
     },
     "execution_count": 41,
     "metadata": {},
     "output_type": "execute_result"
    }
   ],
   "source": [
    "max(A)"
   ]
  },
  {
   "cell_type": "code",
   "execution_count": 42,
   "id": "12909a18",
   "metadata": {},
   "outputs": [
    {
     "data": {
      "text/plain": [
       "1"
      ]
     },
     "execution_count": 42,
     "metadata": {},
     "output_type": "execute_result"
    }
   ],
   "source": [
    "min(A)"
   ]
  },
  {
   "cell_type": "code",
   "execution_count": 43,
   "id": "c49e3026",
   "metadata": {},
   "outputs": [
    {
     "name": "stdout",
     "output_type": "stream",
     "text": [
      "{'123': 'Dhoni', '134': 'Virat', '679': 'Sachin'}\n",
      "3\n",
      "<class 'dict'>\n"
     ]
    }
   ],
   "source": [
    "#Dictionary\n",
    "#creating ways of dictionary\n",
    "#how to call dictionary element\n",
    "#operations in dictionaries\n",
    "#built in function in dictionaries\n",
    "#difference between set and dictionary\n",
    "#each element in dict is separated by comm ,\n",
    "#keys and values assigned by :\n",
    "#Dictionary---- store key value pairs, unordered,indexable,mutable\n",
    "# declaration{}\n",
    "#duplicates not allowed\n",
    "\n",
    "student={'123':'Dhoni','134':'Virat','679':'Sachin'}\n",
    "print(student)\n",
    "print(len(student))\n",
    "print(type(student))"
   ]
  },
  {
   "cell_type": "code",
   "execution_count": 44,
   "id": "bfce4373",
   "metadata": {},
   "outputs": [
    {
     "data": {
      "text/plain": [
       "dict"
      ]
     },
     "execution_count": 44,
     "metadata": {},
     "output_type": "execute_result"
    }
   ],
   "source": [
    "#empty dictionary\n",
    "dict1={}\n",
    "type(dict1)"
   ]
  },
  {
   "cell_type": "code",
   "execution_count": 45,
   "id": "01986110",
   "metadata": {},
   "outputs": [
    {
     "data": {
      "text/plain": [
       "{'123': 'Dhoni', '134': 'Virat', '679': 'Sachin', '789': 'Rohit Sharma'}"
      ]
     },
     "execution_count": 45,
     "metadata": {},
     "output_type": "execute_result"
    }
   ],
   "source": [
    "# add new element to dictionary\n",
    "student['789']='Rohit Sharma'\n",
    "student"
   ]
  },
  {
   "cell_type": "code",
   "execution_count": 46,
   "id": "3fe63940",
   "metadata": {},
   "outputs": [
    {
     "data": {
      "text/plain": [
       "{'123': 'Dhoni', '134': 'Virat', '679': 'Sachin', '789': 'Pandya'}"
      ]
     },
     "execution_count": 46,
     "metadata": {},
     "output_type": "execute_result"
    }
   ],
   "source": [
    "student['789']='Pandya'\n",
    "student"
   ]
  },
  {
   "cell_type": "code",
   "execution_count": 51,
   "id": "b8ca5282",
   "metadata": {},
   "outputs": [
    {
     "name": "stdout",
     "output_type": "stream",
     "text": [
      "{'Name': 'John', 'Age': '29', 'Blood Group': 'A+', 'Location': 'scotland'}\n",
      "{'Name': 'Rick', 'Age': '35', 'Blood Group': 'D', 'Location': 'bangalore'}\n",
      "{'Name': 'Nilsan', 'Age': '23', 'Blood Group': 'B+', 'Location': 'chenai'}\n"
     ]
    }
   ],
   "source": [
    "emp1={'Name':'John','Age':'29','Blood Group':'A+','Location':'scotland'}\n",
    "emp2={'Name':'Rick','Age':'35','Blood Group':'D','Location':'bangalore'}\n",
    "emp3={'Name':'Nilsan','Age':'23','Blood Group':'B+','Location':'chenai'}\n",
    "print(emp1)\n",
    "print(emp2)\n",
    "print(emp3)"
   ]
  },
  {
   "cell_type": "code",
   "execution_count": 53,
   "id": "22805b1b",
   "metadata": {},
   "outputs": [
    {
     "data": {
      "text/plain": [
       "{'Name': 'John',\n",
       " 'Age': '29',\n",
       " 'Blood Group': 'A+',\n",
       " 'Location': 'scotland',\n",
       " 'John': 'Title'}"
      ]
     },
     "execution_count": 53,
     "metadata": {},
     "output_type": "execute_result"
    }
   ],
   "source": [
    "emp1['John']='Title'# key can't be changed\n",
    "emp1"
   ]
  },
  {
   "cell_type": "code",
   "execution_count": 1,
   "id": "93226e61",
   "metadata": {},
   "outputs": [
    {
     "name": "stdout",
     "output_type": "stream",
     "text": [
      "{'111-34-3434': 'john', '132-56-6290': 'peter'}\n"
     ]
    }
   ],
   "source": [
    "dict1={'111-34-3434':'john','132-56-6290':'peter'}\n",
    "print(dict1)"
   ]
  },
  {
   "cell_type": "code",
   "execution_count": 3,
   "id": "1ed4b62d",
   "metadata": {},
   "outputs": [
    {
     "data": {
      "text/plain": [
       "False"
      ]
     },
     "execution_count": 3,
     "metadata": {},
     "output_type": "execute_result"
    }
   ],
   "source": [
    "#membership operator\n",
    "'111-3443' in dict1"
   ]
  },
  {
   "cell_type": "code",
   "execution_count": 4,
   "id": "80999dfb",
   "metadata": {},
   "outputs": [
    {
     "data": {
      "text/plain": [
       "False"
      ]
     },
     "execution_count": 4,
     "metadata": {},
     "output_type": "execute_result"
    }
   ],
   "source": [
    "'john' in dict1 #False because it only take keys for membership"
   ]
  },
  {
   "cell_type": "code",
   "execution_count": 8,
   "id": "529018fb",
   "metadata": {},
   "outputs": [
    {
     "name": "stdout",
     "output_type": "stream",
     "text": [
      "{2: 4, 3: 9, 4: 16}\n"
     ]
    }
   ],
   "source": [
    "sqr={2:4,3:9,4:16}\n",
    "print(sqr)"
   ]
  },
  {
   "cell_type": "code",
   "execution_count": 9,
   "id": "e9b4ef70",
   "metadata": {},
   "outputs": [
    {
     "data": {
      "text/plain": [
       "True"
      ]
     },
     "execution_count": 9,
     "metadata": {},
     "output_type": "execute_result"
    }
   ],
   "source": [
    "2 in sqr"
   ]
  },
  {
   "cell_type": "code",
   "execution_count": 11,
   "id": "94bc6dcf",
   "metadata": {},
   "outputs": [
    {
     "data": {
      "text/plain": [
       "False"
      ]
     },
     "execution_count": 11,
     "metadata": {},
     "output_type": "execute_result"
    }
   ],
   "source": [
    "d1={'red':42,'blue':3}\n",
    "d2={'white':3,'red':42}\n",
    "d1==d2"
   ]
  },
  {
   "cell_type": "code",
   "execution_count": 13,
   "id": "102423c8",
   "metadata": {},
   "outputs": [
    {
     "data": {
      "text/plain": [
       "True"
      ]
     },
     "execution_count": 13,
     "metadata": {},
     "output_type": "execute_result"
    }
   ],
   "source": [
    "d1={'red':42,'blue':3}\n",
    "d2={'red':42,'blue':3}\n",
    "d1==d2"
   ]
  },
  {
   "cell_type": "code",
   "execution_count": 14,
   "id": "48cf464d",
   "metadata": {},
   "outputs": [
    {
     "data": {
      "text/plain": [
       "{'A': 10, 'B': 10, 'C': 10, 'D': 10, 'E': 10}"
      ]
     },
     "execution_count": 14,
     "metadata": {},
     "output_type": "execute_result"
    }
   ],
   "source": [
    "#fromkeys\n",
    "keys=['A','B','C','D','E']\n",
    "values=10\n",
    "dict1=dict.fromkeys(keys,values)\n",
    "dict1"
   ]
  },
  {
   "cell_type": "code",
   "execution_count": 16,
   "id": "ace201f8",
   "metadata": {},
   "outputs": [
    {
     "data": {
      "text/plain": [
       "{'pepper': 0.2, 'onion': 0.55, 'apple': 0.4, 'orange': 0.35}"
      ]
     },
     "execution_count": 16,
     "metadata": {},
     "output_type": "execute_result"
    }
   ],
   "source": [
    "#unpacking\n",
    "fruit_prices={'apple':0.40,'orange':0.35}\n",
    "veg_prices={'pepper':0.20,'onion':0.55}\n",
    "\n",
    "#operator for unpacking\n",
    "{**veg_prices,**fruit_prices}"
   ]
  },
  {
   "cell_type": "code",
   "execution_count": 17,
   "id": "6aa5e6b2",
   "metadata": {},
   "outputs": [
    {
     "data": {
      "text/plain": [
       "{'apple': 0.4, 'orange': 0.35, 'pepper': 0.2, 'onion': 0.55}"
      ]
     },
     "execution_count": 17,
     "metadata": {},
     "output_type": "execute_result"
    }
   ],
   "source": [
    "{**fruit_prices,**veg_prices}"
   ]
  },
  {
   "cell_type": "code",
   "execution_count": 18,
   "id": "85157dbb",
   "metadata": {},
   "outputs": [
    {
     "name": "stdout",
     "output_type": "stream",
     "text": [
      "1\n",
      "3\n"
     ]
    }
   ],
   "source": [
    "d = {'a': 1, 'b': 2}\n",
    "print(d.get('a'))        # Output: 1\n",
    "print(d.get('c', 3))     # Output: 3\n"
   ]
  },
  {
   "cell_type": "code",
   "execution_count": 7,
   "id": "34a6a74a",
   "metadata": {},
   "outputs": [
    {
     "name": "stdout",
     "output_type": "stream",
     "text": [
      "13\n"
     ]
    }
   ],
   "source": [
    "class fruits:\n",
    "    def __init__(self,price):\n",
    "        self.price=price\n",
    "obj=fruits(50)\n",
    "obj.quantity=10\n",
    "obj.bags=2\n",
    "print(obj.quantity+len(obj.__dict__))\n"
   ]
  },
  {
   "cell_type": "code",
   "execution_count": null,
   "id": "06970ee0",
   "metadata": {},
   "outputs": [],
   "source": []
  },
  {
   "cell_type": "code",
   "execution_count": null,
   "id": "508cb482",
   "metadata": {},
   "outputs": [],
   "source": []
  }
 ],
 "metadata": {
  "kernelspec": {
   "display_name": "Python 3 (ipykernel)",
   "language": "python",
   "name": "python3"
  },
  "language_info": {
   "codemirror_mode": {
    "name": "ipython",
    "version": 3
   },
   "file_extension": ".py",
   "mimetype": "text/x-python",
   "name": "python",
   "nbconvert_exporter": "python",
   "pygments_lexer": "ipython3",
   "version": "3.11.4"
  }
 },
 "nbformat": 4,
 "nbformat_minor": 5
}
