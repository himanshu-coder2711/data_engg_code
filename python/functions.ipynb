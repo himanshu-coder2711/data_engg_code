{
 "cells": [
  {
   "cell_type": "code",
   "execution_count": 1,
   "id": "b19a2d06",
   "metadata": {},
   "outputs": [],
   "source": [
    "#Functions\n",
    "#group of statement that performs a specific task ,\n",
    "#collections of grouped statement perform an operations\n",
    "#returns the result\n",
    "\n",
    "#declaration--> \n",
    "#def->marking to the start of function\n",
    "#function name\n",
    "#parameter/argument\n",
    "#colon : (end of function)\n",
    "#docstring:- short description of function (optional)\n",
    "#logic/ statement( write in function body)\n",
    "#return (optional)\n",
    "#print"
   ]
  },
  {
   "cell_type": "code",
   "execution_count": 2,
   "id": "056c861c",
   "metadata": {},
   "outputs": [],
   "source": [
    "def mul(x,y):\n",
    "    '''it perform multiplication on 2 variables'''\n",
    "    print(\"the first value is : \",x)\n",
    "    print(\"the second value is : \",y)\n",
    "    z=x*y\n",
    "    print (\"the multiplication is : \",z)\n",
    "    return z\n"
   ]
  },
  {
   "cell_type": "code",
   "execution_count": 7,
   "id": "08058cf9",
   "metadata": {},
   "outputs": [
    {
     "name": "stdout",
     "output_type": "stream",
     "text": [
      "<function maximum at 0x112fe62a0>\n"
     ]
    }
   ],
   "source": [
    "def maximum(x,y,z):\n",
    "    return max(x,y,z)\n",
    "    x=int(input(\"the first value is :\"))\n",
    "    y=int(input(\"the first value is :\"))\n",
    "    z=int(input(\"the first value is :\"))\n",
    "      \n",
    "print(maximum)"
   ]
  },
  {
   "cell_type": "code",
   "execution_count": 10,
   "id": "17bedf2d",
   "metadata": {},
   "outputs": [
    {
     "name": "stdout",
     "output_type": "stream",
     "text": [
      "The max number is: 9\n"
     ]
    }
   ],
   "source": [
    "c"
   ]
  },
  {
   "cell_type": "code",
   "execution_count": 15,
   "id": "a90e0312",
   "metadata": {},
   "outputs": [
    {
     "name": "stdout",
     "output_type": "stream",
     "text": [
      "3 7\n"
     ]
    }
   ],
   "source": [
    "def swap_a(a,b):\n",
    "    c=a\n",
    "    a=b\n",
    "    b=c\n",
    "    return b,a\n",
    "    a=int(input(\"the first value is :\"))\n",
    "    b=int(input(\"the first value is :\"))\n",
    "    a,b=swap_t(a,b)\n",
    "      \n",
    "print(a,b)"
   ]
  },
  {
   "cell_type": "code",
   "execution_count": 16,
   "id": "a1407d5c",
   "metadata": {},
   "outputs": [
    {
     "name": "stdout",
     "output_type": "stream",
     "text": [
      "3 7\n"
     ]
    }
   ],
   "source": [
    "def swap(a,b):\n",
    "    return b,a\n",
    "    a=int(input(\"the first value is :\"))\n",
    "    b=int(input(\"the first value is :\"))\n",
    "    a,b=swap(a,b)\n",
    "      \n",
    "print(a,b)"
   ]
  },
  {
   "cell_type": "code",
   "execution_count": 17,
   "id": "ad2f72b2",
   "metadata": {},
   "outputs": [
    {
     "name": "stdout",
     "output_type": "stream",
     "text": [
      "Enter the length of the cuboid: 7\n",
      "Enter the breadth of the cuboid: 2\n",
      "Enter the height of the cuboid: 3\n",
      "The volume of the cuboid is: 42.0\n"
     ]
    }
   ],
   "source": [
    "def volume_cuboid(length, breadth, height):\n",
    "    return length * breadth * height\n",
    "\n",
    "length = float(input(\"Enter the length of the cuboid: \"))\n",
    "breadth = float(input(\"Enter the breadth of the cuboid: \"))\n",
    "height = float(input(\"Enter the height of the cuboid: \"))\n",
    "\n",
    "volume = volume_cuboid(length, breadth, height)\n",
    "\n",
    "print(\"The volume of the cuboid is:\", volume)"
   ]
  },
  {
   "cell_type": "code",
   "execution_count": 20,
   "id": "82cb74b0",
   "metadata": {},
   "outputs": [
    {
     "name": "stdout",
     "output_type": "stream",
     "text": [
      "Enter the length of the cuboid: 7.6\n",
      "Enter the breadth of the cuboid: 6.4\n",
      "The volume of the cuboid is: 608.0\n"
     ]
    }
   ],
   "source": [
    "#with fixed height\n",
    "def volume_cuboid(length, breadth, height):\n",
    "    return length * breadth * height\n",
    "\n",
    "length =float(input(\"Enter the length of the cuboid: \"))\n",
    "breadth = float(input(\"Enter the breadth of the cuboid: \"))\n",
    "height = 12.5\n",
    "\n",
    "volume = volume_cuboid(length, breadth, height)\n",
    "\n",
    "print(\"The volume of the cuboid is:\", volume)"
   ]
  },
  {
   "cell_type": "code",
   "execution_count": 22,
   "id": "ce4db43b",
   "metadata": {},
   "outputs": [
    {
     "name": "stdout",
     "output_type": "stream",
     "text": [
      "The min is: 1.5\n"
     ]
    }
   ],
   "source": [
    "def min1(numbers):\n",
    "    min_value = numbers[0]\n",
    "    for i in numbers:\n",
    "        if i < min_value:\n",
    "            min_value = i\n",
    "    return min_value\n",
    "l1 = [1.5, 6, 7, 8.9,5.4,3.2]\n",
    "minimum = min1(l1)\n",
    "\n",
    "print(\"The min is:\", minimum)"
   ]
  },
  {
   "cell_type": "code",
   "execution_count": 28,
   "id": "b1c98e7d",
   "metadata": {},
   "outputs": [
    {
     "name": "stdout",
     "output_type": "stream",
     "text": [
      "Enter name: him\n",
      "Enter age: 48\n",
      "Enter salary356786\n",
      "{'name': 'him', 'age': 48, 'salary': 356786.0}\n"
     ]
    }
   ],
   "source": [
    "def dict1(name,age,salary):\n",
    "    dict2={\"name\":name,\"age\":age,\"salary\":salary}\n",
    "    return dict2\n",
    "name = input(\"Enter name: \")\n",
    "age = int(input(\"Enter age: \"))\n",
    "salary = float(input(\"Enter salary\"))\n",
    "\n",
    "print(dict1(name,age,salary))"
   ]
  },
  {
   "cell_type": "code",
   "execution_count": 5,
   "id": "bd6f0918",
   "metadata": {},
   "outputs": [],
   "source": [
    "def grade(score:int):\n",
    "    if score<0 or score>100:\n",
    "        print(\"invalid score\")\n",
    "    if score >=60:\n",
    "        print(\"grade is D\")\n",
    "    elif score>=70:\n",
    "        print(\"grade is c\")\n",
    "    elif score>=80:\n",
    "        print(\"grade is B\")\n",
    "    elif score>=90:\n",
    "        print(\"Grade is A\")\n",
    "    else:\n",
    "        print(\"grade is f\")\n",
    "    grade(112)\n"
   ]
  },
  {
   "cell_type": "code",
   "execution_count": 9,
   "id": "e24abe2a",
   "metadata": {},
   "outputs": [
    {
     "name": "stdout",
     "output_type": "stream",
     "text": [
      "Enter the number: 5\n",
      "0\n",
      "1\n",
      "1\n",
      "2\n",
      "3\n",
      "\n"
     ]
    }
   ],
   "source": [
    "def fibonacci(n):\n",
    "    a, b = 0, 1\n",
    "    for i in range(n):\n",
    "        print(a)\n",
    "        a, b = b, a + b\n",
    "    print()\n",
    "number = int(input(\"Enter the number: \"))\n",
    "fibonacci(number)"
   ]
  },
  {
   "cell_type": "code",
   "execution_count": 11,
   "id": "0dc0256a",
   "metadata": {},
   "outputs": [],
   "source": [
    "def fib(n):\n",
    "    first=0\n",
    "    second=1\n",
    "    if n==1:\n",
    "        print(first)\n",
    "    for i in range(1,n):\n",
    "        if i==1:\n",
    "            print(first,second,end=\" \")\n",
    "        else:\n",
    "            temp=first+second\n",
    "            print(temp,end=\" \")\n",
    "            first=second\n",
    "            second=temp"
   ]
  },
  {
   "cell_type": "code",
   "execution_count": 12,
   "id": "c210fca7",
   "metadata": {},
   "outputs": [
    {
     "name": "stdout",
     "output_type": "stream",
     "text": [
      "0 1 1 2 "
     ]
    }
   ],
   "source": [
    "fib(4)"
   ]
  },
  {
   "cell_type": "code",
   "execution_count": 15,
   "id": "c96fa775",
   "metadata": {},
   "outputs": [],
   "source": [
    "def fib(n):\n",
    "    if n<=1:\n",
    "        return n\n",
    "    else:\n",
    "        return fib(n-1)+fib(n-2)\n",
    "    for i in range(10):\n",
    "        print(fib(n),end=\" \")"
   ]
  },
  {
   "cell_type": "code",
   "execution_count": 17,
   "id": "26ef6768",
   "metadata": {},
   "outputs": [
    {
     "name": "stdout",
     "output_type": "stream",
     "text": [
      "the largest number of  5 and 2 is 5\n"
     ]
    }
   ],
   "source": [
    "def maximum(n1,n2):\n",
    "    if n1>n2:\n",
    "        res=n1\n",
    "    else:\n",
    "        res=n2\n",
    "def main():\n",
    "    i=5\n",
    "    j=2\n",
    "    k=max(i,j)\n",
    "    print(\"the largest number of \",i, \"and\",j,\"is\",k)\n",
    "main()"
   ]
  },
  {
   "cell_type": "code",
   "execution_count": 18,
   "id": "5331a3ce",
   "metadata": {},
   "outputs": [
    {
     "name": "stdout",
     "output_type": "stream",
     "text": [
      "hello everyone\n",
      "hello everyone\n",
      "hello everyone\n",
      "hello everyone\n",
      "hello everyone\n"
     ]
    }
   ],
   "source": [
    "#user gives a message (\"hello everyone\",n), it should print n times\n",
    "def nprintln(message,n):\n",
    "    for i in range(n):\n",
    "        print(message)\n",
    "nprintln(\"hello everyone\",5)"
   ]
  },
  {
   "cell_type": "code",
   "execution_count": 20,
   "id": "50efe37a",
   "metadata": {},
   "outputs": [
    {
     "name": "stdout",
     "output_type": "stream",
     "text": [
      "hello everyone\n",
      "hello everyone\n",
      "hello everyone\n",
      "hello everyone\n",
      "hello everyone\n"
     ]
    }
   ],
   "source": [
    "nprintln(n=5,message=\"hello everyone\")"
   ]
  },
  {
   "cell_type": "code",
   "execution_count": 21,
   "id": "475cb126",
   "metadata": {},
   "outputs": [
    {
     "name": "stdout",
     "output_type": "stream",
     "text": [
      "hello everyone\n",
      "hello everyone\n",
      "hello everyone\n",
      "hello everyone\n",
      "hello everyone\n"
     ]
    }
   ],
   "source": [
    "nprintln(message=\"hello everyone\",n=5)"
   ]
  },
  {
   "cell_type": "code",
   "execution_count": null,
   "id": "0e556198",
   "metadata": {},
   "outputs": [],
   "source": []
  }
 ],
 "metadata": {
  "kernelspec": {
   "display_name": "Python 3 (ipykernel)",
   "language": "python",
   "name": "python3"
  },
  "language_info": {
   "codemirror_mode": {
    "name": "ipython",
    "version": 3
   },
   "file_extension": ".py",
   "mimetype": "text/x-python",
   "name": "python",
   "nbconvert_exporter": "python",
   "pygments_lexer": "ipython3",
   "version": "3.11.4"
  }
 },
 "nbformat": 4,
 "nbformat_minor": 5
}
