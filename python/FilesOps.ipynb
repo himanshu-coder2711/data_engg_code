{
 "cells": [
  {
   "cell_type": "code",
   "execution_count": 1,
   "id": "8ecae8b7",
   "metadata": {},
   "outputs": [],
   "source": [
    "f=open('text.txt','w')\n",
    "f.close()"
   ]
  },
  {
   "cell_type": "code",
   "execution_count": 2,
   "id": "782499a2",
   "metadata": {},
   "outputs": [
    {
     "name": "stdout",
     "output_type": "stream",
     "text": [
      "FileName text.txt\n"
     ]
    }
   ],
   "source": [
    "print('FileName',f.name)"
   ]
  },
  {
   "cell_type": "code",
   "execution_count": 3,
   "id": "f9dfcf6d",
   "metadata": {},
   "outputs": [
    {
     "data": {
      "text/plain": [
       "'w'"
      ]
     },
     "execution_count": 3,
     "metadata": {},
     "output_type": "execute_result"
    }
   ],
   "source": [
    "f.mode"
   ]
  },
  {
   "cell_type": "code",
   "execution_count": 4,
   "id": "a0fc10d5",
   "metadata": {},
   "outputs": [
    {
     "data": {
      "text/plain": [
       "False"
      ]
     },
     "execution_count": 4,
     "metadata": {},
     "output_type": "execute_result"
    }
   ],
   "source": [
    "f.readable()"
   ]
  },
  {
   "cell_type": "code",
   "execution_count": 5,
   "id": "f547accd",
   "metadata": {},
   "outputs": [
    {
     "ename": "ValueError",
     "evalue": "I/O operation on closed file",
     "output_type": "error",
     "traceback": [
      "\u001b[0;31m---------------------------------------------------------------------------\u001b[0m",
      "\u001b[0;31mValueError\u001b[0m                                Traceback (most recent call last)",
      "Cell \u001b[0;32mIn[5], line 1\u001b[0m\n\u001b[0;32m----> 1\u001b[0m f\u001b[38;5;241m.\u001b[39mwritable()\n",
      "\u001b[0;31mValueError\u001b[0m: I/O operation on closed file"
     ]
    }
   ],
   "source": [
    "f.writable()"
   ]
  },
  {
   "cell_type": "code",
   "execution_count": 6,
   "id": "cb097a69",
   "metadata": {},
   "outputs": [],
   "source": [
    "f=open('Election.txt','w')\n",
    "f.write('MP Election')\n",
    "f.write('MLA Election')\n",
    "f.write('Local Election')\n",
    "f.write('non local election')\n",
    "f.write('General Election')\n",
    "f.close()"
   ]
  },
  {
   "cell_type": "code",
   "execution_count": 7,
   "id": "9f4a964f",
   "metadata": {},
   "outputs": [],
   "source": [
    "f=open('Election1.txt\\n','w')\n",
    "f.write('MP Election\\n')\n",
    "f.write('MLA Election\\n')\n",
    "f.write('Local Election\\n')\n",
    "f.write('non local election\\n')\n",
    "f.write('General Election\\n')\n",
    "f.close()"
   ]
  },
  {
   "cell_type": "raw",
   "id": "712e9791",
   "metadata": {},
   "source": [
    "list1=[8,12,19,75,64,12,19]\n",
    "a=open('evennumber.txt','w')\n",
    "for i in list1:\n",
    "      if i%2==0:\n",
    "        f.write(i)\n",
    "f.close()"
   ]
  },
  {
   "cell_type": "code",
   "execution_count": 12,
   "id": "06dab9d7",
   "metadata": {},
   "outputs": [],
   "source": [
    "list1=[8,12,19,75,64,12,19]\n",
    "a=open('evennumber.txt','a')\n",
    "for i in list1:\n",
    "      if i%2==0:\n",
    "        a.write(str(i)+\"\\n\")\n",
    "a.close()"
   ]
  },
  {
   "cell_type": "code",
   "execution_count": 15,
   "id": "8a84d624",
   "metadata": {},
   "outputs": [],
   "source": [
    "#file appending/writing\n",
    "try:\n",
    "    #open the file\n",
    "    f=open('File1.txt','w')\n",
    "    f.write('MS Dhoni')\n",
    "    f.write('\\n rohit')\n",
    "    f.write('\\n hardik')\n",
    "    f.write('\\n virat')\n",
    "finally:\n",
    "    #close the file\n",
    "    f.close()\n",
    "    "
   ]
  },
  {
   "cell_type": "code",
   "execution_count": 17,
   "id": "3593d6ce",
   "metadata": {},
   "outputs": [
    {
     "name": "stdout",
     "output_type": "stream",
     "text": [
      "MS Dhoni\n",
      " rohit\n",
      " har\n"
     ]
    }
   ],
   "source": [
    "f=open('File1.txt','r')\n",
    "data=f.read(20)\n",
    "f.close()\n",
    "print(data)"
   ]
  },
  {
   "cell_type": "code",
   "execution_count": 19,
   "id": "75b8c6ea",
   "metadata": {},
   "outputs": [
    {
     "name": "stdout",
     "output_type": "stream",
     "text": [
      "MS Dhoni\n",
      " \n",
      "rohit\n",
      " har\n"
     ]
    }
   ],
   "source": [
    "f=open('File1.txt','r')\n",
    "data1=f.read(10)\n",
    "data2=f.read(10)\n",
    "f.close()\n",
    "print(data1)\n",
    "print(data2)"
   ]
  },
  {
   "cell_type": "code",
   "execution_count": 20,
   "id": "885cf4cc",
   "metadata": {},
   "outputs": [
    {
     "name": "stdout",
     "output_type": "stream",
     "text": [
      "MS Dhoni\n",
      " \n",
      "rohit\n",
      " har\n",
      "dik\n",
      " virat\n"
     ]
    }
   ],
   "source": [
    "f=open('File1.txt','r')\n",
    "data1=f.read(10)\n",
    "data2=f.read(10)\n",
    "data3=f.read(10)\n",
    "f.close()\n",
    "print(data1)\n",
    "print(data2)\n",
    "print(data3)"
   ]
  },
  {
   "cell_type": "code",
   "execution_count": 21,
   "id": "51301426",
   "metadata": {},
   "outputs": [
    {
     "name": "stdout",
     "output_type": "stream",
     "text": [
      "MS Dhoni\n",
      "\n",
      " rohit\n",
      "\n"
     ]
    }
   ],
   "source": [
    "f=open('file1.txt','r')\n",
    "data1=f.readline()\n",
    "data2=f.readline()\n",
    "\n",
    "f.close()\n",
    "print(data1)\n",
    "print(data2)"
   ]
  },
  {
   "cell_type": "code",
   "execution_count": 24,
   "id": "7ad9dd2b",
   "metadata": {},
   "outputs": [],
   "source": [
    "student={'John':80,'Nick':70,'Ronak':45,'Vinn':40,'Jonny':25,'Vincent':35}\n",
    "f1=open('passgrade.txt','w')\n",
    "f2=open('failgrade.txt','w')\n",
    "for name,percentage in student.items():\n",
    "    if percentage>80:\n",
    "        f1.write(name+' A'+'\\n')\n",
    "    elif percentage>70:\n",
    "        f1.write(name+' B'+'\\n')\n",
    "    elif percentage>60:\n",
    "        f1.write(name+' C'+'\\n')\n",
    "    elif percentage>50:\n",
    "        f1.write(name+' D'+'\\n')\n",
    "    elif percentage>40:\n",
    "        f1.write(name+' E'+'\\n')\n",
    "    else:\n",
    "        f2.write(name+' F'+'\\n')\n",
    "f1.close()\n",
    "f2.close()"
   ]
  },
  {
   "cell_type": "code",
   "execution_count": 25,
   "id": "6d66c322",
   "metadata": {},
   "outputs": [],
   "source": [
    "#appending the file\n",
    "f=open('File1.txt','a')\n",
    "f.write('\\n Sachin')\n",
    "f.write('\\n kumble')\n",
    "f.write('\\n ponting')\n",
    "f.close()"
   ]
  },
  {
   "cell_type": "code",
   "execution_count": 26,
   "id": "ee78d199",
   "metadata": {},
   "outputs": [
    {
     "name": "stdout",
     "output_type": "stream",
     "text": [
      "MS Dhoni\n",
      " rohit\n",
      " hardik\n",
      " virat\n",
      " Sachin\n",
      " kumble\n",
      " ponting\n"
     ]
    }
   ],
   "source": [
    "f=open('File1.txt','r')\n",
    "print(f.read())\n",
    "f.close()"
   ]
  },
  {
   "cell_type": "code",
   "execution_count": 1,
   "id": "dd45a4cf",
   "metadata": {},
   "outputs": [
    {
     "ename": "NameError",
     "evalue": "name 'a' is not defined",
     "output_type": "error",
     "traceback": [
      "\u001b[0;31m---------------------------------------------------------------------------\u001b[0m",
      "\u001b[0;31mNameError\u001b[0m                                 Traceback (most recent call last)",
      "Cell \u001b[0;32mIn[1], line 2\u001b[0m\n\u001b[1;32m      1\u001b[0m \u001b[38;5;66;03m#exception Handling\u001b[39;00m\n\u001b[0;32m----> 2\u001b[0m \u001b[38;5;28;01mif\u001b[39;00m a\u001b[38;5;241m<\u001b[39m\u001b[38;5;241m3\u001b[39m:\n\u001b[1;32m      3\u001b[0m     \u001b[38;5;28;01mpass\u001b[39;00m\n",
      "\u001b[0;31mNameError\u001b[0m: name 'a' is not defined"
     ]
    }
   ],
   "source": [
    "#exception Handling\n",
    "if a<3:\n",
    "    pass"
   ]
  },
  {
   "cell_type": "code",
   "execution_count": 2,
   "id": "5fd74ebf",
   "metadata": {},
   "outputs": [],
   "source": [
    "a=-3\n",
    "if a<3:\n",
    "    pass"
   ]
  },
  {
   "cell_type": "code",
   "execution_count": 5,
   "id": "7dafdd16",
   "metadata": {},
   "outputs": [
    {
     "ename": "SyntaxError",
     "evalue": "expected ':' (783623915.py, line 2)",
     "output_type": "error",
     "traceback": [
      "\u001b[0;36m  Cell \u001b[0;32mIn[5], line 2\u001b[0;36m\u001b[0m\n\u001b[0;31m    if a>3\u001b[0m\n\u001b[0m          ^\u001b[0m\n\u001b[0;31mSyntaxError\u001b[0m\u001b[0;31m:\u001b[0m expected ':'\n"
     ]
    }
   ],
   "source": [
    "a=5\n",
    "if a>3\n",
    "    print(\"A is greater than 3\")"
   ]
  },
  {
   "cell_type": "code",
   "execution_count": 6,
   "id": "c05b1f2b",
   "metadata": {},
   "outputs": [
    {
     "ename": "ZeroDivisionError",
     "evalue": "division by zero",
     "output_type": "error",
     "traceback": [
      "\u001b[0;31m---------------------------------------------------------------------------\u001b[0m",
      "\u001b[0;31mZeroDivisionError\u001b[0m                         Traceback (most recent call last)",
      "Cell \u001b[0;32mIn[6], line 3\u001b[0m\n\u001b[1;32m      1\u001b[0m a\u001b[38;5;241m=\u001b[39m\u001b[38;5;241m5\u001b[39m\n\u001b[1;32m      2\u001b[0m \u001b[38;5;28;01mif\u001b[39;00m a\u001b[38;5;241m>\u001b[39m\u001b[38;5;241m3\u001b[39m:\n\u001b[0;32m----> 3\u001b[0m     num\u001b[38;5;241m=\u001b[39ma\u001b[38;5;241m/\u001b[39m\u001b[38;5;241m0\u001b[39m\n\u001b[1;32m      4\u001b[0m     \u001b[38;5;28mprint\u001b[39m(num)\n",
      "\u001b[0;31mZeroDivisionError\u001b[0m: division by zero"
     ]
    }
   ],
   "source": [
    "a=5\n",
    "if a>3:\n",
    "    num=a/0\n",
    "    print(num)"
   ]
  },
  {
   "cell_type": "code",
   "execution_count": 8,
   "id": "ed1dd4e9",
   "metadata": {},
   "outputs": [
    {
     "name": "stdout",
     "output_type": "stream",
     "text": [
      "enter the numbr a 5\n",
      "enter the numbr b 0\n"
     ]
    },
    {
     "ename": "ZeroDivisionError",
     "evalue": "division by zero",
     "output_type": "error",
     "traceback": [
      "\u001b[0;31m---------------------------------------------------------------------------\u001b[0m",
      "\u001b[0;31mZeroDivisionError\u001b[0m                         Traceback (most recent call last)",
      "Cell \u001b[0;32mIn[8], line 3\u001b[0m\n\u001b[1;32m      1\u001b[0m a\u001b[38;5;241m=\u001b[39m\u001b[38;5;28mint\u001b[39m(\u001b[38;5;28minput\u001b[39m(\u001b[38;5;124m\"\u001b[39m\u001b[38;5;124menter the numbr a \u001b[39m\u001b[38;5;124m\"\u001b[39m))\n\u001b[1;32m      2\u001b[0m b\u001b[38;5;241m=\u001b[39m\u001b[38;5;28mint\u001b[39m(\u001b[38;5;28minput\u001b[39m(\u001b[38;5;124m\"\u001b[39m\u001b[38;5;124menter the numbr b \u001b[39m\u001b[38;5;124m\"\u001b[39m))\n\u001b[0;32m----> 3\u001b[0m c\u001b[38;5;241m=\u001b[39ma\u001b[38;5;241m/\u001b[39mb\n\u001b[1;32m      4\u001b[0m \u001b[38;5;28mprint\u001b[39m(c)\n\u001b[1;32m      6\u001b[0m \u001b[38;5;28mprint\u001b[39m(\u001b[38;5;124m\"\u001b[39m\u001b[38;5;124mhello everyone\u001b[39m\u001b[38;5;124m\"\u001b[39m)\n",
      "\u001b[0;31mZeroDivisionError\u001b[0m: division by zero"
     ]
    }
   ],
   "source": [
    "a=int(input(\"enter the numbr a \"))\n",
    "b=int(input(\"enter the numbr b \"))\n",
    "c=a/b\n",
    "print(c)\n",
    "\n",
    "print(\"hello everyone\")\n",
    "print(\"the code ends here\")"
   ]
  },
  {
   "cell_type": "code",
   "execution_count": 9,
   "id": "ad35b31c",
   "metadata": {},
   "outputs": [
    {
     "name": "stdout",
     "output_type": "stream",
     "text": [
      "enter the numbr a 6\n",
      "enter the numbr b 0\n",
      "Oop's!! you have entered zero. no division can be performed\n"
     ]
    }
   ],
   "source": [
    "a=int(input(\"enter the numbr a \"))\n",
    "b=int(input(\"enter the numbr b \"))\n",
    "try:\n",
    "    c=a/b\n",
    "    print(c)\n",
    "except ZeroDivisionError:\n",
    "    print(\"Oop's!! you have entered zero. no division can be performed\")\n"
   ]
  },
  {
   "cell_type": "code",
   "execution_count": 10,
   "id": "ef265a21",
   "metadata": {},
   "outputs": [
    {
     "name": "stdout",
     "output_type": "stream",
     "text": [
      "enter the numbr a 6\n",
      "enter the numbr b 3\n",
      "2.0\n",
      "code runs corretly\n"
     ]
    }
   ],
   "source": [
    "a=int(input(\"enter the numbr a \"))\n",
    "b=int(input(\"enter the numbr b \"))\n",
    "try:\n",
    "    c=a/b\n",
    "    print(c)\n",
    "except ZeroDivisionError:\n",
    "    print(\"Oop's!! you have entered zero. no division can be performed\")\n",
    "print(\"code runs corretly\")"
   ]
  },
  {
   "cell_type": "code",
   "execution_count": 11,
   "id": "04c723b8",
   "metadata": {},
   "outputs": [
    {
     "name": "stdout",
     "output_type": "stream",
     "text": [
      "enter the numbr a 7\n",
      "enter the numbr b 2\n",
      "in the try block\n",
      "3.5\n",
      "code runs corretly\n"
     ]
    }
   ],
   "source": [
    "a=int(input(\"enter the numbr a \"))\n",
    "b=int(input(\"enter the numbr b \"))\n",
    "try:\n",
    "    print(\"in the try block\")\n",
    "    c=a/b\n",
    "    print(c)\n",
    "except ZeroDivisionError:\n",
    "    print(\"Oop's!! you have entered zero. no division can be performed\")\n",
    "print(\"code runs corretly\")"
   ]
  },
  {
   "cell_type": "code",
   "execution_count": 12,
   "id": "825205f4",
   "metadata": {},
   "outputs": [
    {
     "name": "stdout",
     "output_type": "stream",
     "text": [
      "OOP's!!  Denominator got 0\n"
     ]
    }
   ],
   "source": [
    "def InPrint(var):\n",
    "    if var<4:\n",
    "        var2=var/(var-3)\n",
    "    print(\"The var2 is = \",var2)\n",
    "    \n",
    "try:\n",
    "    InPrint(3)\n",
    "    InPrint(4)\n",
    "\n",
    "except ZeroDivisionError:\n",
    "    print(\"OOP's!!  Denominator got 0\")\n",
    "except NameError:\n",
    "    print(\"Name Error Occured\")"
   ]
  },
  {
   "cell_type": "code",
   "execution_count": 13,
   "id": "61ea239b",
   "metadata": {},
   "outputs": [],
   "source": [
    "def InPrint(x,y):\n",
    "    try:\n",
    "        p=((x+y)/(x-y))\n",
    "    except ZeroDivisionError:\n",
    "        print(\"Denominator is 0\")\n",
    "    else:\n",
    "        print(\"The value of p is \",p)"
   ]
  },
  {
   "cell_type": "code",
   "execution_count": 14,
   "id": "7eeb76e0",
   "metadata": {},
   "outputs": [],
   "source": [
    "def InPrint(x,y):\n",
    "    try:\n",
    "        p=((x+y)/(x-y))\n",
    "    except ZeroDivisionError:\n",
    "        print(\"Denominator is 0\")\n",
    "    else:\n",
    "        print(\"The value of p is \",p)\n",
    "    finally:\n",
    "        print(\"The last statement in the InPrint which always Executes\")"
   ]
  },
  {
   "cell_type": "code",
   "execution_count": 16,
   "id": "5838d233",
   "metadata": {},
   "outputs": [
    {
     "name": "stdout",
     "output_type": "stream",
     "text": [
      "The value of p is  -5.0\n",
      "The last statement in the InPrint which always Executes\n"
     ]
    }
   ],
   "source": [
    "InPrint(2,3)"
   ]
  },
  {
   "cell_type": "code",
   "execution_count": 17,
   "id": "16043ae4",
   "metadata": {},
   "outputs": [
    {
     "name": "stdout",
     "output_type": "stream",
     "text": [
      "enter the numbr a 89\n",
      "enter the numbr b 89\n"
     ]
    }
   ],
   "source": [
    "#Raise Exception\n",
    "a=int(input(\"enter the numbr a \"))\n",
    "b=int(input(\"enter the numbr b \"))\n",
    "try:\n",
    "    if b==0:\n",
    "        raise ValueError(\"you gave zero!!!\")\n",
    "except ValueError as ve:\n",
    "    print(ve)"
   ]
  },
  {
   "cell_type": "code",
   "execution_count": 18,
   "id": "8f9c0ef8",
   "metadata": {},
   "outputs": [
    {
     "name": "stdout",
     "output_type": "stream",
     "text": [
      "enter the numbr a 9\n",
      "enter the numbr b 0\n",
      "you gave zero!!!\n"
     ]
    }
   ],
   "source": [
    "a=int(input(\"enter the numbr a \"))\n",
    "b=int(input(\"enter the numbr b \"))\n",
    "try:\n",
    "    if b==0:\n",
    "        raise ValueError(\"you gave zero!!!\")\n",
    "except ValueError as ve:\n",
    "    print(ve)"
   ]
  },
  {
   "cell_type": "code",
   "execution_count": 20,
   "id": "b8325b57",
   "metadata": {},
   "outputs": [
    {
     "name": "stdout",
     "output_type": "stream",
     "text": [
      "the entry is a\n",
      "Ooops! <class 'ValueError'> occured\n",
      "next entry\n",
      "\n",
      "the entry is 0\n",
      "Ooops! <class 'ZeroDivisionError'> occured\n",
      "next entry\n",
      "\n",
      "the entry is 1.3\n",
      "Ooops! <class 'ValueError'> occured\n",
      "next entry\n",
      "\n",
      "the entry is 2\n",
      "the rsiprocal of 2 is 0.5\n"
     ]
    }
   ],
   "source": [
    "import sys\n",
    "data=['a',0,'1.3',2,5]\n",
    "for entry in data:\n",
    "    try:\n",
    "        print(\"the entry is\",entry)\n",
    "        r=1/int(entry)\n",
    "        break\n",
    "    except:\n",
    "        print(\"Ooops!\",sys.exc_info()[0],\"occured\")\n",
    "        print(\"next entry\")\n",
    "        print()\n",
    "print(\"the rsiprocal of\",entry,\"is\",r)\n",
    "        "
   ]
  },
  {
   "cell_type": "code",
   "execution_count": 1,
   "id": "932b3710",
   "metadata": {},
   "outputs": [],
   "source": [
    "dict1={'john':30,'pick':32,'nick':40,'jenny':28,'peter':22,'minny':32}\n",
    "dict2={'john':'50k','pick':'40k','nick':40000,'jenny':50000,'peter':25000,'minny':'90k'}\n"
   ]
  },
  {
   "cell_type": "code",
   "execution_count": 2,
   "id": "4dbfafad",
   "metadata": {},
   "outputs": [
    {
     "data": {
      "text/plain": [
       "list"
      ]
     },
     "execution_count": 2,
     "metadata": {},
     "output_type": "execute_result"
    }
   ],
   "source": [
    "t=([1,2,3])\n",
    "type(t)"
   ]
  },
  {
   "cell_type": "code",
   "execution_count": null,
   "id": "aeb6e002",
   "metadata": {},
   "outputs": [],
   "source": []
  }
 ],
 "metadata": {
  "kernelspec": {
   "display_name": "Python 3 (ipykernel)",
   "language": "python",
   "name": "python3"
  },
  "language_info": {
   "codemirror_mode": {
    "name": "ipython",
    "version": 3
   },
   "file_extension": ".py",
   "mimetype": "text/x-python",
   "name": "python",
   "nbconvert_exporter": "python",
   "pygments_lexer": "ipython3",
   "version": "3.11.4"
  }
 },
 "nbformat": 4,
 "nbformat_minor": 5
}
