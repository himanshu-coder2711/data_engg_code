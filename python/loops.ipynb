{
 "cells": [
  {
   "cell_type": "code",
   "execution_count": 1,
   "id": "a2b77ca1",
   "metadata": {},
   "outputs": [],
   "source": [
    "#print 11 to 20\n",
    "x=20\n",
    "y=10\n"
   ]
  },
  {
   "cell_type": "code",
   "execution_count": null,
   "id": "ee154d74",
   "metadata": {},
   "outputs": [],
   "source": [
    "#print 11 to 20\n",
    "x=20\n",
    "y=10\n",
    "while(x<y):\n",
    "    x+=1\n",
    "    print(y)"
   ]
  },
  {
   "cell_type": "code",
   "execution_count": null,
   "id": "3d94ddb0",
   "metadata": {},
   "outputs": [],
   "source": [
    "num=int(input(enter the number''''))"
   ]
  },
  {
   "cell_type": "code",
   "execution_count": 2,
   "id": "069502b1",
   "metadata": {},
   "outputs": [
    {
     "name": "stdout",
     "output_type": "stream",
     "text": [
      "Enter the number9\n",
      "2\n",
      "4\n",
      "6\n",
      "8\n",
      "sum of 9 Even Number is 20\n"
     ]
    }
   ],
   "source": [
    "#sum of first N even number\n",
    "num=int(input('Enter the number'))\n",
    "sum1=0\n",
    "i=1\n",
    "while i<=num:\n",
    "    if i%2==0:\n",
    "        print(i)\n",
    "        sum1=sum1+i\n",
    "    i=i+1\n",
    "print('sum of',num,'Even Number is',sum1)"
   ]
  },
  {
   "cell_type": "code",
   "execution_count": 3,
   "id": "d95ece51",
   "metadata": {},
   "outputs": [
    {
     "name": "stdout",
     "output_type": "stream",
     "text": [
      "sum is 1\n"
     ]
    }
   ],
   "source": [
    "\n",
    "n=10\n",
    "sum1=0\n",
    "while n>0:\n",
    "    digit=n%10\n",
    "    sum1+=digit\n",
    "    n=n//10\n",
    "print('sum is',sum1)"
   ]
  },
  {
   "cell_type": "code",
   "execution_count": 19,
   "id": "340a6f0f",
   "metadata": {},
   "outputs": [
    {
     "name": "stdout",
     "output_type": "stream",
     "text": [
      "digit is... 7\n",
      "intermediate sum is .... 7\n",
      "the number is... 256\n",
      "digit is... 6\n",
      "intermediate sum is .... 6\n",
      "the number is... 25\n",
      "digit is... 5\n",
      "intermediate sum is .... 5\n",
      "the number is... 2\n",
      "digit is... 2\n",
      "intermediate sum is .... 2\n",
      "the number is... 0\n",
      "the sum of digit in a number is: 20\n"
     ]
    }
   ],
   "source": [
    "#sum of digits in a number\n",
    "num=2567\n",
    "sum1=0\n",
    "while num!=0:\n",
    "    digit=num%10\n",
    "    print('digit is...',digit)\n",
    "    sum1=sum1+digit\n",
    "    print('intermediate sum is ....',digit)\n",
    "    num=num//10\n",
    "    print('the number is...',num)\n",
    "print('the sum of digit in a number is:',sum1)"
   ]
  },
  {
   "cell_type": "code",
   "execution_count": 26,
   "id": "3762c1a9",
   "metadata": {},
   "outputs": [
    {
     "name": "stdout",
     "output_type": "stream",
     "text": [
      "digit is... 7\n",
      "intermediate prod is .... 7\n",
      "the number is... 256\n",
      "digit is... 6\n",
      "intermediate prod is .... 6\n",
      "the number is... 25\n",
      "digit is... 5\n",
      "intermediate prod is .... 5\n",
      "the number is... 2\n",
      "digit is... 2\n",
      "intermediate prod is .... 2\n",
      "the number is... 0\n",
      "the product of digit in a number is: 20\n"
     ]
    }
   ],
   "source": [
    "#productof digits in a number\n",
    "num=2567\n",
    "product1=1\n",
    "while num!=0:\n",
    "    digit=num%10\n",
    "    print('digit is...',digit)\n",
    "    product1= product1*digit\n",
    "    print('intermediate prod is ....',digit)\n",
    "    num=num//10\n",
    "    print('the number is...',num)\n",
    "print('the product of digit in a number is:',sum1)"
   ]
  },
  {
   "cell_type": "code",
   "execution_count": 25,
   "id": "34a658ab",
   "metadata": {},
   "outputs": [
    {
     "name": "stdout",
     "output_type": "stream",
     "text": [
      "product is 420\n"
     ]
    }
   ],
   "source": [
    "n=2567\n",
    "product11=1\n",
    "while n>0:\n",
    "    digit=n%10\n",
    "    product11*=digit\n",
    "    n=n//10\n",
    "print('product is',product1)"
   ]
  },
  {
   "cell_type": "code",
   "execution_count": null,
   "id": "9cdbcb1d",
   "metadata": {},
   "outputs": [],
   "source": [
    "num=3294\n",
    "rever=0\n",
    "while num!=0:\n",
    "    digit=num%10\n",
    "    print('digit is...',digit)\n",
    "    rever=rever*10+digit\n",
    "    print('intermediate sum is ....',digit)\n",
    "    num=num//10\n",
    "    print('the number is...',num)\n",
    "print('the reverse digit in a number is:',rever)"
   ]
  },
  {
   "cell_type": "code",
   "execution_count": 2,
   "id": "7dd2e520",
   "metadata": {},
   "outputs": [
    {
     "name": "stdout",
     "output_type": "stream",
     "text": [
      "Enter the number5\n",
      "fact intermediate is = 1\n",
      "i = 2\n",
      "\n",
      "\n",
      "==================================================\n",
      "fact intermediate is = 2\n",
      "i = 3\n",
      "\n",
      "\n",
      "==================================================\n",
      "fact intermediate is = 6\n",
      "i = 4\n",
      "\n",
      "\n",
      "==================================================\n",
      "fact intermediate is = 24\n",
      "i = 5\n",
      "\n",
      "\n",
      "==================================================\n",
      "fact intermediate is = 120\n",
      "i = 6\n",
      "\n",
      "\n",
      "==================================================\n",
      "Factorial is = 120\n"
     ]
    }
   ],
   "source": [
    "### factorial of number using while loop\n",
    "num = int(input('Enter the number'))\n",
    "fact = 1\n",
    "i =1\n",
    "while i<=num:\n",
    "    fact=fact*i\n",
    "    print('fact intermediate is =',fact)\n",
    "    i=i+1\n",
    "    print('i =',i)\n",
    "    print('\\n')\n",
    "    print('='*50)\n",
    "    \n",
    "print('Factorial is =',fact)"
   ]
  },
  {
   "cell_type": "markdown",
   "id": "a53cf424",
   "metadata": {},
   "source": [
    "##### "
   ]
  },
  {
   "cell_type": "markdown",
   "id": "706227e5",
   "metadata": {},
   "source": [
    "# n = int(input(\"Enter a number: \"))\n",
    "fact=1\n",
    "count=n\n",
    "while count>0:\n",
    "    fact=fact*count\n",
    "    count-=1\n",
    "    \n",
    "print('the factorial is :',fact)"
   ]
  },
  {
   "cell_type": "code",
   "execution_count": 1,
   "id": "ce12fedc",
   "metadata": {},
   "outputs": [
    {
     "data": {
      "text/plain": [
       "False"
      ]
     },
     "execution_count": 1,
     "metadata": {},
     "output_type": "execute_result"
    }
   ],
   "source": [
    "num=5\n",
    "(num>=5) and (num!=5)"
   ]
  },
  {
   "cell_type": "code",
   "execution_count": 2,
   "id": "be407627",
   "metadata": {},
   "outputs": [
    {
     "name": "stdout",
     "output_type": "stream",
     "text": [
      "True\n",
      "False\n",
      "True\n"
     ]
    }
   ],
   "source": [
    "s='Innomatics'\n",
    "res1=\"matic\" in s\n",
    "print(res1)\n",
    "res2=\"inno\" in s\n",
    "print(res2)\n",
    "print(res1 or res2)"
   ]
  },
  {
   "cell_type": "code",
   "execution_count": 3,
   "id": "d7597d32",
   "metadata": {},
   "outputs": [
    {
     "data": {
      "text/plain": [
       "6.0"
      ]
     },
     "execution_count": 3,
     "metadata": {},
     "output_type": "execute_result"
    }
   ],
   "source": [
    "4+5/5*2"
   ]
  },
  {
   "cell_type": "code",
   "execution_count": 4,
   "id": "9ffce2f8",
   "metadata": {},
   "outputs": [
    {
     "name": "stdout",
     "output_type": "stream",
     "text": [
      "False\n"
     ]
    }
   ],
   "source": [
    "li1=[10,20,30]\n",
    "li2=[10,20,30]\n",
    "print(li1 is li2)"
   ]
  },
  {
   "cell_type": "code",
   "execution_count": 5,
   "id": "15cc1af9",
   "metadata": {},
   "outputs": [
    {
     "data": {
      "text/plain": [
       "int"
      ]
     },
     "execution_count": 5,
     "metadata": {},
     "output_type": "execute_result"
    }
   ],
   "source": [
    "type(7//2)"
   ]
  },
  {
   "cell_type": "code",
   "execution_count": 6,
   "id": "52ce3951",
   "metadata": {},
   "outputs": [
    {
     "name": "stdout",
     "output_type": "stream",
     "text": [
      "7\n"
     ]
    }
   ],
   "source": [
    "x=5\n",
    "x+=4\n",
    "x-=2\n",
    "print(x)"
   ]
  },
  {
   "cell_type": "code",
   "execution_count": 8,
   "id": "e9fe7f44",
   "metadata": {},
   "outputs": [
    {
     "data": {
      "text/plain": [
       "int"
      ]
     },
     "execution_count": 8,
     "metadata": {},
     "output_type": "execute_result"
    }
   ],
   "source": [
    "type(10%5)"
   ]
  },
  {
   "cell_type": "code",
   "execution_count": 15,
   "id": "c63b1433",
   "metadata": {},
   "outputs": [
    {
     "name": "stdout",
     "output_type": "stream",
     "text": [
      "Enter a binary number: 1101111\n",
      "The conversion into decimal is is: 123\n"
     ]
    }
   ],
   "source": [
    "binary = input(\"Enter a binary number: \")\n",
    "decimal = 0\n",
    "n = int(binary)\n",
    "\n",
    "\n",
    "while n > 0:\n",
    "    # Extracting the last digit\n",
    "    last_digit = n % 10\n",
    "    # Shift the current value left by 1 bit and add to the last digit\n",
    "    decimal = (decimal << 1) | last_digit\n",
    "    # Remove the last digit from the binary number\n",
    "    n = n // 10\n",
    "\n",
    "print(\"The conversion into decimal is is:\", decimal)\n"
   ]
  },
  {
   "cell_type": "code",
   "execution_count": null,
   "id": "652e4410",
   "metadata": {},
   "outputs": [],
   "source": []
  },
  {
   "cell_type": "code",
   "execution_count": 13,
   "id": "32dfbda3",
   "metadata": {},
   "outputs": [
    {
     "name": "stdout",
     "output_type": "stream",
     "text": [
      "Enter a binary number: 110111\n"
     ]
    },
    {
     "name": "stderr",
     "output_type": "stream",
     "text": [
      "IOPub data rate exceeded.\n",
      "The notebook server will temporarily stop sending output\n",
      "to the client in order to avoid crashing it.\n",
      "To change this limit, set the config variable\n",
      "`--NotebookApp.iopub_data_rate_limit`.\n",
      "\n",
      "Current values:\n",
      "NotebookApp.iopub_data_rate_limit=1000000.0 (bytes/sec)\n",
      "NotebookApp.rate_limit_window=3.0 (secs)\n",
      "\n"
     ]
    },
    {
     "ename": "KeyboardInterrupt",
     "evalue": "",
     "output_type": "error",
     "traceback": [
      "\u001b[0;31m---------------------------------------------------------------------------\u001b[0m",
      "\u001b[0;31mKeyboardInterrupt\u001b[0m                         Traceback (most recent call last)",
      "Cell \u001b[0;32mIn[13], line 5\u001b[0m\n\u001b[1;32m      3\u001b[0m reverse \u001b[38;5;241m=\u001b[39m binary[::\u001b[38;5;241m-\u001b[39m\u001b[38;5;241m1\u001b[39m]\n\u001b[1;32m      4\u001b[0m \u001b[38;5;28;01mwhile\u001b[39;00m decimal \u001b[38;5;241m<\u001b[39m \u001b[38;5;28mint\u001b[39m(reverse):\n\u001b[0;32m----> 5\u001b[0m     \u001b[38;5;28mprint\u001b[39m(\u001b[38;5;124m\"\u001b[39m\u001b[38;5;124mThe conversion into decimal is:\u001b[39m\u001b[38;5;124m\"\u001b[39m, decimal)\n",
      "File \u001b[0;32m~/anaconda3/lib/python3.11/site-packages/ipykernel/iostream.py:553\u001b[0m, in \u001b[0;36mOutStream.write\u001b[0;34m(self, string)\u001b[0m\n\u001b[1;32m    551\u001b[0m \u001b[38;5;66;03m# only touch the buffer in the IO thread to avoid races\u001b[39;00m\n\u001b[1;32m    552\u001b[0m \u001b[38;5;28;01mwith\u001b[39;00m \u001b[38;5;28mself\u001b[39m\u001b[38;5;241m.\u001b[39m_buffer_lock:\n\u001b[0;32m--> 553\u001b[0m     \u001b[38;5;28mself\u001b[39m\u001b[38;5;241m.\u001b[39m_buffer\u001b[38;5;241m.\u001b[39mwrite(string)\n\u001b[1;32m    554\u001b[0m \u001b[38;5;28;01mif\u001b[39;00m is_child:\n\u001b[1;32m    555\u001b[0m     \u001b[38;5;66;03m# mp.Pool cannot be trusted to flush promptly (or ever),\u001b[39;00m\n\u001b[1;32m    556\u001b[0m     \u001b[38;5;66;03m# and this helps.\u001b[39;00m\n\u001b[1;32m    557\u001b[0m     \u001b[38;5;28;01mif\u001b[39;00m \u001b[38;5;28mself\u001b[39m\u001b[38;5;241m.\u001b[39m_subprocess_flush_pending:\n",
      "\u001b[0;31mKeyboardInterrupt\u001b[0m: "
     ]
    }
   ],
   "source": [
    "binary = input(\"Enter a binary number: \")\n",
    "decimal=0\n",
    "reverse = binary[::-1]\n",
    "while decimal < int(reverse):\n",
    "    print(\"The conversion into decimal is:\", decimal)"
   ]
  },
  {
   "cell_type": "code",
   "execution_count": 17,
   "id": "c9a373a2",
   "metadata": {},
   "outputs": [
    {
     "name": "stdout",
     "output_type": "stream",
     "text": [
      "Enter a decimal number: 56\n",
      "The conversion into binary  is: 111000\n"
     ]
    }
   ],
   "source": [
    "n = int(input(\"Enter a decimal number: \"))\n",
    "binary1 = ''\n",
    "\n",
    "while n > 0:\n",
    "    binary1= str(n % 2) + binary1\n",
    "    n = n // 2\n",
    "\n",
    "if binary1 == '':\n",
    "    binary1 = '0'\n",
    "\n",
    "print(\"The conversion into binary  is:\", binary1)"
   ]
  },
  {
   "cell_type": "code",
   "execution_count": 22,
   "id": "05015cd7",
   "metadata": {},
   "outputs": [
    {
     "name": "stdout",
     "output_type": "stream",
     "text": [
      "Enter a number: 8765\n",
      "it is not a palindrome.\n"
     ]
    }
   ],
   "source": [
    "n = input(\"Enter a number: \")\n",
    "if n == n[::-1]:\n",
    "    print(\"it is a palindrome.\")\n",
    "else:\n",
    "    print(\"it is not a palindrome.\")"
   ]
  },
  {
   "cell_type": "code",
   "execution_count": 23,
   "id": "3b9c04a6",
   "metadata": {},
   "outputs": [
    {
     "name": "stdout",
     "output_type": "stream",
     "text": [
      "Enter an integer: 1212\n",
      "The number is not a palindrome.\n"
     ]
    }
   ],
   "source": [
    "n = int(input(\"Enter an integer: \"))\n",
    "original = str(n)\n",
    "reversed_num = ''\n",
    "num = n\n",
    "while num > 0:\n",
    "    reversed_num += str(num % 10)\n",
    "    num = num // 10\n",
    "\n",
    "if original == reversed_num:\n",
    "    print(\"The number is palindrome.\")\n",
    "else:\n",
    "    print(\"The number is not a palindrome.\")"
   ]
  },
  {
   "cell_type": "code",
   "execution_count": 26,
   "id": "be1147a6",
   "metadata": {},
   "outputs": [
    {
     "name": "stdout",
     "output_type": "stream",
     "text": [
      "Enter an integer: 123\n",
      "The integer is not an Armstrong number.\n"
     ]
    }
   ],
   "source": [
    "n = int(input(\"Enter an integer: \"))\n",
    "s = n\n",
    "p = 0\n",
    "num_of_digits = len(str(n))\n",
    "while n > 0:\n",
    "    digit = n % 10\n",
    "    p += digit ** num_of_digits\n",
    "    n = n // 10\n",
    "if p == s:\n",
    "    print(\"The integer is an Armstrong number.\")\n",
    "else:\n",
    "    print(\"The integer is not an Armstrong number.\")"
   ]
  },
  {
   "cell_type": "code",
   "execution_count": 34,
   "id": "55d14cb8",
   "metadata": {},
   "outputs": [
    {
     "name": "stdout",
     "output_type": "stream",
     "text": [
      "1\n",
      "2\n",
      "3\n",
      "4\n",
      "5\n"
     ]
    }
   ],
   "source": [
    "#for loop\n",
    "l1=[1,2,3,4,5]\n",
    "i=0\n",
    "while i < len(l1):\n",
    "    print(l1[i])\n",
    "    i+=1"
   ]
  },
  {
   "cell_type": "code",
   "execution_count": 35,
   "id": "53354a17",
   "metadata": {},
   "outputs": [
    {
     "name": "stdout",
     "output_type": "stream",
     "text": [
      "0\n",
      "1\n",
      "2\n",
      "3\n",
      "4\n"
     ]
    }
   ],
   "source": [
    "for i in range(5):\n",
    "    print(i)"
   ]
  },
  {
   "cell_type": "code",
   "execution_count": 38,
   "id": "b4e835cf",
   "metadata": {},
   "outputs": [
    {
     "name": "stdout",
     "output_type": "stream",
     "text": [
      "1 3 5 7 9 11 13 15 17 19 21 23 25 27 29 "
     ]
    }
   ],
   "source": [
    "for i in range(1,31,2):\n",
    "    print(i,end=\" \")"
   ]
  },
  {
   "cell_type": "code",
   "execution_count": 39,
   "id": "c3dfbb06",
   "metadata": {},
   "outputs": [
    {
     "name": "stdout",
     "output_type": "stream",
     "text": [
      "0 1 2 3 4 5 6 7 8 9 "
     ]
    }
   ],
   "source": [
    "for i in range(10):\n",
    "    print(i,end=\" \")"
   ]
  },
  {
   "cell_type": "code",
   "execution_count": 40,
   "id": "1edfa4bb",
   "metadata": {},
   "outputs": [
    {
     "name": "stdout",
     "output_type": "stream",
     "text": [
      "1\n",
      "4\n",
      "7\n",
      "10\n",
      "13\n",
      "16\n",
      "19\n"
     ]
    }
   ],
   "source": [
    "for i in range(1,20,3):\n",
    "    print(i)"
   ]
  },
  {
   "cell_type": "code",
   "execution_count": 46,
   "id": "39b2a2ef",
   "metadata": {},
   "outputs": [
    {
     "name": "stdout",
     "output_type": "stream",
     "text": [
      "0\n",
      "1\n",
      "2\n",
      "3\n",
      "4\n"
     ]
    }
   ],
   "source": [
    "a=[13,34,56,87,95]\n",
    "for i in range(len(a)):\n",
    "    print(i)"
   ]
  },
  {
   "cell_type": "code",
   "execution_count": 47,
   "id": "473bc873",
   "metadata": {},
   "outputs": [
    {
     "name": "stdout",
     "output_type": "stream",
     "text": [
      "13\n",
      "34\n",
      "56\n",
      "87\n",
      "95\n"
     ]
    }
   ],
   "source": [
    "for i in range(len(a)):\n",
    "    print(a[i])"
   ]
  },
  {
   "cell_type": "code",
   "execution_count": 48,
   "id": "569b24fc",
   "metadata": {},
   "outputs": [
    {
     "name": "stdout",
     "output_type": "stream",
     "text": [
      "5.5\n"
     ]
    }
   ],
   "source": [
    "#average of first 10 number\n",
    "sum=0\n",
    "n=10\n",
    "for i in range(1,n+1):\n",
    "    sum+=i\n",
    "    avg=sum/n\n",
    "print(avg)"
   ]
  },
  {
   "cell_type": "code",
   "execution_count": 49,
   "id": "a9e49b1d",
   "metadata": {},
   "outputs": [
    {
     "ename": "SyntaxError",
     "evalue": "expected ':' (3183456047.py, line 2)",
     "output_type": "error",
     "traceback": [
      "\u001b[0;36m  Cell \u001b[0;32mIn[49], line 2\u001b[0;36m\u001b[0m\n\u001b[0;31m    for i in range()\u001b[0m\n\u001b[0m                    ^\u001b[0m\n\u001b[0;31mSyntaxError\u001b[0m\u001b[0;31m:\u001b[0m expected ':'\n"
     ]
    }
   ],
   "source": [
    "num=int(input(\"Enter the number\"))\n",
    "for i in range()"
   ]
  },
  {
   "cell_type": "code",
   "execution_count": 52,
   "id": "4293337e",
   "metadata": {},
   "outputs": [
    {
     "name": "stdout",
     "output_type": "stream",
     "text": [
      "Odd numbers: [1, 3, 5, 7, 9, 11, 13, 15, 17, 19, 21, 23, 25, 27, 29, 31, 33, 35, 37, 39, 41, 43, 45, 47, 49]\n",
      "Even numbers: [2, 4, 6, 8, 10, 12, 14, 16, 18, 20, 22, 24, 26, 28, 30, 32, 34, 36, 38, 40, 42, 44, 46, 48, 50]\n"
     ]
    }
   ],
   "source": [
    "#use for loop to separate two lists i.e odd and even\n",
    "#1 to 50\n",
    "odd = []\n",
    "even = []\n",
    "for i in range(1, 51):\n",
    "    (even if i % 2 == 0 else odd).append(i)\n",
    "print(\"Odd numbers:\", odd)\n",
    "print(\"Even numbers:\", even)"
   ]
  },
  {
   "cell_type": "code",
   "execution_count": 53,
   "id": "a55fa071",
   "metadata": {},
   "outputs": [
    {
     "name": "stdout",
     "output_type": "stream",
     "text": [
      "*\n",
      "**\n",
      "***\n",
      "****\n",
      "*****\n"
     ]
    }
   ],
   "source": [
    "#\n",
    "for i in range(1, 6):\n",
    "    print('*' * i)"
   ]
  },
  {
   "cell_type": "code",
   "execution_count": 56,
   "id": "977f5e03",
   "metadata": {},
   "outputs": [
    {
     "name": "stdout",
     "output_type": "stream",
     "text": [
      "1\n",
      "12\n",
      "123\n",
      "1234\n",
      "12345\n"
     ]
    }
   ],
   "source": [
    "for i in range(1, 6):\n",
    "    for j in range(1,i+1):\n",
    "        print(j, end='')\n",
    "    print()"
   ]
  },
  {
   "cell_type": "code",
   "execution_count": 67,
   "id": "0b89855c",
   "metadata": {},
   "outputs": [
    {
     "name": "stdout",
     "output_type": "stream",
     "text": [
      "1 \n",
      "2 3 \n",
      "4 5 6 \n",
      "7 8 9 10 \n"
     ]
    }
   ],
   "source": [
    "loop_count=0\n",
    "for i in range(1,5):\n",
    "    for j in range(i):\n",
    "        loop_count+=1\n",
    "        print(loop_count,end=\" \")\n",
    "    print()"
   ]
  },
  {
   "cell_type": "code",
   "execution_count": 68,
   "id": "a8117e03",
   "metadata": {},
   "outputs": [
    {
     "ename": "AttributeError",
     "evalue": "'list' object has no attribute 'app'",
     "output_type": "error",
     "traceback": [
      "\u001b[0;31m---------------------------------------------------------------------------\u001b[0m",
      "\u001b[0;31mAttributeError\u001b[0m                            Traceback (most recent call last)",
      "Cell \u001b[0;32mIn[68], line 5\u001b[0m\n\u001b[1;32m      3\u001b[0m \u001b[38;5;28;01mfor\u001b[39;00m i \u001b[38;5;129;01min\u001b[39;00m marks:\n\u001b[1;32m      4\u001b[0m     \u001b[38;5;28;01mif\u001b[39;00m i \u001b[38;5;241m>\u001b[39m\u001b[38;5;241m=\u001b[39m\u001b[38;5;241m50\u001b[39m:\n\u001b[0;32m----> 5\u001b[0m         grade\u001b[38;5;241m.\u001b[39mapp\n",
      "\u001b[0;31mAttributeError\u001b[0m: 'list' object has no attribute 'app'"
     ]
    }
   ],
   "source": [
    "marks=[50,80,15,30,90,45,60]\n",
    "grade=[]\n",
    "for i in marks:\n",
    "    if i >=50:\n",
    "        grade.app\n",
    "       "
   ]
  },
  {
   "cell_type": "code",
   "execution_count": 69,
   "id": "829bbb30",
   "metadata": {},
   "outputs": [
    {
     "data": {
      "text/plain": [
       "'Worl'"
      ]
     },
     "execution_count": 69,
     "metadata": {},
     "output_type": "execute_result"
    }
   ],
   "source": [
    "s='Hello World'\n",
    "s[-5:-1:1]"
   ]
  },
  {
   "cell_type": "code",
   "execution_count": 70,
   "id": "04f30841",
   "metadata": {},
   "outputs": [
    {
     "data": {
      "text/plain": [
       "'hello\\x08world'"
      ]
     },
     "execution_count": 70,
     "metadata": {},
     "output_type": "execute_result"
    }
   ],
   "source": [
    "txt=\"hello\\bworld\"\n",
    "txt"
   ]
  },
  {
   "cell_type": "code",
   "execution_count": 72,
   "id": "2bb71277",
   "metadata": {},
   "outputs": [
    {
     "name": "stdout",
     "output_type": "stream",
     "text": [
      "sara is kood kirl\n"
     ]
    }
   ],
   "source": [
    "txt='sara is good girl'\n",
    "my=str.maketrans(\"g\",\"k\")\n",
    "print(txt.translate(my))"
   ]
  },
  {
   "cell_type": "code",
   "execution_count": 73,
   "id": "c1e8fb6a",
   "metadata": {},
   "outputs": [
    {
     "name": "stdout",
     "output_type": "stream",
     "text": [
      "2xy@\n"
     ]
    }
   ],
   "source": [
    "print('2XY@'.lower())"
   ]
  },
  {
   "cell_type": "code",
   "execution_count": 74,
   "id": "e5861006",
   "metadata": {},
   "outputs": [
    {
     "name": "stdout",
     "output_type": "stream",
     "text": [
      "-1\n"
     ]
    }
   ],
   "source": [
    "txt='hello world'\n",
    "print(txt.find('a'))"
   ]
  },
  {
   "cell_type": "code",
   "execution_count": 75,
   "id": "fc8a467b",
   "metadata": {},
   "outputs": [
    {
     "data": {
      "text/plain": [
       "('inno', 'labs')"
      ]
     },
     "execution_count": 75,
     "metadata": {},
     "output_type": "execute_result"
    }
   ],
   "source": [
    "st='innomatics research and labs'\n",
    "st[:4],st[-4:]"
   ]
  },
  {
   "cell_type": "code",
   "execution_count": 76,
   "id": "9af1c959",
   "metadata": {},
   "outputs": [
    {
     "data": {
      "text/plain": [
       "'inno labs'"
      ]
     },
     "execution_count": 76,
     "metadata": {},
     "output_type": "execute_result"
    }
   ],
   "source": [
    "st[:4]+' '+st[-4:]"
   ]
  },
  {
   "cell_type": "code",
   "execution_count": 77,
   "id": "8d47a201",
   "metadata": {},
   "outputs": [
    {
     "name": "stdout",
     "output_type": "stream",
     "text": [
      "True\n"
     ]
    }
   ],
   "source": [
    "s='foo'\n",
    "t='bar'\n",
    "print('barf' in 2*(s+t))"
   ]
  },
  {
   "cell_type": "code",
   "execution_count": 79,
   "id": "34d641fc",
   "metadata": {},
   "outputs": [
    {
     "data": {
      "text/plain": [
       "'$@hel@$lo@$'"
      ]
     },
     "execution_count": 79,
     "metadata": {},
     "output_type": "execute_result"
    }
   ],
   "source": [
    "a=' $@hel@$lo@$ '\n",
    "a.strip()"
   ]
  },
  {
   "cell_type": "code",
   "execution_count": 81,
   "id": "c006c50a",
   "metadata": {},
   "outputs": [
    {
     "ename": "NameError",
     "evalue": "name 'swapcase' is not defined",
     "output_type": "error",
     "traceback": [
      "\u001b[0;31m---------------------------------------------------------------------------\u001b[0m",
      "\u001b[0;31mNameError\u001b[0m                                 Traceback (most recent call last)",
      "Cell \u001b[0;32mIn[81], line 2\u001b[0m\n\u001b[1;32m      1\u001b[0m a\u001b[38;5;241m=\u001b[39m\u001b[38;5;124m'\u001b[39m\u001b[38;5;124mhim\u001b[39m\u001b[38;5;124m'\u001b[39m\n\u001b[0;32m----> 2\u001b[0m swapcase(a)\n",
      "\u001b[0;31mNameError\u001b[0m: name 'swapcase' is not defined"
     ]
    }
   ],
   "source": [
    "a='him'\n",
    "swapcase(a)"
   ]
  },
  {
   "cell_type": "code",
   "execution_count": 1,
   "id": "c0f7c7f9",
   "metadata": {},
   "outputs": [
    {
     "name": "stdout",
     "output_type": "stream",
     "text": [
      "x is less than y\n"
     ]
    }
   ],
   "source": [
    "x=10\n",
    "y=20\n",
    "while x<y:\n",
    "    print('x is less than y')\n",
    "    break"
   ]
  },
  {
   "cell_type": "code",
   "execution_count": 4,
   "id": "bc9ee614",
   "metadata": {},
   "outputs": [
    {
     "name": "stdout",
     "output_type": "stream",
     "text": [
      "*****\n",
      "****\n"
     ]
    }
   ],
   "source": [
    "stars = 5\n",
    "\n",
    "while True:\n",
    "    if stars == 6:\n",
    "        print('******')\n",
    "    elif stars == 5:\n",
    "        print('*****')\n",
    "    elif stars == 4:\n",
    "        print('****')\n",
    "    \n",
    "    stars -= 1\n",
    "\n",
    "    if stars < 3:\n",
    "        break"
   ]
  },
  {
   "cell_type": "code",
   "execution_count": null,
   "id": "0468f1e1",
   "metadata": {},
   "outputs": [],
   "source": [
    "i=5\n",
    "while i>0:\n",
    "    if i ==4:\n",
    "        break\n",
    "        print(\"*\"*1)\n",
    "        i=i-1\n",
    "        "
   ]
  },
  {
   "cell_type": "code",
   "execution_count": null,
   "id": "1afec3b2",
   "metadata": {},
   "outputs": [],
   "source": [
    "data=[1,9,7,6,5,8,15,12,13,-4,-8,3,2,1]\n",
    "for element in data:\n",
    "    if element < 0:\n",
    "        break\n",
    "    print(element)"
   ]
  },
  {
   "cell_type": "code",
   "execution_count": null,
   "id": "d2bd72a4",
   "metadata": {},
   "outputs": [],
   "source": [
    "#continue\n"
   ]
  }
 ],
 "metadata": {
  "kernelspec": {
   "display_name": "Python 3 (ipykernel)",
   "language": "python",
   "name": "python3"
  },
  "language_info": {
   "codemirror_mode": {
    "name": "ipython",
    "version": 3
   },
   "file_extension": ".py",
   "mimetype": "text/x-python",
   "name": "python",
   "nbconvert_exporter": "python",
   "pygments_lexer": "ipython3",
   "version": "3.11.4"
  }
 },
 "nbformat": 4,
 "nbformat_minor": 5
}
